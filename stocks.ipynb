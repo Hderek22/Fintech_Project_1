{
 "cells": [
  {
   "cell_type": "code",
   "execution_count": 1,
   "id": "7112315f-7c97-4782-a1cb-b1aadf69c9d1",
   "metadata": {},
   "outputs": [],
   "source": [
    "def stocks(stock1, stock2):\n",
    "    sum = stock1 + stock2\n",
    "    return sum\n",
    "def stocks(stock1, stock2):\n",
    "    sum = stock1 + stock2\n",
    "    return sum"
   ]
  },
  {
   "cell_type": "code",
   "execution_count": null,
   "id": "43ef5193-5570-4dac-a008-dddf33694bc9",
   "metadata": {},
   "outputs": [],
   "source": []
  }
 ],
 "metadata": {
  "kernelspec": {
   "display_name": "Python 3 (ipykernel)",
   "language": "python",
   "name": "python3"
  },
  "language_info": {
   "codemirror_mode": {
    "name": "ipython",
    "version": 3
   },
   "file_extension": ".py",
   "mimetype": "text/x-python",
   "name": "python",
   "nbconvert_exporter": "python",
   "pygments_lexer": "ipython3",
   "version": "3.7.11"
  }
 },
 "nbformat": 4,
 "nbformat_minor": 5
}
