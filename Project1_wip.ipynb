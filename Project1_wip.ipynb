{
 "cells": [
  {
   "cell_type": "code",
   "execution_count": 1,
   "id": "c410b722-062f-4f97-a63f-2cf0569f47cd",
   "metadata": {
    "tags": []
   },
   "outputs": [],
   "source": [
    "# import modules to be used\n",
    "\n",
    "import plotly\n",
    "import plotly.express as px\n",
    "import pandas as pd\n",
    "import country_converter as coco\n"
   ]
  },
  {
   "cell_type": "code",
   "execution_count": 2,
   "id": "9d15ffe9-c796-4458-ae25-e7691c401d17",
   "metadata": {
    "tags": []
   },
   "outputs": [
    {
     "data": {
      "text/html": [
       "<div>\n",
       "<style scoped>\n",
       "    .dataframe tbody tr th:only-of-type {\n",
       "        vertical-align: middle;\n",
       "    }\n",
       "\n",
       "    .dataframe tbody tr th {\n",
       "        vertical-align: top;\n",
       "    }\n",
       "\n",
       "    .dataframe thead th {\n",
       "        text-align: right;\n",
       "    }\n",
       "</style>\n",
       "<table border=\"1\" class=\"dataframe\">\n",
       "  <thead>\n",
       "    <tr style=\"text-align: right;\">\n",
       "      <th></th>\n",
       "      <th>0</th>\n",
       "      <th>1</th>\n",
       "      <th>2</th>\n",
       "      <th>3</th>\n",
       "      <th>4</th>\n",
       "      <th>5</th>\n",
       "      <th>6</th>\n",
       "      <th>7</th>\n",
       "      <th>8</th>\n",
       "      <th>9</th>\n",
       "      <th>...</th>\n",
       "      <th>21</th>\n",
       "      <th>22</th>\n",
       "      <th>23</th>\n",
       "      <th>24</th>\n",
       "      <th>25</th>\n",
       "      <th>26</th>\n",
       "      <th>27</th>\n",
       "      <th>28</th>\n",
       "      <th>29</th>\n",
       "      <th>30</th>\n",
       "    </tr>\n",
       "  </thead>\n",
       "  <tbody>\n",
       "    <tr>\n",
       "      <th>0</th>\n",
       "      <td>id</td>\n",
       "      <td>name</td>\n",
       "      <td>logo_url</td>\n",
       "      <td>transparency_grade</td>\n",
       "      <td>coverage_type</td>\n",
       "      <td>order_books</td>\n",
       "      <td>first_trade</td>\n",
       "      <td>first_candle</td>\n",
       "      <td>first_order_book</td>\n",
       "      <td>num_pairs</td>\n",
       "      <td>...</td>\n",
       "      <td>1d.trades_change</td>\n",
       "      <td>1d.trades_change_pct</td>\n",
       "      <td>1d.spot_volume</td>\n",
       "      <td>1d.spot_volume_change</td>\n",
       "      <td>1d.spot_volume_change_pct</td>\n",
       "      <td>1d.derivative_volume</td>\n",
       "      <td>1d.derivative_volume_change</td>\n",
       "      <td>1d.derivative_volume_change_pct</td>\n",
       "      <td>location</td>\n",
       "      <td>website_url</td>\n",
       "    </tr>\n",
       "    <tr>\n",
       "      <th>1</th>\n",
       "      <td>binance</td>\n",
       "      <td>Binance</td>\n",
       "      <td>https://s3.us-east-2.amazonaws.com/nomics-api/...</td>\n",
       "      <td>A</td>\n",
       "      <td>trades</td>\n",
       "      <td>true</td>\n",
       "      <td>2017-07-13T00:00:00Z</td>\n",
       "      <td>2017-07-13T00:00:00Z</td>\n",
       "      <td>2018-08-29T00:00:00Z</td>\n",
       "      <td>2135</td>\n",
       "      <td>...</td>\n",
       "      <td>-4183892</td>\n",
       "      <td>-0.0885</td>\n",
       "      <td>13040185693.24</td>\n",
       "      <td>-1190569292.74</td>\n",
       "      <td>-0.0837</td>\n",
       "      <td>21928712277.93</td>\n",
       "      <td>-1483202948.83</td>\n",
       "      <td>-0.0634</td>\n",
       "      <td>Malta</td>\n",
       "      <td>https://www.binance.com/</td>\n",
       "    </tr>\n",
       "    <tr>\n",
       "      <th>2</th>\n",
       "      <td>ftx</td>\n",
       "      <td>FTX</td>\n",
       "      <td>https://s3.us-east-2.amazonaws.com/nomics-api/...</td>\n",
       "      <td>A</td>\n",
       "      <td>trades</td>\n",
       "      <td>true</td>\n",
       "      <td>2019-03-05T00:00:00Z</td>\n",
       "      <td>2019-03-05T00:00:00Z</td>\n",
       "      <td>2019-10-15T00:00:00Z</td>\n",
       "      <td>1944</td>\n",
       "      <td>...</td>\n",
       "      <td>-335104</td>\n",
       "      <td>-0.0388</td>\n",
       "      <td>1863078722.55</td>\n",
       "      <td>147077284.39</td>\n",
       "      <td>0.0857</td>\n",
       "      <td>15949880900.17</td>\n",
       "      <td>5437599467.31</td>\n",
       "      <td>0.5173</td>\n",
       "      <td>Antigua and Barbuda</td>\n",
       "      <td>https://ftx.com/</td>\n",
       "    </tr>\n",
       "    <tr>\n",
       "      <th>3</th>\n",
       "      <td>cryptomkt</td>\n",
       "      <td>CryptoMarket</td>\n",
       "      <td>https://s3.us-east-2.amazonaws.com/nomics-api/...</td>\n",
       "      <td>A</td>\n",
       "      <td>trades</td>\n",
       "      <td>true</td>\n",
       "      <td>2013-12-27T00:00:00Z</td>\n",
       "      <td>2013-12-27T00:00:00Z</td>\n",
       "      <td>2021-12-01T00:00:00Z</td>\n",
       "      <td>149</td>\n",
       "      <td>...</td>\n",
       "      <td>-24289</td>\n",
       "      <td>-0.0455</td>\n",
       "      <td>3133990568.90</td>\n",
       "      <td>-274230807.25</td>\n",
       "      <td>-0.0805</td>\n",
       "      <td>NaN</td>\n",
       "      <td>NaN</td>\n",
       "      <td>NaN</td>\n",
       "      <td>Chile</td>\n",
       "      <td>https://www.cryptomkt.com/</td>\n",
       "    </tr>\n",
       "    <tr>\n",
       "      <th>4</th>\n",
       "      <td>gdax</td>\n",
       "      <td>Coinbase Exchange</td>\n",
       "      <td>https://s3.us-east-2.amazonaws.com/nomics-api/...</td>\n",
       "      <td>A</td>\n",
       "      <td>trades</td>\n",
       "      <td>true</td>\n",
       "      <td>2014-12-01T00:00:00Z</td>\n",
       "      <td>2014-12-01T00:00:00Z</td>\n",
       "      <td>2018-09-11T00:00:00Z</td>\n",
       "      <td>434</td>\n",
       "      <td>...</td>\n",
       "      <td>-137715</td>\n",
       "      <td>-0.0300</td>\n",
       "      <td>3075137778.04</td>\n",
       "      <td>-135887665.72</td>\n",
       "      <td>-0.0423</td>\n",
       "      <td>NaN</td>\n",
       "      <td>NaN</td>\n",
       "      <td>NaN</td>\n",
       "      <td>United States</td>\n",
       "      <td>https://www.coinbase.com/</td>\n",
       "    </tr>\n",
       "    <tr>\n",
       "      <th>...</th>\n",
       "      <td>...</td>\n",
       "      <td>...</td>\n",
       "      <td>...</td>\n",
       "      <td>...</td>\n",
       "      <td>...</td>\n",
       "      <td>...</td>\n",
       "      <td>...</td>\n",
       "      <td>...</td>\n",
       "      <td>...</td>\n",
       "      <td>...</td>\n",
       "      <td>...</td>\n",
       "      <td>...</td>\n",
       "      <td>...</td>\n",
       "      <td>...</td>\n",
       "      <td>...</td>\n",
       "      <td>...</td>\n",
       "      <td>...</td>\n",
       "      <td>...</td>\n",
       "      <td>...</td>\n",
       "      <td>...</td>\n",
       "      <td>...</td>\n",
       "    </tr>\n",
       "    <tr>\n",
       "      <th>96</th>\n",
       "      <td>empiredex_bsc</td>\n",
       "      <td>Empire DEX (BSC)</td>\n",
       "      <td>https://s3.us-east-2.amazonaws.com/nomics-api/...</td>\n",
       "      <td>A</td>\n",
       "      <td>trades</td>\n",
       "      <td>true</td>\n",
       "      <td>2021-08-07T00:00:00Z</td>\n",
       "      <td>2021-08-07T00:00:00Z</td>\n",
       "      <td>2021-10-27T00:00:00Z</td>\n",
       "      <td>21</td>\n",
       "      <td>...</td>\n",
       "      <td>-41</td>\n",
       "      <td>-0.3868</td>\n",
       "      <td>12952.09</td>\n",
       "      <td>-3772.80</td>\n",
       "      <td>-0.2256</td>\n",
       "      <td>NaN</td>\n",
       "      <td>NaN</td>\n",
       "      <td>NaN</td>\n",
       "      <td>NaN</td>\n",
       "      <td>https://www.empiredex.org</td>\n",
       "    </tr>\n",
       "    <tr>\n",
       "      <th>97</th>\n",
       "      <td>qtrade</td>\n",
       "      <td>qTrade</td>\n",
       "      <td>https://s3.us-east-2.amazonaws.com/nomics-api/...</td>\n",
       "      <td>A</td>\n",
       "      <td>trades</td>\n",
       "      <td>true</td>\n",
       "      <td>2018-04-27T00:00:00Z</td>\n",
       "      <td>2018-04-27T00:00:00Z</td>\n",
       "      <td>2020-02-10T00:00:00Z</td>\n",
       "      <td>53</td>\n",
       "      <td>...</td>\n",
       "      <td>11</td>\n",
       "      <td>0.0764</td>\n",
       "      <td>11062.43</td>\n",
       "      <td>2714.30</td>\n",
       "      <td>0.3251</td>\n",
       "      <td>NaN</td>\n",
       "      <td>NaN</td>\n",
       "      <td>NaN</td>\n",
       "      <td>United States</td>\n",
       "      <td>https://qtrade.io</td>\n",
       "    </tr>\n",
       "    <tr>\n",
       "      <th>98</th>\n",
       "      <td>levinswap</td>\n",
       "      <td>Levinswap</td>\n",
       "      <td>https://s3.us-east-2.amazonaws.com/nomics-api/...</td>\n",
       "      <td>A</td>\n",
       "      <td>trades</td>\n",
       "      <td>true</td>\n",
       "      <td>2021-01-16T00:00:00Z</td>\n",
       "      <td>2021-01-16T00:00:00Z</td>\n",
       "      <td>2021-10-27T00:00:00Z</td>\n",
       "      <td>63</td>\n",
       "      <td>...</td>\n",
       "      <td>-135</td>\n",
       "      <td>-0.0959</td>\n",
       "      <td>6530.57</td>\n",
       "      <td>2660.55</td>\n",
       "      <td>0.6875</td>\n",
       "      <td>NaN</td>\n",
       "      <td>NaN</td>\n",
       "      <td>NaN</td>\n",
       "      <td>NaN</td>\n",
       "      <td>https://levinswap.org</td>\n",
       "    </tr>\n",
       "    <tr>\n",
       "      <th>99</th>\n",
       "      <td>baguette</td>\n",
       "      <td>Baguette</td>\n",
       "      <td>https://s3.us-east-2.amazonaws.com/nomics-api/...</td>\n",
       "      <td>A</td>\n",
       "      <td>trades</td>\n",
       "      <td>true</td>\n",
       "      <td>2021-04-30T00:00:00Z</td>\n",
       "      <td>2021-04-30T00:00:00Z</td>\n",
       "      <td>2021-10-27T00:00:00Z</td>\n",
       "      <td>54</td>\n",
       "      <td>...</td>\n",
       "      <td>-30</td>\n",
       "      <td>-0.2400</td>\n",
       "      <td>5209.10</td>\n",
       "      <td>1641.52</td>\n",
       "      <td>0.4601</td>\n",
       "      <td>NaN</td>\n",
       "      <td>NaN</td>\n",
       "      <td>NaN</td>\n",
       "      <td>NaN</td>\n",
       "      <td>https://baguette.exchange</td>\n",
       "    </tr>\n",
       "    <tr>\n",
       "      <th>100</th>\n",
       "      <td>honeyswap_polygon</td>\n",
       "      <td>Honeyswap (Polygon)</td>\n",
       "      <td>https://s3.us-east-2.amazonaws.com/nomics-api/...</td>\n",
       "      <td>A</td>\n",
       "      <td>trades</td>\n",
       "      <td>true</td>\n",
       "      <td>2021-05-23T00:00:00Z</td>\n",
       "      <td>2021-05-23T00:00:00Z</td>\n",
       "      <td>2021-10-27T00:00:00Z</td>\n",
       "      <td>102</td>\n",
       "      <td>...</td>\n",
       "      <td>-102</td>\n",
       "      <td>-0.3366</td>\n",
       "      <td>4347.60</td>\n",
       "      <td>-1892.23</td>\n",
       "      <td>-0.3032</td>\n",
       "      <td>NaN</td>\n",
       "      <td>NaN</td>\n",
       "      <td>NaN</td>\n",
       "      <td>NaN</td>\n",
       "      <td>https://honeyswap.org/</td>\n",
       "    </tr>\n",
       "  </tbody>\n",
       "</table>\n",
       "<p>101 rows × 31 columns</p>\n",
       "</div>"
      ],
      "text/plain": [
       "                    0                    1   \\\n",
       "0                   id                 name   \n",
       "1              binance              Binance   \n",
       "2                  ftx                  FTX   \n",
       "3            cryptomkt         CryptoMarket   \n",
       "4                 gdax    Coinbase Exchange   \n",
       "..                 ...                  ...   \n",
       "96       empiredex_bsc     Empire DEX (BSC)   \n",
       "97              qtrade               qTrade   \n",
       "98           levinswap            Levinswap   \n",
       "99            baguette             Baguette   \n",
       "100  honeyswap_polygon  Honeyswap (Polygon)   \n",
       "\n",
       "                                                    2                   3   \\\n",
       "0                                             logo_url  transparency_grade   \n",
       "1    https://s3.us-east-2.amazonaws.com/nomics-api/...                   A   \n",
       "2    https://s3.us-east-2.amazonaws.com/nomics-api/...                   A   \n",
       "3    https://s3.us-east-2.amazonaws.com/nomics-api/...                   A   \n",
       "4    https://s3.us-east-2.amazonaws.com/nomics-api/...                   A   \n",
       "..                                                 ...                 ...   \n",
       "96   https://s3.us-east-2.amazonaws.com/nomics-api/...                   A   \n",
       "97   https://s3.us-east-2.amazonaws.com/nomics-api/...                   A   \n",
       "98   https://s3.us-east-2.amazonaws.com/nomics-api/...                   A   \n",
       "99   https://s3.us-east-2.amazonaws.com/nomics-api/...                   A   \n",
       "100  https://s3.us-east-2.amazonaws.com/nomics-api/...                   A   \n",
       "\n",
       "                4            5                     6                     7   \\\n",
       "0    coverage_type  order_books           first_trade          first_candle   \n",
       "1           trades         true  2017-07-13T00:00:00Z  2017-07-13T00:00:00Z   \n",
       "2           trades         true  2019-03-05T00:00:00Z  2019-03-05T00:00:00Z   \n",
       "3           trades         true  2013-12-27T00:00:00Z  2013-12-27T00:00:00Z   \n",
       "4           trades         true  2014-12-01T00:00:00Z  2014-12-01T00:00:00Z   \n",
       "..             ...          ...                   ...                   ...   \n",
       "96          trades         true  2021-08-07T00:00:00Z  2021-08-07T00:00:00Z   \n",
       "97          trades         true  2018-04-27T00:00:00Z  2018-04-27T00:00:00Z   \n",
       "98          trades         true  2021-01-16T00:00:00Z  2021-01-16T00:00:00Z   \n",
       "99          trades         true  2021-04-30T00:00:00Z  2021-04-30T00:00:00Z   \n",
       "100         trades         true  2021-05-23T00:00:00Z  2021-05-23T00:00:00Z   \n",
       "\n",
       "                       8          9   ...                21  \\\n",
       "0        first_order_book  num_pairs  ...  1d.trades_change   \n",
       "1    2018-08-29T00:00:00Z       2135  ...          -4183892   \n",
       "2    2019-10-15T00:00:00Z       1944  ...           -335104   \n",
       "3    2021-12-01T00:00:00Z        149  ...            -24289   \n",
       "4    2018-09-11T00:00:00Z        434  ...           -137715   \n",
       "..                    ...        ...  ...               ...   \n",
       "96   2021-10-27T00:00:00Z         21  ...               -41   \n",
       "97   2020-02-10T00:00:00Z         53  ...                11   \n",
       "98   2021-10-27T00:00:00Z         63  ...              -135   \n",
       "99   2021-10-27T00:00:00Z         54  ...               -30   \n",
       "100  2021-10-27T00:00:00Z        102  ...              -102   \n",
       "\n",
       "                       22              23                     24  \\\n",
       "0    1d.trades_change_pct  1d.spot_volume  1d.spot_volume_change   \n",
       "1                 -0.0885  13040185693.24         -1190569292.74   \n",
       "2                 -0.0388   1863078722.55           147077284.39   \n",
       "3                 -0.0455   3133990568.90          -274230807.25   \n",
       "4                 -0.0300   3075137778.04          -135887665.72   \n",
       "..                    ...             ...                    ...   \n",
       "96                -0.3868        12952.09               -3772.80   \n",
       "97                 0.0764        11062.43                2714.30   \n",
       "98                -0.0959         6530.57                2660.55   \n",
       "99                -0.2400         5209.10                1641.52   \n",
       "100               -0.3366         4347.60               -1892.23   \n",
       "\n",
       "                            25                    26  \\\n",
       "0    1d.spot_volume_change_pct  1d.derivative_volume   \n",
       "1                      -0.0837        21928712277.93   \n",
       "2                       0.0857        15949880900.17   \n",
       "3                      -0.0805                   NaN   \n",
       "4                      -0.0423                   NaN   \n",
       "..                         ...                   ...   \n",
       "96                     -0.2256                   NaN   \n",
       "97                      0.3251                   NaN   \n",
       "98                      0.6875                   NaN   \n",
       "99                      0.4601                   NaN   \n",
       "100                    -0.3032                   NaN   \n",
       "\n",
       "                              27                               28  \\\n",
       "0    1d.derivative_volume_change  1d.derivative_volume_change_pct   \n",
       "1                 -1483202948.83                          -0.0634   \n",
       "2                  5437599467.31                           0.5173   \n",
       "3                            NaN                              NaN   \n",
       "4                            NaN                              NaN   \n",
       "..                           ...                              ...   \n",
       "96                           NaN                              NaN   \n",
       "97                           NaN                              NaN   \n",
       "98                           NaN                              NaN   \n",
       "99                           NaN                              NaN   \n",
       "100                          NaN                              NaN   \n",
       "\n",
       "                      29                          30  \n",
       "0               location                 website_url  \n",
       "1                  Malta    https://www.binance.com/  \n",
       "2    Antigua and Barbuda            https://ftx.com/  \n",
       "3                  Chile  https://www.cryptomkt.com/  \n",
       "4          United States   https://www.coinbase.com/  \n",
       "..                   ...                         ...  \n",
       "96                   NaN   https://www.empiredex.org  \n",
       "97         United States           https://qtrade.io  \n",
       "98                   NaN       https://levinswap.org  \n",
       "99                   NaN   https://baguette.exchange  \n",
       "100                  NaN      https://honeyswap.org/  \n",
       "\n",
       "[101 rows x 31 columns]"
      ]
     },
     "execution_count": 2,
     "metadata": {},
     "output_type": "execute_result"
    }
   ],
   "source": [
    "# load CSV file with header and index parameters\n",
    "country_data = pd.read_csv('Nomics.csv',\n",
    "                           header = None)\n",
    "country_data"
   ]
  },
  {
   "cell_type": "markdown",
   "id": "8a459b80-20ac-4cbe-ab3d-843086245b34",
   "metadata": {},
   "source": [
    "### Clean up data"
   ]
  },
  {
   "cell_type": "code",
   "execution_count": 3,
   "id": "4e7ca1cb-949c-48ca-8aa8-ad6daa5c5056",
   "metadata": {
    "tags": []
   },
   "outputs": [
    {
     "data": {
      "text/html": [
       "<div>\n",
       "<style scoped>\n",
       "    .dataframe tbody tr th:only-of-type {\n",
       "        vertical-align: middle;\n",
       "    }\n",
       "\n",
       "    .dataframe tbody tr th {\n",
       "        vertical-align: top;\n",
       "    }\n",
       "\n",
       "    .dataframe thead th {\n",
       "        text-align: right;\n",
       "    }\n",
       "</style>\n",
       "<table border=\"1\" class=\"dataframe\">\n",
       "  <thead>\n",
       "    <tr style=\"text-align: right;\">\n",
       "      <th></th>\n",
       "      <th>1</th>\n",
       "      <th>23</th>\n",
       "      <th>28</th>\n",
       "      <th>29</th>\n",
       "      <th>30</th>\n",
       "    </tr>\n",
       "  </thead>\n",
       "  <tbody>\n",
       "    <tr>\n",
       "      <th>0</th>\n",
       "      <td>name</td>\n",
       "      <td>1d.spot_volume</td>\n",
       "      <td>1d.derivative_volume_change_pct</td>\n",
       "      <td>location</td>\n",
       "      <td>website_url</td>\n",
       "    </tr>\n",
       "    <tr>\n",
       "      <th>1</th>\n",
       "      <td>Binance</td>\n",
       "      <td>13040185693.24</td>\n",
       "      <td>-0.0634</td>\n",
       "      <td>Malta</td>\n",
       "      <td>https://www.binance.com/</td>\n",
       "    </tr>\n",
       "    <tr>\n",
       "      <th>2</th>\n",
       "      <td>FTX</td>\n",
       "      <td>1863078722.55</td>\n",
       "      <td>0.5173</td>\n",
       "      <td>Antigua and Barbuda</td>\n",
       "      <td>https://ftx.com/</td>\n",
       "    </tr>\n",
       "    <tr>\n",
       "      <th>3</th>\n",
       "      <td>CryptoMarket</td>\n",
       "      <td>3133990568.90</td>\n",
       "      <td>NaN</td>\n",
       "      <td>Chile</td>\n",
       "      <td>https://www.cryptomkt.com/</td>\n",
       "    </tr>\n",
       "    <tr>\n",
       "      <th>4</th>\n",
       "      <td>Coinbase Exchange</td>\n",
       "      <td>3075137778.04</td>\n",
       "      <td>NaN</td>\n",
       "      <td>United States</td>\n",
       "      <td>https://www.coinbase.com/</td>\n",
       "    </tr>\n",
       "    <tr>\n",
       "      <th>...</th>\n",
       "      <td>...</td>\n",
       "      <td>...</td>\n",
       "      <td>...</td>\n",
       "      <td>...</td>\n",
       "      <td>...</td>\n",
       "    </tr>\n",
       "    <tr>\n",
       "      <th>96</th>\n",
       "      <td>Empire DEX (BSC)</td>\n",
       "      <td>12952.09</td>\n",
       "      <td>NaN</td>\n",
       "      <td>NaN</td>\n",
       "      <td>https://www.empiredex.org</td>\n",
       "    </tr>\n",
       "    <tr>\n",
       "      <th>97</th>\n",
       "      <td>qTrade</td>\n",
       "      <td>11062.43</td>\n",
       "      <td>NaN</td>\n",
       "      <td>United States</td>\n",
       "      <td>https://qtrade.io</td>\n",
       "    </tr>\n",
       "    <tr>\n",
       "      <th>98</th>\n",
       "      <td>Levinswap</td>\n",
       "      <td>6530.57</td>\n",
       "      <td>NaN</td>\n",
       "      <td>NaN</td>\n",
       "      <td>https://levinswap.org</td>\n",
       "    </tr>\n",
       "    <tr>\n",
       "      <th>99</th>\n",
       "      <td>Baguette</td>\n",
       "      <td>5209.10</td>\n",
       "      <td>NaN</td>\n",
       "      <td>NaN</td>\n",
       "      <td>https://baguette.exchange</td>\n",
       "    </tr>\n",
       "    <tr>\n",
       "      <th>100</th>\n",
       "      <td>Honeyswap (Polygon)</td>\n",
       "      <td>4347.60</td>\n",
       "      <td>NaN</td>\n",
       "      <td>NaN</td>\n",
       "      <td>https://honeyswap.org/</td>\n",
       "    </tr>\n",
       "  </tbody>\n",
       "</table>\n",
       "<p>101 rows × 5 columns</p>\n",
       "</div>"
      ],
      "text/plain": [
       "                      1               23                               28  \\\n",
       "0                   name  1d.spot_volume  1d.derivative_volume_change_pct   \n",
       "1                Binance  13040185693.24                          -0.0634   \n",
       "2                    FTX   1863078722.55                           0.5173   \n",
       "3           CryptoMarket   3133990568.90                              NaN   \n",
       "4      Coinbase Exchange   3075137778.04                              NaN   \n",
       "..                   ...             ...                              ...   \n",
       "96      Empire DEX (BSC)        12952.09                              NaN   \n",
       "97                qTrade        11062.43                              NaN   \n",
       "98             Levinswap         6530.57                              NaN   \n",
       "99              Baguette         5209.10                              NaN   \n",
       "100  Honeyswap (Polygon)         4347.60                              NaN   \n",
       "\n",
       "                      29                          30  \n",
       "0               location                 website_url  \n",
       "1                  Malta    https://www.binance.com/  \n",
       "2    Antigua and Barbuda            https://ftx.com/  \n",
       "3                  Chile  https://www.cryptomkt.com/  \n",
       "4          United States   https://www.coinbase.com/  \n",
       "..                   ...                         ...  \n",
       "96                   NaN   https://www.empiredex.org  \n",
       "97         United States           https://qtrade.io  \n",
       "98                   NaN       https://levinswap.org  \n",
       "99                   NaN   https://baguette.exchange  \n",
       "100                  NaN      https://honeyswap.org/  \n",
       "\n",
       "[101 rows x 5 columns]"
      ]
     },
     "execution_count": 3,
     "metadata": {},
     "output_type": "execute_result"
    }
   ],
   "source": [
    "exchange_data = country_data.drop([0,2,3,4,5,6,7,8,9,10,11,12,13,14,15,16,17,18,19,20,21,22,24,25,26,27], axis=True)\n",
    "exchange_data"
   ]
  },
  {
   "cell_type": "code",
   "execution_count": 4,
   "id": "290b2199-fae0-4776-ac9f-fadaa2a0509b",
   "metadata": {
    "tags": []
   },
   "outputs": [
    {
     "data": {
      "text/plain": [
       "0      False\n",
       "1      False\n",
       "2      False\n",
       "3      False\n",
       "4      False\n",
       "       ...  \n",
       "96      True\n",
       "97     False\n",
       "98      True\n",
       "99      True\n",
       "100     True\n",
       "Name: 29, Length: 101, dtype: bool"
      ]
     },
     "execution_count": 4,
     "metadata": {},
     "output_type": "execute_result"
    }
   ],
   "source": [
    "# check missing data in location column\n",
    "exchange_data.iloc[:,-2].isnull()"
   ]
  },
  {
   "cell_type": "code",
   "execution_count": 5,
   "id": "d661d5a3-dafa-4f38-b0c7-cb560f2d011c",
   "metadata": {
    "tags": []
   },
   "outputs": [
    {
     "data": {
      "text/plain": [
       "1      0\n",
       "23     3\n",
       "28    90\n",
       "29    52\n",
       "30     0\n",
       "dtype: int64"
      ]
     },
     "execution_count": 5,
     "metadata": {},
     "output_type": "execute_result"
    }
   ],
   "source": [
    "exchange_data.isnull().sum()"
   ]
  },
  {
   "cell_type": "code",
   "execution_count": 6,
   "id": "6151fbd5-64ed-4d61-a630-eab23bf98b43",
   "metadata": {
    "tags": []
   },
   "outputs": [
    {
     "data": {
      "text/html": [
       "<div>\n",
       "<style scoped>\n",
       "    .dataframe tbody tr th:only-of-type {\n",
       "        vertical-align: middle;\n",
       "    }\n",
       "\n",
       "    .dataframe tbody tr th {\n",
       "        vertical-align: top;\n",
       "    }\n",
       "\n",
       "    .dataframe thead th {\n",
       "        text-align: right;\n",
       "    }\n",
       "</style>\n",
       "<table border=\"1\" class=\"dataframe\">\n",
       "  <thead>\n",
       "    <tr style=\"text-align: right;\">\n",
       "      <th></th>\n",
       "      <th>name</th>\n",
       "      <th>volume</th>\n",
       "      <th>continent</th>\n",
       "      <th>country</th>\n",
       "      <th>website</th>\n",
       "    </tr>\n",
       "  </thead>\n",
       "  <tbody>\n",
       "    <tr>\n",
       "      <th>0</th>\n",
       "      <td>name</td>\n",
       "      <td>1d.spot_volume</td>\n",
       "      <td>1d.derivative_volume_change_pct</td>\n",
       "      <td>location</td>\n",
       "      <td>website_url</td>\n",
       "    </tr>\n",
       "    <tr>\n",
       "      <th>1</th>\n",
       "      <td>Binance</td>\n",
       "      <td>13040185693.24</td>\n",
       "      <td>-0.0634</td>\n",
       "      <td>Malta</td>\n",
       "      <td>https://www.binance.com/</td>\n",
       "    </tr>\n",
       "    <tr>\n",
       "      <th>2</th>\n",
       "      <td>FTX</td>\n",
       "      <td>1863078722.55</td>\n",
       "      <td>0.5173</td>\n",
       "      <td>Antigua and Barbuda</td>\n",
       "      <td>https://ftx.com/</td>\n",
       "    </tr>\n",
       "    <tr>\n",
       "      <th>3</th>\n",
       "      <td>CryptoMarket</td>\n",
       "      <td>3133990568.90</td>\n",
       "      <td>NaN</td>\n",
       "      <td>Chile</td>\n",
       "      <td>https://www.cryptomkt.com/</td>\n",
       "    </tr>\n",
       "    <tr>\n",
       "      <th>4</th>\n",
       "      <td>Coinbase Exchange</td>\n",
       "      <td>3075137778.04</td>\n",
       "      <td>NaN</td>\n",
       "      <td>United States</td>\n",
       "      <td>https://www.coinbase.com/</td>\n",
       "    </tr>\n",
       "  </tbody>\n",
       "</table>\n",
       "</div>"
      ],
      "text/plain": [
       "                name          volume                        continent  \\\n",
       "0               name  1d.spot_volume  1d.derivative_volume_change_pct   \n",
       "1            Binance  13040185693.24                          -0.0634   \n",
       "2                FTX   1863078722.55                           0.5173   \n",
       "3       CryptoMarket   3133990568.90                              NaN   \n",
       "4  Coinbase Exchange   3075137778.04                              NaN   \n",
       "\n",
       "               country                     website  \n",
       "0             location                 website_url  \n",
       "1                Malta    https://www.binance.com/  \n",
       "2  Antigua and Barbuda            https://ftx.com/  \n",
       "3                Chile  https://www.cryptomkt.com/  \n",
       "4        United States   https://www.coinbase.com/  "
      ]
     },
     "execution_count": 6,
     "metadata": {},
     "output_type": "execute_result"
    }
   ],
   "source": [
    "#rename columns\n",
    "exchange_data = exchange_data.rename(columns = {29:'country'})\n",
    "exchange_data = exchange_data.rename(columns = {28:'continent'})\n",
    "exchange_data = exchange_data.rename(columns = {1:'name'})\n",
    "exchange_data = exchange_data.rename(columns = {30:'website'})\n",
    "exchange_data = exchange_data.rename(columns = {23:'volume'})\n",
    "exchange_data.head()"
   ]
  },
  {
   "cell_type": "code",
   "execution_count": 7,
   "id": "0d4204cb-13e1-4fe3-bde1-b1c9652124d9",
   "metadata": {
    "tags": []
   },
   "outputs": [
    {
     "name": "stderr",
     "output_type": "stream",
     "text": [
      "location not found in regex\n",
      "nan not found in ISO3\n",
      "nan not found in ISO3\n",
      "nan not found in ISO3\n",
      "nan not found in ISO3\n",
      "nan not found in ISO3\n",
      "nan not found in ISO3\n",
      "nan not found in ISO3\n",
      "nan not found in ISO3\n",
      "nan not found in ISO3\n",
      "nan not found in ISO3\n",
      "nan not found in ISO3\n",
      "nan not found in ISO3\n",
      "nan not found in ISO3\n",
      "nan not found in ISO3\n",
      "nan not found in ISO3\n",
      "nan not found in ISO3\n",
      "nan not found in ISO3\n",
      "nan not found in ISO3\n",
      "nan not found in ISO3\n",
      "nan not found in ISO3\n",
      "nan not found in ISO3\n",
      "nan not found in ISO3\n",
      "nan not found in ISO3\n",
      "nan not found in ISO3\n",
      "nan not found in ISO3\n",
      "nan not found in ISO3\n",
      "nan not found in ISO3\n",
      "nan not found in ISO3\n",
      "nan not found in ISO3\n",
      "nan not found in ISO3\n",
      "nan not found in ISO3\n",
      "nan not found in ISO3\n",
      "nan not found in ISO3\n",
      "nan not found in ISO3\n",
      "nan not found in ISO3\n",
      "nan not found in ISO3\n",
      "nan not found in ISO3\n",
      "nan not found in ISO3\n",
      "nan not found in ISO3\n",
      "nan not found in ISO3\n",
      "nan not found in ISO3\n",
      "nan not found in ISO3\n",
      "nan not found in ISO3\n",
      "nan not found in ISO3\n",
      "nan not found in ISO3\n",
      "nan not found in ISO3\n",
      "nan not found in ISO3\n",
      "nan not found in ISO3\n",
      "nan not found in ISO3\n",
      "nan not found in ISO3\n",
      "nan not found in ISO3\n",
      "nan not found in ISO3\n"
     ]
    },
    {
     "name": "stdout",
     "output_type": "stream",
     "text": [
      "['location', 'MLT', 'ATG', 'CHL', 'USA', 'USA', 'CYM', 'SYC', 'CHN', 'USA', 'VGB', 'SGP', 'JPN', 'JPN', 'CHE', 'USA', 'SGP', 'nan', 'LUX', 'SYC', 'nan', 'nan', 'USA', 'USA', 'nan', 'JPN', 'USA', 'nan', 'nan', 'USA', 'nan', 'nan', 'USA', 'nan', 'nan', 'SGP', 'nan', 'MYS', 'GBR', 'nan', 'nan', 'CAN', 'nan', 'MEX', 'nan', 'nan', 'nan', 'EST', 'nan', 'USA', 'VGB', 'SYC', 'nan', 'SYC', 'nan', 'USA', 'nan', 'nan', 'BRA', 'BLR', 'JPN', 'nan', 'nan', 'IRN', 'MLT', 'EST', 'nan', 'ITA', 'nan', 'nan', 'nan', 'nan', 'nan', 'nan', 'GBR', 'nan', 'nan', 'nan', 'nan', 'nan', 'nan', 'nan', 'nan', 'nan', 'nan', 'NLD', 'LUX', 'nan', 'nan', 'nan', 'USA', 'nan', 'nan', 'nan', 'FRA', 'nan', 'nan', 'USA', 'nan', 'nan', 'nan']\n"
     ]
    }
   ],
   "source": [
    "# Convert country codes to ISO3 code\n",
    "\n",
    "cc = coco.CountryConverter()\n",
    "iso3_codes = cc.convert(names=exchange_data.iloc[:,-2], to ='ISO3', not_found=None)\n",
    "print(iso3_codes)"
   ]
  },
  {
   "cell_type": "code",
   "execution_count": 8,
   "id": "c398be8b-dc16-4eac-822f-753a61ad53bb",
   "metadata": {},
   "outputs": [],
   "source": [
    "# Replace NAN with DEX for decentralized exchanges\n",
    "# exchange_data.iloc[:,-2].fillna('DEX',\n",
    "#                              inplace = True\n",
    "#                              )\n",
    "#exchange_data"
   ]
  },
  {
   "cell_type": "code",
   "execution_count": 9,
   "id": "1b7f499a-2149-4379-9cf2-5f08e62cfb75",
   "metadata": {
    "tags": []
   },
   "outputs": [
    {
     "data": {
      "text/html": [
       "<div>\n",
       "<style scoped>\n",
       "    .dataframe tbody tr th:only-of-type {\n",
       "        vertical-align: middle;\n",
       "    }\n",
       "\n",
       "    .dataframe tbody tr th {\n",
       "        vertical-align: top;\n",
       "    }\n",
       "\n",
       "    .dataframe thead th {\n",
       "        text-align: right;\n",
       "    }\n",
       "</style>\n",
       "<table border=\"1\" class=\"dataframe\">\n",
       "  <thead>\n",
       "    <tr style=\"text-align: right;\">\n",
       "      <th></th>\n",
       "      <th>name</th>\n",
       "      <th>volume</th>\n",
       "      <th>continent</th>\n",
       "      <th>country</th>\n",
       "      <th>website</th>\n",
       "    </tr>\n",
       "  </thead>\n",
       "  <tbody>\n",
       "    <tr>\n",
       "      <th>0</th>\n",
       "      <td>name</td>\n",
       "      <td>1d.spot_volume</td>\n",
       "      <td>1d.derivative_volume_change_pct</td>\n",
       "      <td>location</td>\n",
       "      <td>website_url</td>\n",
       "    </tr>\n",
       "    <tr>\n",
       "      <th>1</th>\n",
       "      <td>Binance</td>\n",
       "      <td>13040185693.24</td>\n",
       "      <td>-0.0634</td>\n",
       "      <td>MLT</td>\n",
       "      <td>https://www.binance.com/</td>\n",
       "    </tr>\n",
       "    <tr>\n",
       "      <th>2</th>\n",
       "      <td>FTX</td>\n",
       "      <td>1863078722.55</td>\n",
       "      <td>0.5173</td>\n",
       "      <td>ATG</td>\n",
       "      <td>https://ftx.com/</td>\n",
       "    </tr>\n",
       "    <tr>\n",
       "      <th>3</th>\n",
       "      <td>CryptoMarket</td>\n",
       "      <td>3133990568.90</td>\n",
       "      <td>NaN</td>\n",
       "      <td>CHL</td>\n",
       "      <td>https://www.cryptomkt.com/</td>\n",
       "    </tr>\n",
       "    <tr>\n",
       "      <th>4</th>\n",
       "      <td>Coinbase Exchange</td>\n",
       "      <td>3075137778.04</td>\n",
       "      <td>NaN</td>\n",
       "      <td>USA</td>\n",
       "      <td>https://www.coinbase.com/</td>\n",
       "    </tr>\n",
       "    <tr>\n",
       "      <th>...</th>\n",
       "      <td>...</td>\n",
       "      <td>...</td>\n",
       "      <td>...</td>\n",
       "      <td>...</td>\n",
       "      <td>...</td>\n",
       "    </tr>\n",
       "    <tr>\n",
       "      <th>96</th>\n",
       "      <td>Empire DEX (BSC)</td>\n",
       "      <td>12952.09</td>\n",
       "      <td>NaN</td>\n",
       "      <td>nan</td>\n",
       "      <td>https://www.empiredex.org</td>\n",
       "    </tr>\n",
       "    <tr>\n",
       "      <th>97</th>\n",
       "      <td>qTrade</td>\n",
       "      <td>11062.43</td>\n",
       "      <td>NaN</td>\n",
       "      <td>USA</td>\n",
       "      <td>https://qtrade.io</td>\n",
       "    </tr>\n",
       "    <tr>\n",
       "      <th>98</th>\n",
       "      <td>Levinswap</td>\n",
       "      <td>6530.57</td>\n",
       "      <td>NaN</td>\n",
       "      <td>nan</td>\n",
       "      <td>https://levinswap.org</td>\n",
       "    </tr>\n",
       "    <tr>\n",
       "      <th>99</th>\n",
       "      <td>Baguette</td>\n",
       "      <td>5209.10</td>\n",
       "      <td>NaN</td>\n",
       "      <td>nan</td>\n",
       "      <td>https://baguette.exchange</td>\n",
       "    </tr>\n",
       "    <tr>\n",
       "      <th>100</th>\n",
       "      <td>Honeyswap (Polygon)</td>\n",
       "      <td>4347.60</td>\n",
       "      <td>NaN</td>\n",
       "      <td>nan</td>\n",
       "      <td>https://honeyswap.org/</td>\n",
       "    </tr>\n",
       "  </tbody>\n",
       "</table>\n",
       "<p>101 rows × 5 columns</p>\n",
       "</div>"
      ],
      "text/plain": [
       "                    name          volume                        continent  \\\n",
       "0                   name  1d.spot_volume  1d.derivative_volume_change_pct   \n",
       "1                Binance  13040185693.24                          -0.0634   \n",
       "2                    FTX   1863078722.55                           0.5173   \n",
       "3           CryptoMarket   3133990568.90                              NaN   \n",
       "4      Coinbase Exchange   3075137778.04                              NaN   \n",
       "..                   ...             ...                              ...   \n",
       "96      Empire DEX (BSC)        12952.09                              NaN   \n",
       "97                qTrade        11062.43                              NaN   \n",
       "98             Levinswap         6530.57                              NaN   \n",
       "99              Baguette         5209.10                              NaN   \n",
       "100  Honeyswap (Polygon)         4347.60                              NaN   \n",
       "\n",
       "      country                     website  \n",
       "0    location                 website_url  \n",
       "1         MLT    https://www.binance.com/  \n",
       "2         ATG            https://ftx.com/  \n",
       "3         CHL  https://www.cryptomkt.com/  \n",
       "4         USA   https://www.coinbase.com/  \n",
       "..        ...                         ...  \n",
       "96        nan   https://www.empiredex.org  \n",
       "97        USA           https://qtrade.io  \n",
       "98        nan       https://levinswap.org  \n",
       "99        nan   https://baguette.exchange  \n",
       "100       nan      https://honeyswap.org/  \n",
       "\n",
       "[101 rows x 5 columns]"
      ]
     },
     "execution_count": 9,
     "metadata": {},
     "output_type": "execute_result"
    }
   ],
   "source": [
    "#replace location column with updated ISO country codes\n",
    "exchange_data.iloc[:,-2] = iso3_codes\n",
    "exchange_data"
   ]
  },
  {
   "cell_type": "code",
   "execution_count": 10,
   "id": "5e417341-0383-4628-9f1a-95cac9b9708c",
   "metadata": {},
   "outputs": [],
   "source": [
    "# Remove row \n",
    "exchange_data.drop([0],axis=0, inplace=True)"
   ]
  },
  {
   "cell_type": "code",
   "execution_count": 11,
   "id": "c033de10-5c5b-4e7e-a3d4-78e9a09e35b4",
   "metadata": {},
   "outputs": [
    {
     "data": {
      "text/html": [
       "<div>\n",
       "<style scoped>\n",
       "    .dataframe tbody tr th:only-of-type {\n",
       "        vertical-align: middle;\n",
       "    }\n",
       "\n",
       "    .dataframe tbody tr th {\n",
       "        vertical-align: top;\n",
       "    }\n",
       "\n",
       "    .dataframe thead th {\n",
       "        text-align: right;\n",
       "    }\n",
       "</style>\n",
       "<table border=\"1\" class=\"dataframe\">\n",
       "  <thead>\n",
       "    <tr style=\"text-align: right;\">\n",
       "      <th></th>\n",
       "      <th>name</th>\n",
       "      <th>volume</th>\n",
       "      <th>continent</th>\n",
       "      <th>country</th>\n",
       "      <th>website</th>\n",
       "    </tr>\n",
       "  </thead>\n",
       "  <tbody>\n",
       "    <tr>\n",
       "      <th>1</th>\n",
       "      <td>Binance</td>\n",
       "      <td>13040185693.24</td>\n",
       "      <td>-0.0634</td>\n",
       "      <td>MLT</td>\n",
       "      <td>https://www.binance.com/</td>\n",
       "    </tr>\n",
       "    <tr>\n",
       "      <th>2</th>\n",
       "      <td>FTX</td>\n",
       "      <td>1863078722.55</td>\n",
       "      <td>0.5173</td>\n",
       "      <td>ATG</td>\n",
       "      <td>https://ftx.com/</td>\n",
       "    </tr>\n",
       "    <tr>\n",
       "      <th>3</th>\n",
       "      <td>CryptoMarket</td>\n",
       "      <td>3133990568.90</td>\n",
       "      <td>NaN</td>\n",
       "      <td>CHL</td>\n",
       "      <td>https://www.cryptomkt.com/</td>\n",
       "    </tr>\n",
       "    <tr>\n",
       "      <th>4</th>\n",
       "      <td>Coinbase Exchange</td>\n",
       "      <td>3075137778.04</td>\n",
       "      <td>NaN</td>\n",
       "      <td>USA</td>\n",
       "      <td>https://www.coinbase.com/</td>\n",
       "    </tr>\n",
       "    <tr>\n",
       "      <th>5</th>\n",
       "      <td>Uniswap V3 (Ethereum)</td>\n",
       "      <td>1675489178.00</td>\n",
       "      <td>NaN</td>\n",
       "      <td>USA</td>\n",
       "      <td>https://uniswap.org</td>\n",
       "    </tr>\n",
       "    <tr>\n",
       "      <th>6</th>\n",
       "      <td>Gate.io</td>\n",
       "      <td>1096211749.78</td>\n",
       "      <td>NaN</td>\n",
       "      <td>CYM</td>\n",
       "      <td>https://www.gate.io/</td>\n",
       "    </tr>\n",
       "    <tr>\n",
       "      <th>7</th>\n",
       "      <td>Bitmex</td>\n",
       "      <td>NaN</td>\n",
       "      <td>0.2049</td>\n",
       "      <td>SYC</td>\n",
       "      <td>https://www.bitmex.com/</td>\n",
       "    </tr>\n",
       "    <tr>\n",
       "      <th>8</th>\n",
       "      <td>Lbank</td>\n",
       "      <td>934057841.28</td>\n",
       "      <td>NaN</td>\n",
       "      <td>CHN</td>\n",
       "      <td>https://www.lbank.info/</td>\n",
       "    </tr>\n",
       "    <tr>\n",
       "      <th>9</th>\n",
       "      <td>Kraken</td>\n",
       "      <td>884269444.37</td>\n",
       "      <td>NaN</td>\n",
       "      <td>USA</td>\n",
       "      <td>https://www.kraken.com/</td>\n",
       "    </tr>\n",
       "    <tr>\n",
       "      <th>10</th>\n",
       "      <td>DeversiFi</td>\n",
       "      <td>874410932.85</td>\n",
       "      <td>NaN</td>\n",
       "      <td>VGB</td>\n",
       "      <td>https://www.deversifi.com/</td>\n",
       "    </tr>\n",
       "    <tr>\n",
       "      <th>11</th>\n",
       "      <td>Phemex</td>\n",
       "      <td>NaN</td>\n",
       "      <td>0.0620</td>\n",
       "      <td>SGP</td>\n",
       "      <td>https://phemex.com/</td>\n",
       "    </tr>\n",
       "    <tr>\n",
       "      <th>12</th>\n",
       "      <td>PancakeSwap V2</td>\n",
       "      <td>542411074.34</td>\n",
       "      <td>NaN</td>\n",
       "      <td>JPN</td>\n",
       "      <td>https://pancakeswap.finance</td>\n",
       "    </tr>\n",
       "    <tr>\n",
       "      <th>13</th>\n",
       "      <td>bitFlyer</td>\n",
       "      <td>146521468.18</td>\n",
       "      <td>0.0212</td>\n",
       "      <td>JPN</td>\n",
       "      <td>https://bitflyer.com/</td>\n",
       "    </tr>\n",
       "    <tr>\n",
       "      <th>14</th>\n",
       "      <td>Curve Finance</td>\n",
       "      <td>347787104.13</td>\n",
       "      <td>NaN</td>\n",
       "      <td>CHE</td>\n",
       "      <td>https://curve.fi/</td>\n",
       "    </tr>\n",
       "    <tr>\n",
       "      <th>15</th>\n",
       "      <td>Uniswap V2</td>\n",
       "      <td>322191888.97</td>\n",
       "      <td>NaN</td>\n",
       "      <td>USA</td>\n",
       "      <td>https://uniswap.org</td>\n",
       "    </tr>\n",
       "    <tr>\n",
       "      <th>16</th>\n",
       "      <td>Delta Exchange</td>\n",
       "      <td>NaN</td>\n",
       "      <td>0.0265</td>\n",
       "      <td>SGP</td>\n",
       "      <td>https://delta.exchange/</td>\n",
       "    </tr>\n",
       "    <tr>\n",
       "      <th>17</th>\n",
       "      <td>SpookySwap</td>\n",
       "      <td>287249100.54</td>\n",
       "      <td>NaN</td>\n",
       "      <td>nan</td>\n",
       "      <td>https://spookyswap.finance/</td>\n",
       "    </tr>\n",
       "    <tr>\n",
       "      <th>18</th>\n",
       "      <td>Bitstamp</td>\n",
       "      <td>204285334.49</td>\n",
       "      <td>NaN</td>\n",
       "      <td>LUX</td>\n",
       "      <td>https://www.bitstamp.net/</td>\n",
       "    </tr>\n",
       "    <tr>\n",
       "      <th>19</th>\n",
       "      <td>ProBit</td>\n",
       "      <td>215446762.25</td>\n",
       "      <td>NaN</td>\n",
       "      <td>SYC</td>\n",
       "      <td>https://www.probit.com</td>\n",
       "    </tr>\n",
       "    <tr>\n",
       "      <th>20</th>\n",
       "      <td>SushiSwap (Ethereum)</td>\n",
       "      <td>208361597.32</td>\n",
       "      <td>NaN</td>\n",
       "      <td>nan</td>\n",
       "      <td>https://sushi.com</td>\n",
       "    </tr>\n",
       "    <tr>\n",
       "      <th>21</th>\n",
       "      <td>Trader Joe</td>\n",
       "      <td>205626363.51</td>\n",
       "      <td>NaN</td>\n",
       "      <td>nan</td>\n",
       "      <td>https://www.traderjoexyz.com/</td>\n",
       "    </tr>\n",
       "    <tr>\n",
       "      <th>22</th>\n",
       "      <td>FTX.us</td>\n",
       "      <td>189901381.08</td>\n",
       "      <td>NaN</td>\n",
       "      <td>USA</td>\n",
       "      <td>https://ftx.us/</td>\n",
       "    </tr>\n",
       "    <tr>\n",
       "      <th>23</th>\n",
       "      <td>Gemini</td>\n",
       "      <td>146675413.90</td>\n",
       "      <td>NaN</td>\n",
       "      <td>USA</td>\n",
       "      <td>https://www.gemini.com/</td>\n",
       "    </tr>\n",
       "    <tr>\n",
       "      <th>24</th>\n",
       "      <td>SushiSwap (Avalanche)</td>\n",
       "      <td>95724206.44</td>\n",
       "      <td>NaN</td>\n",
       "      <td>nan</td>\n",
       "      <td>https://sushi.com</td>\n",
       "    </tr>\n",
       "    <tr>\n",
       "      <th>25</th>\n",
       "      <td>Liquid</td>\n",
       "      <td>79864362.80</td>\n",
       "      <td>NaN</td>\n",
       "      <td>JPN</td>\n",
       "      <td>https://www.liquid.com/</td>\n",
       "    </tr>\n",
       "    <tr>\n",
       "      <th>26</th>\n",
       "      <td>Poloniex</td>\n",
       "      <td>75060304.68</td>\n",
       "      <td>NaN</td>\n",
       "      <td>USA</td>\n",
       "      <td>https://poloniex.com/</td>\n",
       "    </tr>\n",
       "    <tr>\n",
       "      <th>27</th>\n",
       "      <td>SpiritSwap</td>\n",
       "      <td>52746059.67</td>\n",
       "      <td>NaN</td>\n",
       "      <td>nan</td>\n",
       "      <td>https://www.spiritswap.finance</td>\n",
       "    </tr>\n",
       "    <tr>\n",
       "      <th>28</th>\n",
       "      <td>SushiSwap (Arbitrum)</td>\n",
       "      <td>46060475.54</td>\n",
       "      <td>NaN</td>\n",
       "      <td>nan</td>\n",
       "      <td>https://sushi.com</td>\n",
       "    </tr>\n",
       "    <tr>\n",
       "      <th>29</th>\n",
       "      <td>Uniswap V3 (Polygon)</td>\n",
       "      <td>45440485.87</td>\n",
       "      <td>NaN</td>\n",
       "      <td>USA</td>\n",
       "      <td>https://uniswap.org</td>\n",
       "    </tr>\n",
       "    <tr>\n",
       "      <th>30</th>\n",
       "      <td>QuickSwap</td>\n",
       "      <td>39940094.49</td>\n",
       "      <td>NaN</td>\n",
       "      <td>nan</td>\n",
       "      <td>https://quickswap.exchange/</td>\n",
       "    </tr>\n",
       "  </tbody>\n",
       "</table>\n",
       "</div>"
      ],
      "text/plain": [
       "                     name          volume continent country  \\\n",
       "1                 Binance  13040185693.24   -0.0634     MLT   \n",
       "2                     FTX   1863078722.55    0.5173     ATG   \n",
       "3            CryptoMarket   3133990568.90       NaN     CHL   \n",
       "4       Coinbase Exchange   3075137778.04       NaN     USA   \n",
       "5   Uniswap V3 (Ethereum)   1675489178.00       NaN     USA   \n",
       "6                 Gate.io   1096211749.78       NaN     CYM   \n",
       "7                  Bitmex             NaN    0.2049     SYC   \n",
       "8                   Lbank    934057841.28       NaN     CHN   \n",
       "9                  Kraken    884269444.37       NaN     USA   \n",
       "10              DeversiFi    874410932.85       NaN     VGB   \n",
       "11                 Phemex             NaN    0.0620     SGP   \n",
       "12         PancakeSwap V2    542411074.34       NaN     JPN   \n",
       "13               bitFlyer    146521468.18    0.0212     JPN   \n",
       "14          Curve Finance    347787104.13       NaN     CHE   \n",
       "15             Uniswap V2    322191888.97       NaN     USA   \n",
       "16         Delta Exchange             NaN    0.0265     SGP   \n",
       "17             SpookySwap    287249100.54       NaN     nan   \n",
       "18               Bitstamp    204285334.49       NaN     LUX   \n",
       "19                 ProBit    215446762.25       NaN     SYC   \n",
       "20   SushiSwap (Ethereum)    208361597.32       NaN     nan   \n",
       "21             Trader Joe    205626363.51       NaN     nan   \n",
       "22                 FTX.us    189901381.08       NaN     USA   \n",
       "23                 Gemini    146675413.90       NaN     USA   \n",
       "24  SushiSwap (Avalanche)     95724206.44       NaN     nan   \n",
       "25                 Liquid     79864362.80       NaN     JPN   \n",
       "26               Poloniex     75060304.68       NaN     USA   \n",
       "27             SpiritSwap     52746059.67       NaN     nan   \n",
       "28   SushiSwap (Arbitrum)     46060475.54       NaN     nan   \n",
       "29   Uniswap V3 (Polygon)     45440485.87       NaN     USA   \n",
       "30              QuickSwap     39940094.49       NaN     nan   \n",
       "\n",
       "                           website  \n",
       "1         https://www.binance.com/  \n",
       "2                 https://ftx.com/  \n",
       "3       https://www.cryptomkt.com/  \n",
       "4        https://www.coinbase.com/  \n",
       "5              https://uniswap.org  \n",
       "6             https://www.gate.io/  \n",
       "7          https://www.bitmex.com/  \n",
       "8          https://www.lbank.info/  \n",
       "9          https://www.kraken.com/  \n",
       "10      https://www.deversifi.com/  \n",
       "11             https://phemex.com/  \n",
       "12     https://pancakeswap.finance  \n",
       "13           https://bitflyer.com/  \n",
       "14               https://curve.fi/  \n",
       "15             https://uniswap.org  \n",
       "16         https://delta.exchange/  \n",
       "17     https://spookyswap.finance/  \n",
       "18       https://www.bitstamp.net/  \n",
       "19          https://www.probit.com  \n",
       "20               https://sushi.com  \n",
       "21   https://www.traderjoexyz.com/  \n",
       "22                 https://ftx.us/  \n",
       "23         https://www.gemini.com/  \n",
       "24               https://sushi.com  \n",
       "25         https://www.liquid.com/  \n",
       "26           https://poloniex.com/  \n",
       "27  https://www.spiritswap.finance  \n",
       "28               https://sushi.com  \n",
       "29             https://uniswap.org  \n",
       "30     https://quickswap.exchange/  "
      ]
     },
     "execution_count": 11,
     "metadata": {},
     "output_type": "execute_result"
    }
   ],
   "source": [
    "exchange_data.head(30)"
   ]
  },
  {
   "cell_type": "code",
   "execution_count": 12,
   "id": "d0e7520f-6e40-471a-b6aa-92352651f090",
   "metadata": {
    "tags": []
   },
   "outputs": [
    {
     "name": "stderr",
     "output_type": "stream",
     "text": [
      "nan not found in ISO3\n",
      "nan not found in ISO3\n",
      "nan not found in ISO3\n",
      "nan not found in ISO3\n",
      "nan not found in ISO3\n",
      "nan not found in ISO3\n",
      "nan not found in ISO3\n",
      "nan not found in ISO3\n",
      "nan not found in ISO3\n",
      "nan not found in ISO3\n",
      "nan not found in ISO3\n",
      "nan not found in ISO3\n",
      "nan not found in ISO3\n",
      "nan not found in ISO3\n",
      "nan not found in ISO3\n",
      "nan not found in ISO3\n",
      "nan not found in ISO3\n",
      "nan not found in ISO3\n",
      "nan not found in ISO3\n",
      "nan not found in ISO3\n",
      "nan not found in ISO3\n",
      "nan not found in ISO3\n",
      "nan not found in ISO3\n",
      "nan not found in ISO3\n",
      "nan not found in ISO3\n",
      "nan not found in ISO3\n",
      "nan not found in ISO3\n",
      "nan not found in ISO3\n",
      "nan not found in ISO3\n",
      "nan not found in ISO3\n",
      "nan not found in ISO3\n",
      "nan not found in ISO3\n",
      "nan not found in ISO3\n",
      "nan not found in ISO3\n",
      "nan not found in ISO3\n",
      "nan not found in ISO3\n",
      "nan not found in ISO3\n",
      "nan not found in ISO3\n",
      "nan not found in ISO3\n",
      "nan not found in ISO3\n",
      "nan not found in ISO3\n",
      "nan not found in ISO3\n",
      "nan not found in ISO3\n",
      "nan not found in ISO3\n",
      "nan not found in ISO3\n",
      "nan not found in ISO3\n",
      "nan not found in ISO3\n",
      "nan not found in ISO3\n",
      "nan not found in ISO3\n",
      "nan not found in ISO3\n",
      "nan not found in ISO3\n",
      "nan not found in ISO3\n"
     ]
    }
   ],
   "source": [
    "\n",
    "# Convert ISO3 countrycodes to their relative Continent\n",
    "continents = cc.convert(names=exchange_data.iloc[:,-2], to ='continent', not_found=None)"
   ]
  },
  {
   "cell_type": "code",
   "execution_count": 13,
   "id": "e672b7c0-0a01-4c1e-bf26-6963927cfd4d",
   "metadata": {
    "tags": []
   },
   "outputs": [
    {
     "name": "stdout",
     "output_type": "stream",
     "text": [
      "['Europe', 'America', 'America', 'America', 'America', 'America', 'Africa', 'Asia', 'America', 'America', 'Asia', 'Asia', 'Asia', 'Europe', 'America', 'Asia', 'nan', 'Europe', 'Africa', 'nan', 'nan', 'America', 'America', 'nan', 'Asia', 'America', 'nan', 'nan', 'America', 'nan', 'nan', 'America', 'nan', 'nan', 'Asia', 'nan', 'Asia', 'Europe', 'nan', 'nan', 'America', 'nan', 'America', 'nan', 'nan', 'nan', 'Europe', 'nan', 'America', 'America', 'Africa', 'nan', 'Africa', 'nan', 'America', 'nan', 'nan', 'America', 'Europe', 'Asia', 'nan', 'nan', 'Asia', 'Europe', 'Europe', 'nan', 'Europe', 'nan', 'nan', 'nan', 'nan', 'nan', 'nan', 'Europe', 'nan', 'nan', 'nan', 'nan', 'nan', 'nan', 'nan', 'nan', 'nan', 'nan', 'Europe', 'Europe', 'nan', 'nan', 'nan', 'America', 'nan', 'nan', 'nan', 'Europe', 'nan', 'nan', 'America', 'nan', 'nan', 'nan']\n"
     ]
    }
   ],
   "source": [
    "# Verify continent conversion\n",
    "print(continents)"
   ]
  },
  {
   "cell_type": "code",
   "execution_count": 14,
   "id": "3afcfff7-077a-4dc0-baf5-665727c39cc7",
   "metadata": {
    "tags": []
   },
   "outputs": [
    {
     "data": {
      "text/html": [
       "<div>\n",
       "<style scoped>\n",
       "    .dataframe tbody tr th:only-of-type {\n",
       "        vertical-align: middle;\n",
       "    }\n",
       "\n",
       "    .dataframe tbody tr th {\n",
       "        vertical-align: top;\n",
       "    }\n",
       "\n",
       "    .dataframe thead th {\n",
       "        text-align: right;\n",
       "    }\n",
       "</style>\n",
       "<table border=\"1\" class=\"dataframe\">\n",
       "  <thead>\n",
       "    <tr style=\"text-align: right;\">\n",
       "      <th></th>\n",
       "      <th>name</th>\n",
       "      <th>volume</th>\n",
       "      <th>continent</th>\n",
       "      <th>country</th>\n",
       "      <th>website</th>\n",
       "    </tr>\n",
       "  </thead>\n",
       "  <tbody>\n",
       "    <tr>\n",
       "      <th>1</th>\n",
       "      <td>Binance</td>\n",
       "      <td>13040185693.24</td>\n",
       "      <td>Europe</td>\n",
       "      <td>MLT</td>\n",
       "      <td>https://www.binance.com/</td>\n",
       "    </tr>\n",
       "    <tr>\n",
       "      <th>2</th>\n",
       "      <td>FTX</td>\n",
       "      <td>1863078722.55</td>\n",
       "      <td>America</td>\n",
       "      <td>ATG</td>\n",
       "      <td>https://ftx.com/</td>\n",
       "    </tr>\n",
       "    <tr>\n",
       "      <th>3</th>\n",
       "      <td>CryptoMarket</td>\n",
       "      <td>3133990568.90</td>\n",
       "      <td>America</td>\n",
       "      <td>CHL</td>\n",
       "      <td>https://www.cryptomkt.com/</td>\n",
       "    </tr>\n",
       "    <tr>\n",
       "      <th>4</th>\n",
       "      <td>Coinbase Exchange</td>\n",
       "      <td>3075137778.04</td>\n",
       "      <td>America</td>\n",
       "      <td>USA</td>\n",
       "      <td>https://www.coinbase.com/</td>\n",
       "    </tr>\n",
       "    <tr>\n",
       "      <th>5</th>\n",
       "      <td>Uniswap V3 (Ethereum)</td>\n",
       "      <td>1675489178.00</td>\n",
       "      <td>America</td>\n",
       "      <td>USA</td>\n",
       "      <td>https://uniswap.org</td>\n",
       "    </tr>\n",
       "    <tr>\n",
       "      <th>6</th>\n",
       "      <td>Gate.io</td>\n",
       "      <td>1096211749.78</td>\n",
       "      <td>America</td>\n",
       "      <td>CYM</td>\n",
       "      <td>https://www.gate.io/</td>\n",
       "    </tr>\n",
       "    <tr>\n",
       "      <th>7</th>\n",
       "      <td>Bitmex</td>\n",
       "      <td>NaN</td>\n",
       "      <td>Africa</td>\n",
       "      <td>SYC</td>\n",
       "      <td>https://www.bitmex.com/</td>\n",
       "    </tr>\n",
       "    <tr>\n",
       "      <th>8</th>\n",
       "      <td>Lbank</td>\n",
       "      <td>934057841.28</td>\n",
       "      <td>Asia</td>\n",
       "      <td>CHN</td>\n",
       "      <td>https://www.lbank.info/</td>\n",
       "    </tr>\n",
       "    <tr>\n",
       "      <th>9</th>\n",
       "      <td>Kraken</td>\n",
       "      <td>884269444.37</td>\n",
       "      <td>America</td>\n",
       "      <td>USA</td>\n",
       "      <td>https://www.kraken.com/</td>\n",
       "    </tr>\n",
       "    <tr>\n",
       "      <th>10</th>\n",
       "      <td>DeversiFi</td>\n",
       "      <td>874410932.85</td>\n",
       "      <td>America</td>\n",
       "      <td>VGB</td>\n",
       "      <td>https://www.deversifi.com/</td>\n",
       "    </tr>\n",
       "    <tr>\n",
       "      <th>11</th>\n",
       "      <td>Phemex</td>\n",
       "      <td>NaN</td>\n",
       "      <td>Asia</td>\n",
       "      <td>SGP</td>\n",
       "      <td>https://phemex.com/</td>\n",
       "    </tr>\n",
       "    <tr>\n",
       "      <th>12</th>\n",
       "      <td>PancakeSwap V2</td>\n",
       "      <td>542411074.34</td>\n",
       "      <td>Asia</td>\n",
       "      <td>JPN</td>\n",
       "      <td>https://pancakeswap.finance</td>\n",
       "    </tr>\n",
       "    <tr>\n",
       "      <th>13</th>\n",
       "      <td>bitFlyer</td>\n",
       "      <td>146521468.18</td>\n",
       "      <td>Asia</td>\n",
       "      <td>JPN</td>\n",
       "      <td>https://bitflyer.com/</td>\n",
       "    </tr>\n",
       "    <tr>\n",
       "      <th>14</th>\n",
       "      <td>Curve Finance</td>\n",
       "      <td>347787104.13</td>\n",
       "      <td>Europe</td>\n",
       "      <td>CHE</td>\n",
       "      <td>https://curve.fi/</td>\n",
       "    </tr>\n",
       "    <tr>\n",
       "      <th>15</th>\n",
       "      <td>Uniswap V2</td>\n",
       "      <td>322191888.97</td>\n",
       "      <td>America</td>\n",
       "      <td>USA</td>\n",
       "      <td>https://uniswap.org</td>\n",
       "    </tr>\n",
       "    <tr>\n",
       "      <th>16</th>\n",
       "      <td>Delta Exchange</td>\n",
       "      <td>NaN</td>\n",
       "      <td>Asia</td>\n",
       "      <td>SGP</td>\n",
       "      <td>https://delta.exchange/</td>\n",
       "    </tr>\n",
       "    <tr>\n",
       "      <th>17</th>\n",
       "      <td>SpookySwap</td>\n",
       "      <td>287249100.54</td>\n",
       "      <td>nan</td>\n",
       "      <td>nan</td>\n",
       "      <td>https://spookyswap.finance/</td>\n",
       "    </tr>\n",
       "    <tr>\n",
       "      <th>18</th>\n",
       "      <td>Bitstamp</td>\n",
       "      <td>204285334.49</td>\n",
       "      <td>Europe</td>\n",
       "      <td>LUX</td>\n",
       "      <td>https://www.bitstamp.net/</td>\n",
       "    </tr>\n",
       "    <tr>\n",
       "      <th>19</th>\n",
       "      <td>ProBit</td>\n",
       "      <td>215446762.25</td>\n",
       "      <td>Africa</td>\n",
       "      <td>SYC</td>\n",
       "      <td>https://www.probit.com</td>\n",
       "    </tr>\n",
       "    <tr>\n",
       "      <th>20</th>\n",
       "      <td>SushiSwap (Ethereum)</td>\n",
       "      <td>208361597.32</td>\n",
       "      <td>nan</td>\n",
       "      <td>nan</td>\n",
       "      <td>https://sushi.com</td>\n",
       "    </tr>\n",
       "  </tbody>\n",
       "</table>\n",
       "</div>"
      ],
      "text/plain": [
       "                     name          volume continent country  \\\n",
       "1                 Binance  13040185693.24    Europe     MLT   \n",
       "2                     FTX   1863078722.55   America     ATG   \n",
       "3            CryptoMarket   3133990568.90   America     CHL   \n",
       "4       Coinbase Exchange   3075137778.04   America     USA   \n",
       "5   Uniswap V3 (Ethereum)   1675489178.00   America     USA   \n",
       "6                 Gate.io   1096211749.78   America     CYM   \n",
       "7                  Bitmex             NaN    Africa     SYC   \n",
       "8                   Lbank    934057841.28      Asia     CHN   \n",
       "9                  Kraken    884269444.37   America     USA   \n",
       "10              DeversiFi    874410932.85   America     VGB   \n",
       "11                 Phemex             NaN      Asia     SGP   \n",
       "12         PancakeSwap V2    542411074.34      Asia     JPN   \n",
       "13               bitFlyer    146521468.18      Asia     JPN   \n",
       "14          Curve Finance    347787104.13    Europe     CHE   \n",
       "15             Uniswap V2    322191888.97   America     USA   \n",
       "16         Delta Exchange             NaN      Asia     SGP   \n",
       "17             SpookySwap    287249100.54       nan     nan   \n",
       "18               Bitstamp    204285334.49    Europe     LUX   \n",
       "19                 ProBit    215446762.25    Africa     SYC   \n",
       "20   SushiSwap (Ethereum)    208361597.32       nan     nan   \n",
       "\n",
       "                        website  \n",
       "1      https://www.binance.com/  \n",
       "2              https://ftx.com/  \n",
       "3    https://www.cryptomkt.com/  \n",
       "4     https://www.coinbase.com/  \n",
       "5           https://uniswap.org  \n",
       "6          https://www.gate.io/  \n",
       "7       https://www.bitmex.com/  \n",
       "8       https://www.lbank.info/  \n",
       "9       https://www.kraken.com/  \n",
       "10   https://www.deversifi.com/  \n",
       "11          https://phemex.com/  \n",
       "12  https://pancakeswap.finance  \n",
       "13        https://bitflyer.com/  \n",
       "14            https://curve.fi/  \n",
       "15          https://uniswap.org  \n",
       "16      https://delta.exchange/  \n",
       "17  https://spookyswap.finance/  \n",
       "18    https://www.bitstamp.net/  \n",
       "19       https://www.probit.com  \n",
       "20            https://sushi.com  "
      ]
     },
     "execution_count": 14,
     "metadata": {},
     "output_type": "execute_result"
    }
   ],
   "source": [
    "# Add continent column\n",
    "exchange_data.iloc[:,-3] = continents\n",
    "exchange_data.head(20)"
   ]
  },
  {
   "cell_type": "code",
   "execution_count": 15,
   "id": "41780d66-4e62-4f1a-af31-a46c9c6216c4",
   "metadata": {
    "tags": []
   },
   "outputs": [
    {
     "data": {
      "text/html": [
       "<div>\n",
       "<style scoped>\n",
       "    .dataframe tbody tr th:only-of-type {\n",
       "        vertical-align: middle;\n",
       "    }\n",
       "\n",
       "    .dataframe tbody tr th {\n",
       "        vertical-align: top;\n",
       "    }\n",
       "\n",
       "    .dataframe thead th {\n",
       "        text-align: right;\n",
       "    }\n",
       "</style>\n",
       "<table border=\"1\" class=\"dataframe\">\n",
       "  <thead>\n",
       "    <tr style=\"text-align: right;\">\n",
       "      <th></th>\n",
       "      <th>name</th>\n",
       "      <th>volume</th>\n",
       "      <th>continent</th>\n",
       "      <th>country</th>\n",
       "      <th>website</th>\n",
       "    </tr>\n",
       "  </thead>\n",
       "  <tbody>\n",
       "    <tr>\n",
       "      <th>1</th>\n",
       "      <td>Binance</td>\n",
       "      <td>13040185693.24</td>\n",
       "      <td>Europe</td>\n",
       "      <td>MLT</td>\n",
       "      <td>https://www.binance.com/</td>\n",
       "    </tr>\n",
       "    <tr>\n",
       "      <th>2</th>\n",
       "      <td>FTX</td>\n",
       "      <td>1863078722.55</td>\n",
       "      <td>America</td>\n",
       "      <td>ATG</td>\n",
       "      <td>https://ftx.com/</td>\n",
       "    </tr>\n",
       "    <tr>\n",
       "      <th>3</th>\n",
       "      <td>CryptoMarket</td>\n",
       "      <td>3133990568.90</td>\n",
       "      <td>America</td>\n",
       "      <td>CHL</td>\n",
       "      <td>https://www.cryptomkt.com/</td>\n",
       "    </tr>\n",
       "    <tr>\n",
       "      <th>4</th>\n",
       "      <td>Coinbase Exchange</td>\n",
       "      <td>3075137778.04</td>\n",
       "      <td>America</td>\n",
       "      <td>USA</td>\n",
       "      <td>https://www.coinbase.com/</td>\n",
       "    </tr>\n",
       "    <tr>\n",
       "      <th>5</th>\n",
       "      <td>Uniswap V3 (Ethereum)</td>\n",
       "      <td>1675489178.00</td>\n",
       "      <td>America</td>\n",
       "      <td>USA</td>\n",
       "      <td>https://uniswap.org</td>\n",
       "    </tr>\n",
       "    <tr>\n",
       "      <th>6</th>\n",
       "      <td>Gate.io</td>\n",
       "      <td>1096211749.78</td>\n",
       "      <td>America</td>\n",
       "      <td>CYM</td>\n",
       "      <td>https://www.gate.io/</td>\n",
       "    </tr>\n",
       "    <tr>\n",
       "      <th>7</th>\n",
       "      <td>Bitmex</td>\n",
       "      <td>NaN</td>\n",
       "      <td>Africa</td>\n",
       "      <td>SYC</td>\n",
       "      <td>https://www.bitmex.com/</td>\n",
       "    </tr>\n",
       "    <tr>\n",
       "      <th>8</th>\n",
       "      <td>Lbank</td>\n",
       "      <td>934057841.28</td>\n",
       "      <td>Asia</td>\n",
       "      <td>CHN</td>\n",
       "      <td>https://www.lbank.info/</td>\n",
       "    </tr>\n",
       "    <tr>\n",
       "      <th>9</th>\n",
       "      <td>Kraken</td>\n",
       "      <td>884269444.37</td>\n",
       "      <td>America</td>\n",
       "      <td>USA</td>\n",
       "      <td>https://www.kraken.com/</td>\n",
       "    </tr>\n",
       "    <tr>\n",
       "      <th>10</th>\n",
       "      <td>DeversiFi</td>\n",
       "      <td>874410932.85</td>\n",
       "      <td>America</td>\n",
       "      <td>VGB</td>\n",
       "      <td>https://www.deversifi.com/</td>\n",
       "    </tr>\n",
       "    <tr>\n",
       "      <th>11</th>\n",
       "      <td>Phemex</td>\n",
       "      <td>NaN</td>\n",
       "      <td>Asia</td>\n",
       "      <td>SGP</td>\n",
       "      <td>https://phemex.com/</td>\n",
       "    </tr>\n",
       "    <tr>\n",
       "      <th>12</th>\n",
       "      <td>PancakeSwap V2</td>\n",
       "      <td>542411074.34</td>\n",
       "      <td>Asia</td>\n",
       "      <td>JPN</td>\n",
       "      <td>https://pancakeswap.finance</td>\n",
       "    </tr>\n",
       "    <tr>\n",
       "      <th>13</th>\n",
       "      <td>bitFlyer</td>\n",
       "      <td>146521468.18</td>\n",
       "      <td>Asia</td>\n",
       "      <td>JPN</td>\n",
       "      <td>https://bitflyer.com/</td>\n",
       "    </tr>\n",
       "    <tr>\n",
       "      <th>14</th>\n",
       "      <td>Curve Finance</td>\n",
       "      <td>347787104.13</td>\n",
       "      <td>Europe</td>\n",
       "      <td>CHE</td>\n",
       "      <td>https://curve.fi/</td>\n",
       "    </tr>\n",
       "    <tr>\n",
       "      <th>15</th>\n",
       "      <td>Uniswap V2</td>\n",
       "      <td>322191888.97</td>\n",
       "      <td>America</td>\n",
       "      <td>USA</td>\n",
       "      <td>https://uniswap.org</td>\n",
       "    </tr>\n",
       "    <tr>\n",
       "      <th>16</th>\n",
       "      <td>Delta Exchange</td>\n",
       "      <td>NaN</td>\n",
       "      <td>Asia</td>\n",
       "      <td>SGP</td>\n",
       "      <td>https://delta.exchange/</td>\n",
       "    </tr>\n",
       "    <tr>\n",
       "      <th>17</th>\n",
       "      <td>SpookySwap</td>\n",
       "      <td>287249100.54</td>\n",
       "      <td>DEX = 52</td>\n",
       "      <td>DEX = 52</td>\n",
       "      <td>https://spookyswap.finance/</td>\n",
       "    </tr>\n",
       "    <tr>\n",
       "      <th>18</th>\n",
       "      <td>Bitstamp</td>\n",
       "      <td>204285334.49</td>\n",
       "      <td>Europe</td>\n",
       "      <td>LUX</td>\n",
       "      <td>https://www.bitstamp.net/</td>\n",
       "    </tr>\n",
       "    <tr>\n",
       "      <th>19</th>\n",
       "      <td>ProBit</td>\n",
       "      <td>215446762.25</td>\n",
       "      <td>Africa</td>\n",
       "      <td>SYC</td>\n",
       "      <td>https://www.probit.com</td>\n",
       "    </tr>\n",
       "    <tr>\n",
       "      <th>20</th>\n",
       "      <td>SushiSwap (Ethereum)</td>\n",
       "      <td>208361597.32</td>\n",
       "      <td>DEX = 52</td>\n",
       "      <td>DEX = 52</td>\n",
       "      <td>https://sushi.com</td>\n",
       "    </tr>\n",
       "    <tr>\n",
       "      <th>21</th>\n",
       "      <td>Trader Joe</td>\n",
       "      <td>205626363.51</td>\n",
       "      <td>DEX = 52</td>\n",
       "      <td>DEX = 52</td>\n",
       "      <td>https://www.traderjoexyz.com/</td>\n",
       "    </tr>\n",
       "    <tr>\n",
       "      <th>22</th>\n",
       "      <td>FTX.us</td>\n",
       "      <td>189901381.08</td>\n",
       "      <td>America</td>\n",
       "      <td>USA</td>\n",
       "      <td>https://ftx.us/</td>\n",
       "    </tr>\n",
       "    <tr>\n",
       "      <th>23</th>\n",
       "      <td>Gemini</td>\n",
       "      <td>146675413.90</td>\n",
       "      <td>America</td>\n",
       "      <td>USA</td>\n",
       "      <td>https://www.gemini.com/</td>\n",
       "    </tr>\n",
       "    <tr>\n",
       "      <th>24</th>\n",
       "      <td>SushiSwap (Avalanche)</td>\n",
       "      <td>95724206.44</td>\n",
       "      <td>DEX = 52</td>\n",
       "      <td>DEX = 52</td>\n",
       "      <td>https://sushi.com</td>\n",
       "    </tr>\n",
       "    <tr>\n",
       "      <th>25</th>\n",
       "      <td>Liquid</td>\n",
       "      <td>79864362.80</td>\n",
       "      <td>Asia</td>\n",
       "      <td>JPN</td>\n",
       "      <td>https://www.liquid.com/</td>\n",
       "    </tr>\n",
       "    <tr>\n",
       "      <th>26</th>\n",
       "      <td>Poloniex</td>\n",
       "      <td>75060304.68</td>\n",
       "      <td>America</td>\n",
       "      <td>USA</td>\n",
       "      <td>https://poloniex.com/</td>\n",
       "    </tr>\n",
       "    <tr>\n",
       "      <th>27</th>\n",
       "      <td>SpiritSwap</td>\n",
       "      <td>52746059.67</td>\n",
       "      <td>DEX = 52</td>\n",
       "      <td>DEX = 52</td>\n",
       "      <td>https://www.spiritswap.finance</td>\n",
       "    </tr>\n",
       "    <tr>\n",
       "      <th>28</th>\n",
       "      <td>SushiSwap (Arbitrum)</td>\n",
       "      <td>46060475.54</td>\n",
       "      <td>DEX = 52</td>\n",
       "      <td>DEX = 52</td>\n",
       "      <td>https://sushi.com</td>\n",
       "    </tr>\n",
       "    <tr>\n",
       "      <th>29</th>\n",
       "      <td>Uniswap V3 (Polygon)</td>\n",
       "      <td>45440485.87</td>\n",
       "      <td>America</td>\n",
       "      <td>USA</td>\n",
       "      <td>https://uniswap.org</td>\n",
       "    </tr>\n",
       "    <tr>\n",
       "      <th>30</th>\n",
       "      <td>QuickSwap</td>\n",
       "      <td>39940094.49</td>\n",
       "      <td>DEX = 52</td>\n",
       "      <td>DEX = 52</td>\n",
       "      <td>https://quickswap.exchange/</td>\n",
       "    </tr>\n",
       "  </tbody>\n",
       "</table>\n",
       "</div>"
      ],
      "text/plain": [
       "                     name          volume continent   country  \\\n",
       "1                 Binance  13040185693.24    Europe       MLT   \n",
       "2                     FTX   1863078722.55   America       ATG   \n",
       "3            CryptoMarket   3133990568.90   America       CHL   \n",
       "4       Coinbase Exchange   3075137778.04   America       USA   \n",
       "5   Uniswap V3 (Ethereum)   1675489178.00   America       USA   \n",
       "6                 Gate.io   1096211749.78   America       CYM   \n",
       "7                  Bitmex             NaN    Africa       SYC   \n",
       "8                   Lbank    934057841.28      Asia       CHN   \n",
       "9                  Kraken    884269444.37   America       USA   \n",
       "10              DeversiFi    874410932.85   America       VGB   \n",
       "11                 Phemex             NaN      Asia       SGP   \n",
       "12         PancakeSwap V2    542411074.34      Asia       JPN   \n",
       "13               bitFlyer    146521468.18      Asia       JPN   \n",
       "14          Curve Finance    347787104.13    Europe       CHE   \n",
       "15             Uniswap V2    322191888.97   America       USA   \n",
       "16         Delta Exchange             NaN      Asia       SGP   \n",
       "17             SpookySwap    287249100.54  DEX = 52  DEX = 52   \n",
       "18               Bitstamp    204285334.49    Europe       LUX   \n",
       "19                 ProBit    215446762.25    Africa       SYC   \n",
       "20   SushiSwap (Ethereum)    208361597.32  DEX = 52  DEX = 52   \n",
       "21             Trader Joe    205626363.51  DEX = 52  DEX = 52   \n",
       "22                 FTX.us    189901381.08   America       USA   \n",
       "23                 Gemini    146675413.90   America       USA   \n",
       "24  SushiSwap (Avalanche)     95724206.44  DEX = 52  DEX = 52   \n",
       "25                 Liquid     79864362.80      Asia       JPN   \n",
       "26               Poloniex     75060304.68   America       USA   \n",
       "27             SpiritSwap     52746059.67  DEX = 52  DEX = 52   \n",
       "28   SushiSwap (Arbitrum)     46060475.54  DEX = 52  DEX = 52   \n",
       "29   Uniswap V3 (Polygon)     45440485.87   America       USA   \n",
       "30              QuickSwap     39940094.49  DEX = 52  DEX = 52   \n",
       "\n",
       "                           website  \n",
       "1         https://www.binance.com/  \n",
       "2                 https://ftx.com/  \n",
       "3       https://www.cryptomkt.com/  \n",
       "4        https://www.coinbase.com/  \n",
       "5              https://uniswap.org  \n",
       "6             https://www.gate.io/  \n",
       "7          https://www.bitmex.com/  \n",
       "8          https://www.lbank.info/  \n",
       "9          https://www.kraken.com/  \n",
       "10      https://www.deversifi.com/  \n",
       "11             https://phemex.com/  \n",
       "12     https://pancakeswap.finance  \n",
       "13           https://bitflyer.com/  \n",
       "14               https://curve.fi/  \n",
       "15             https://uniswap.org  \n",
       "16         https://delta.exchange/  \n",
       "17     https://spookyswap.finance/  \n",
       "18       https://www.bitstamp.net/  \n",
       "19          https://www.probit.com  \n",
       "20               https://sushi.com  \n",
       "21   https://www.traderjoexyz.com/  \n",
       "22                 https://ftx.us/  \n",
       "23         https://www.gemini.com/  \n",
       "24               https://sushi.com  \n",
       "25         https://www.liquid.com/  \n",
       "26           https://poloniex.com/  \n",
       "27  https://www.spiritswap.finance  \n",
       "28               https://sushi.com  \n",
       "29             https://uniswap.org  \n",
       "30     https://quickswap.exchange/  "
      ]
     },
     "execution_count": 15,
     "metadata": {},
     "output_type": "execute_result"
    }
   ],
   "source": [
    "exchange_data.replace(to_replace='nan',value = 'DEX = 52', inplace = True)\n",
    "exchange_data.head(30)"
   ]
  },
  {
   "cell_type": "code",
   "execution_count": 16,
   "id": "5182c8d2-beaa-4369-b347-84ffb8eae674",
   "metadata": {},
   "outputs": [],
   "source": [
    "exchange_data.insert(5,'DEX = 52',52)"
   ]
  },
  {
   "cell_type": "code",
   "execution_count": 17,
   "id": "231ba579-15ab-453a-a271-17883d227338",
   "metadata": {},
   "outputs": [
    {
     "data": {
      "text/html": [
       "<div>\n",
       "<style scoped>\n",
       "    .dataframe tbody tr th:only-of-type {\n",
       "        vertical-align: middle;\n",
       "    }\n",
       "\n",
       "    .dataframe tbody tr th {\n",
       "        vertical-align: top;\n",
       "    }\n",
       "\n",
       "    .dataframe thead th {\n",
       "        text-align: right;\n",
       "    }\n",
       "</style>\n",
       "<table border=\"1\" class=\"dataframe\">\n",
       "  <thead>\n",
       "    <tr style=\"text-align: right;\">\n",
       "      <th></th>\n",
       "      <th>name</th>\n",
       "      <th>volume</th>\n",
       "      <th>continent</th>\n",
       "      <th>country</th>\n",
       "      <th>website</th>\n",
       "      <th>DEX = 52</th>\n",
       "    </tr>\n",
       "  </thead>\n",
       "  <tbody>\n",
       "    <tr>\n",
       "      <th>1</th>\n",
       "      <td>Binance</td>\n",
       "      <td>13040185693.24</td>\n",
       "      <td>Europe</td>\n",
       "      <td>MLT</td>\n",
       "      <td>https://www.binance.com/</td>\n",
       "      <td>52</td>\n",
       "    </tr>\n",
       "    <tr>\n",
       "      <th>2</th>\n",
       "      <td>FTX</td>\n",
       "      <td>1863078722.55</td>\n",
       "      <td>America</td>\n",
       "      <td>ATG</td>\n",
       "      <td>https://ftx.com/</td>\n",
       "      <td>52</td>\n",
       "    </tr>\n",
       "    <tr>\n",
       "      <th>3</th>\n",
       "      <td>CryptoMarket</td>\n",
       "      <td>3133990568.90</td>\n",
       "      <td>America</td>\n",
       "      <td>CHL</td>\n",
       "      <td>https://www.cryptomkt.com/</td>\n",
       "      <td>52</td>\n",
       "    </tr>\n",
       "    <tr>\n",
       "      <th>4</th>\n",
       "      <td>Coinbase Exchange</td>\n",
       "      <td>3075137778.04</td>\n",
       "      <td>America</td>\n",
       "      <td>USA</td>\n",
       "      <td>https://www.coinbase.com/</td>\n",
       "      <td>52</td>\n",
       "    </tr>\n",
       "    <tr>\n",
       "      <th>5</th>\n",
       "      <td>Uniswap V3 (Ethereum)</td>\n",
       "      <td>1675489178.00</td>\n",
       "      <td>America</td>\n",
       "      <td>USA</td>\n",
       "      <td>https://uniswap.org</td>\n",
       "      <td>52</td>\n",
       "    </tr>\n",
       "    <tr>\n",
       "      <th>...</th>\n",
       "      <td>...</td>\n",
       "      <td>...</td>\n",
       "      <td>...</td>\n",
       "      <td>...</td>\n",
       "      <td>...</td>\n",
       "      <td>...</td>\n",
       "    </tr>\n",
       "    <tr>\n",
       "      <th>96</th>\n",
       "      <td>Empire DEX (BSC)</td>\n",
       "      <td>12952.09</td>\n",
       "      <td>DEX = 52</td>\n",
       "      <td>DEX = 52</td>\n",
       "      <td>https://www.empiredex.org</td>\n",
       "      <td>52</td>\n",
       "    </tr>\n",
       "    <tr>\n",
       "      <th>97</th>\n",
       "      <td>qTrade</td>\n",
       "      <td>11062.43</td>\n",
       "      <td>America</td>\n",
       "      <td>USA</td>\n",
       "      <td>https://qtrade.io</td>\n",
       "      <td>52</td>\n",
       "    </tr>\n",
       "    <tr>\n",
       "      <th>98</th>\n",
       "      <td>Levinswap</td>\n",
       "      <td>6530.57</td>\n",
       "      <td>DEX = 52</td>\n",
       "      <td>DEX = 52</td>\n",
       "      <td>https://levinswap.org</td>\n",
       "      <td>52</td>\n",
       "    </tr>\n",
       "    <tr>\n",
       "      <th>99</th>\n",
       "      <td>Baguette</td>\n",
       "      <td>5209.10</td>\n",
       "      <td>DEX = 52</td>\n",
       "      <td>DEX = 52</td>\n",
       "      <td>https://baguette.exchange</td>\n",
       "      <td>52</td>\n",
       "    </tr>\n",
       "    <tr>\n",
       "      <th>100</th>\n",
       "      <td>Honeyswap (Polygon)</td>\n",
       "      <td>4347.60</td>\n",
       "      <td>DEX = 52</td>\n",
       "      <td>DEX = 52</td>\n",
       "      <td>https://honeyswap.org/</td>\n",
       "      <td>52</td>\n",
       "    </tr>\n",
       "  </tbody>\n",
       "</table>\n",
       "<p>100 rows × 6 columns</p>\n",
       "</div>"
      ],
      "text/plain": [
       "                      name          volume continent   country  \\\n",
       "1                  Binance  13040185693.24    Europe       MLT   \n",
       "2                      FTX   1863078722.55   America       ATG   \n",
       "3             CryptoMarket   3133990568.90   America       CHL   \n",
       "4        Coinbase Exchange   3075137778.04   America       USA   \n",
       "5    Uniswap V3 (Ethereum)   1675489178.00   America       USA   \n",
       "..                     ...             ...       ...       ...   \n",
       "96        Empire DEX (BSC)        12952.09  DEX = 52  DEX = 52   \n",
       "97                  qTrade        11062.43   America       USA   \n",
       "98               Levinswap         6530.57  DEX = 52  DEX = 52   \n",
       "99                Baguette         5209.10  DEX = 52  DEX = 52   \n",
       "100    Honeyswap (Polygon)         4347.60  DEX = 52  DEX = 52   \n",
       "\n",
       "                        website  DEX = 52  \n",
       "1      https://www.binance.com/        52  \n",
       "2              https://ftx.com/        52  \n",
       "3    https://www.cryptomkt.com/        52  \n",
       "4     https://www.coinbase.com/        52  \n",
       "5           https://uniswap.org        52  \n",
       "..                          ...       ...  \n",
       "96    https://www.empiredex.org        52  \n",
       "97            https://qtrade.io        52  \n",
       "98        https://levinswap.org        52  \n",
       "99    https://baguette.exchange        52  \n",
       "100      https://honeyswap.org/        52  \n",
       "\n",
       "[100 rows x 6 columns]"
      ]
     },
     "execution_count": 17,
     "metadata": {},
     "output_type": "execute_result"
    }
   ],
   "source": [
    "exchange_data"
   ]
  },
  {
   "cell_type": "code",
   "execution_count": 22,
   "id": "8e7e408e-a090-4e12-b14d-b1a1e11cb572",
   "metadata": {
    "tags": []
   },
   "outputs": [
    {
     "data": {
      "application/vnd.plotly.v1+json": {
       "config": {
        "plotlyServerURL": "https://plot.ly"
       },
       "data": [
        {
         "customdata": [
          [
           "13040185693.24",
           "https://www.binance.com/"
          ],
          [
           "347787104.13",
           "https://curve.fi/"
          ],
          [
           "204285334.49",
           "https://www.bitstamp.net/"
          ],
          [
           "20580078.73",
           "https://cex.io/"
          ],
          [
           "12198452.32",
           "https://polyx.net"
          ],
          [
           "2954186.83",
           "https://currency.com/"
          ],
          [
           "1560977.89",
           "https://www.binance.org/"
          ],
          [
           "1481363.09",
           "https://redot.com/"
          ],
          [
           "989404.79",
           "https://therocktrading.com/"
          ],
          [
           "350380.67",
           "https://sigen.pro"
          ],
          [
           "101382.38",
           "https://app.defiplaza.net"
          ],
          [
           "18885.37",
           "https://blocktrade.com/"
          ],
          [
           "9969.45",
           "https://zebitex.com"
          ]
         ],
         "geo": "geo",
         "hovertemplate": "<b>%{hovertext}</b><br><br>continent=Europe<br>country=%{location}<br>volume=%{customdata[0]}<br>website=%{customdata[1]}<extra></extra>",
         "hovertext": [
          "Binance",
          "Curve Finance",
          "Bitstamp",
          "CEX.IO",
          "Polyx",
          "Currency.com",
          "Binance DEX",
          "Redot",
          "The Rock Trading",
          "SIGEN.pro",
          "DefiPlaza",
          "Blocktrade",
          "ZEBITEX"
         ],
         "legendgroup": "Europe",
         "locations": [
          "MLT",
          "CHE",
          "LUX",
          "GBR",
          "EST",
          "BLR",
          "MLT",
          "EST",
          "ITA",
          "GBR",
          "NLD",
          "LUX",
          "FRA"
         ],
         "marker": {
          "color": "#636efa",
          "opacity": 0.8,
          "symbol": "circle"
         },
         "mode": "markers",
         "name": "Europe",
         "showlegend": true,
         "type": "scattergeo"
        },
        {
         "customdata": [
          [
           "1863078722.55",
           "https://ftx.com/"
          ],
          [
           "3133990568.90",
           "https://www.cryptomkt.com/"
          ],
          [
           "3075137778.04",
           "https://www.coinbase.com/"
          ],
          [
           "1675489178.00",
           "https://uniswap.org"
          ],
          [
           "1096211749.78",
           "https://www.gate.io/"
          ],
          [
           "884269444.37",
           "https://www.kraken.com/"
          ],
          [
           "874410932.85",
           "https://www.deversifi.com/"
          ],
          [
           "322191888.97",
           "https://uniswap.org"
          ],
          [
           "189901381.08",
           "https://ftx.us/"
          ],
          [
           "146675413.90",
           "https://www.gemini.com/"
          ],
          [
           "75060304.68",
           "https://poloniex.com/"
          ],
          [
           "45440485.87",
           "https://uniswap.org"
          ],
          [
           "36294745.10",
           "https://uniswap.org"
          ],
          [
           "17335244.86",
           "https://www.coinfield.com/"
          ],
          [
           "16028848.27",
           "https://bitso.com/"
          ],
          [
           "9712544.06",
           "https://uniswap.org"
          ],
          [
           "1687490.20",
           "https://www.scalpex.com"
          ],
          [
           "4796290.68",
           "https://crosstower.com/"
          ],
          [
           "3337846.89",
           "https://www.mercadobitcoin.com.br/"
          ],
          [
           "52184.65",
           "https://www.namebase.io"
          ],
          [
           "11062.43",
           "https://qtrade.io"
          ]
         ],
         "geo": "geo",
         "hovertemplate": "<b>%{hovertext}</b><br><br>continent=America<br>country=%{location}<br>volume=%{customdata[0]}<br>website=%{customdata[1]}<extra></extra>",
         "hovertext": [
          "FTX",
          "CryptoMarket",
          "Coinbase Exchange",
          "Uniswap V3 (Ethereum)",
          "Gate.io",
          "Kraken",
          "DeversiFi",
          "Uniswap V2",
          "FTX.us",
          "Gemini",
          "Poloniex",
          "Uniswap V3 (Polygon)",
          "Uniswap V3 (Arbitrum)",
          "CoinField",
          "Bitso",
          "Uniswap V3 (Optimism)",
          "Scalpex",
          "CrossTower",
          "Mercado Bitcoin",
          "Namebase",
          "qTrade"
         ],
         "legendgroup": "America",
         "locations": [
          "ATG",
          "CHL",
          "USA",
          "USA",
          "CYM",
          "USA",
          "VGB",
          "USA",
          "USA",
          "USA",
          "USA",
          "USA",
          "USA",
          "CAN",
          "MEX",
          "USA",
          "VGB",
          "USA",
          "BRA",
          "USA",
          "USA"
         ],
         "marker": {
          "color": "#EF553B",
          "opacity": 0.8,
          "symbol": "circle"
         },
         "mode": "markers",
         "name": "America",
         "showlegend": true,
         "type": "scattergeo"
        },
        {
         "customdata": [
          [
           null,
           "https://www.bitmex.com/"
          ],
          [
           "215446762.25",
           "https://www.probit.com"
          ],
          [
           "7383749.37",
           "https://nominex.io/"
          ],
          [
           "5926955.56",
           "https://coinflex.com/"
          ]
         ],
         "geo": "geo",
         "hovertemplate": "<b>%{hovertext}</b><br><br>continent=Africa<br>country=%{location}<br>volume=%{customdata[0]}<br>website=%{customdata[1]}<extra></extra>",
         "hovertext": [
          "Bitmex",
          "ProBit",
          "Nominex",
          "CoinFLEX"
         ],
         "legendgroup": "Africa",
         "locations": [
          "SYC",
          "SYC",
          "SYC",
          "SYC"
         ],
         "marker": {
          "color": "#00cc96",
          "opacity": 0.8,
          "symbol": "circle"
         },
         "mode": "markers",
         "name": "Africa",
         "showlegend": true,
         "type": "scattergeo"
        },
        {
         "customdata": [
          [
           "934057841.28",
           "https://www.lbank.info/"
          ],
          [
           null,
           "https://phemex.com/"
          ],
          [
           "542411074.34",
           "https://pancakeswap.finance"
          ],
          [
           "146521468.18",
           "https://bitflyer.com/"
          ],
          [
           null,
           "https://delta.exchange/"
          ],
          [
           "79864362.80",
           "https://www.liquid.com/"
          ],
          [
           "19855148.84",
           "https://eqonex.com/"
          ],
          [
           "21207320.56",
           "https://belfrics.com"
          ],
          [
           "2589297.18",
           "https://pancakeswap.finance"
          ],
          [
           "1921587.13",
           "https://app.farhadmarket.com/"
          ]
         ],
         "geo": "geo",
         "hovertemplate": "<b>%{hovertext}</b><br><br>continent=Asia<br>country=%{location}<br>volume=%{customdata[0]}<br>website=%{customdata[1]}<extra></extra>",
         "hovertext": [
          "Lbank",
          "Phemex",
          "PancakeSwap V2",
          "bitFlyer",
          "Delta Exchange",
          "Liquid",
          "EQONEX",
          "Belfrics",
          "PancakeSwap V1",
          "FarhadMarket"
         ],
         "legendgroup": "Asia",
         "locations": [
          "CHN",
          "SGP",
          "JPN",
          "JPN",
          "SGP",
          "JPN",
          "SGP",
          "MYS",
          "JPN",
          "IRN"
         ],
         "marker": {
          "color": "#ab63fa",
          "opacity": 0.8,
          "symbol": "circle"
         },
         "mode": "markers",
         "name": "Asia",
         "showlegend": true,
         "type": "scattergeo"
        },
        {
         "customdata": [
          [
           "287249100.54",
           "https://spookyswap.finance/"
          ],
          [
           "208361597.32",
           "https://sushi.com"
          ],
          [
           "205626363.51",
           "https://www.traderjoexyz.com/"
          ],
          [
           "95724206.44",
           "https://sushi.com"
          ],
          [
           "52746059.67",
           "https://www.spiritswap.finance"
          ],
          [
           "46060475.54",
           "https://sushi.com"
          ],
          [
           "39940094.49",
           "https://quickswap.exchange/"
          ],
          [
           "39277001.45",
           "https://dodoex.io"
          ],
          [
           "33188426.95",
           "https://balancer.fi"
          ],
          [
           "31923329.02",
           "https://dodoex.io"
          ],
          [
           "21455562.38",
           "https://balancer.fi"
          ],
          [
           "18718892.31",
           "https://sushi.com"
          ],
          [
           "18048449.88",
           "https://pangolin.exchange"
          ],
          [
           "16093270.03",
           "https://home.babyswap.finance"
          ],
          [
           "13949792.45",
           "https://mdex.com"
          ],
          [
           "12880143.91",
           "https://shibaswap.com/"
          ],
          [
           "12532371.66",
           "https://apeswap.finance"
          ],
          [
           "12092281.81",
           "https://balancer.fi"
          ],
          [
           "6319961.89",
           "https://solarbeam.io"
          ],
          [
           "5235976.76",
           "https://vvs.finance"
          ],
          [
           "4643066.88",
           "https://viper.exchange/"
          ],
          [
           "3542849.09",
           "https://www.dfyn.network"
          ],
          [
           "2481131.41",
           "https://ubeswap.org"
          ],
          [
           "2417878.53",
           "https://apeswap.finance"
          ],
          [
           "1015475.99",
           "https://www.cherryswap.net/"
          ],
          [
           "711690.81",
           "https://dfx.finance"
          ],
          [
           "622218.38",
           "https://mimo.finance"
          ],
          [
           "495382.29",
           "https://1inch.io"
          ],
          [
           "472708.03",
           "https://kaidex.io"
          ],
          [
           "414118.98",
           "https://sushi.com"
          ],
          [
           "360327.13",
           "https://dfx.finance"
          ],
          [
           "344192.00",
           "https://sushi.com"
          ],
          [
           "221507.19",
           "https://honeyswap.org/"
          ],
          [
           "219906.85",
           "https://polygon.jetswap.finance"
          ],
          [
           "185931.08",
           "https://sushi.com"
          ],
          [
           "168097.71",
           "https://www.dfyn.network"
          ],
          [
           "156870.06",
           "https://jetswap.finance"
          ],
          [
           "134624.93",
           "https://wault.finance"
          ],
          [
           "127536.31",
           "https://sushi.com"
          ],
          [
           "126160.23",
           "https://kuswap.finance/"
          ],
          [
           "124260.75",
           "https://polycat.finance"
          ],
          [
           "70941.18",
           "https://yetiswap.app"
          ],
          [
           "67831.65",
           "https://www.latteswap.com/"
          ],
          [
           "54787.22",
           "https://1inch.io"
          ],
          [
           "38718.21",
           "https://fantom.jetswap.finance"
          ],
          [
           "36605.74",
           "https://padswap.exchange"
          ],
          [
           "34334.45",
           "https://wault.finance"
          ],
          [
           "17808.06",
           "https://crodex.app"
          ],
          [
           "12952.09",
           "https://www.empiredex.org"
          ],
          [
           "6530.57",
           "https://levinswap.org"
          ],
          [
           "5209.10",
           "https://baguette.exchange"
          ],
          [
           "4347.60",
           "https://honeyswap.org/"
          ]
         ],
         "geo": "geo",
         "hovertemplate": "<b>%{hovertext}</b><br><br>continent=DEX = 52<br>country=%{location}<br>volume=%{customdata[0]}<br>website=%{customdata[1]}<extra></extra>",
         "hovertext": [
          "SpookySwap",
          "SushiSwap (Ethereum)",
          "Trader Joe",
          "SushiSwap (Avalanche)",
          "SpiritSwap",
          "SushiSwap (Arbitrum)",
          "QuickSwap",
          "DODO (Ethereum)",
          "Balancer V2 (Ethereum)",
          "DODO (Polygon)",
          "Balancer V2 (Polygon)",
          "SushiSwap (Polygon)",
          "Pangolin",
          "BabySwap",
          "Mdex (BSC)",
          "ShibaSwap",
          "ApeSwap (BSC)",
          "Balancer V1",
          "Solarbeam",
          "VVS Finance",
          "ViperSwap",
          "Dfyn (Polygon)",
          "Ubeswap",
          "ApeSwap (Polygon)",
          "CherrySwap",
          "DFX (Polygon)",
          "Mimo",
          "1inch V2 (Ethereum)",
          "KaiDex",
          "SushiSwap (Fantom)",
          "DFX (Ethereum)",
          "SushiSwap (xDai)",
          "Honeyswap (xDai)",
          "JetSwap (Polygon)",
          "SushiSwap (BSC)",
          "Dfyn (Fantom)",
          "JetSwap (BSC)",
          "WaultSwap (BSC)",
          "SushiSwap (Celo)",
          "KuSwap",
          "Polycat",
          "YetiSwap",
          "LatteSwap",
          "1inch V2 (BSC)",
          "JetSwap (Fantom)",
          "PadSwap",
          "WaultSwap (Polygon)",
          "Crodex",
          "Empire DEX (BSC)",
          "Levinswap",
          "Baguette",
          "Honeyswap (Polygon)"
         ],
         "legendgroup": "DEX = 52",
         "locations": [
          "DEX = 52",
          "DEX = 52",
          "DEX = 52",
          "DEX = 52",
          "DEX = 52",
          "DEX = 52",
          "DEX = 52",
          "DEX = 52",
          "DEX = 52",
          "DEX = 52",
          "DEX = 52",
          "DEX = 52",
          "DEX = 52",
          "DEX = 52",
          "DEX = 52",
          "DEX = 52",
          "DEX = 52",
          "DEX = 52",
          "DEX = 52",
          "DEX = 52",
          "DEX = 52",
          "DEX = 52",
          "DEX = 52",
          "DEX = 52",
          "DEX = 52",
          "DEX = 52",
          "DEX = 52",
          "DEX = 52",
          "DEX = 52",
          "DEX = 52",
          "DEX = 52",
          "DEX = 52",
          "DEX = 52",
          "DEX = 52",
          "DEX = 52",
          "DEX = 52",
          "DEX = 52",
          "DEX = 52",
          "DEX = 52",
          "DEX = 52",
          "DEX = 52",
          "DEX = 52",
          "DEX = 52",
          "DEX = 52",
          "DEX = 52",
          "DEX = 52",
          "DEX = 52",
          "DEX = 52",
          "DEX = 52",
          "DEX = 52",
          "DEX = 52",
          "DEX = 52"
         ],
         "marker": {
          "color": "#FFA15A",
          "opacity": 0.8,
          "symbol": "circle"
         },
         "mode": "markers",
         "name": "DEX = 52",
         "showlegend": true,
         "type": "scattergeo"
        }
       ],
       "layout": {
        "geo": {
         "center": {},
         "domain": {
          "x": [
           0,
           1
          ],
          "y": [
           0,
           1
          ]
         },
         "projection": {
          "type": "orthographic"
         }
        },
        "legend": {
         "title": {
          "text": "continent"
         },
         "tracegroupgap": 0
        },
        "margin": {
         "t": 60
        },
        "template": {
         "data": {
          "bar": [
           {
            "error_x": {
             "color": "#2a3f5f"
            },
            "error_y": {
             "color": "#2a3f5f"
            },
            "marker": {
             "line": {
              "color": "#E5ECF6",
              "width": 0.5
             },
             "pattern": {
              "fillmode": "overlay",
              "size": 10,
              "solidity": 0.2
             }
            },
            "type": "bar"
           }
          ],
          "barpolar": [
           {
            "marker": {
             "line": {
              "color": "#E5ECF6",
              "width": 0.5
             },
             "pattern": {
              "fillmode": "overlay",
              "size": 10,
              "solidity": 0.2
             }
            },
            "type": "barpolar"
           }
          ],
          "carpet": [
           {
            "aaxis": {
             "endlinecolor": "#2a3f5f",
             "gridcolor": "white",
             "linecolor": "white",
             "minorgridcolor": "white",
             "startlinecolor": "#2a3f5f"
            },
            "baxis": {
             "endlinecolor": "#2a3f5f",
             "gridcolor": "white",
             "linecolor": "white",
             "minorgridcolor": "white",
             "startlinecolor": "#2a3f5f"
            },
            "type": "carpet"
           }
          ],
          "choropleth": [
           {
            "colorbar": {
             "outlinewidth": 0,
             "ticks": ""
            },
            "type": "choropleth"
           }
          ],
          "contour": [
           {
            "colorbar": {
             "outlinewidth": 0,
             "ticks": ""
            },
            "colorscale": [
             [
              0,
              "#0d0887"
             ],
             [
              0.1111111111111111,
              "#46039f"
             ],
             [
              0.2222222222222222,
              "#7201a8"
             ],
             [
              0.3333333333333333,
              "#9c179e"
             ],
             [
              0.4444444444444444,
              "#bd3786"
             ],
             [
              0.5555555555555556,
              "#d8576b"
             ],
             [
              0.6666666666666666,
              "#ed7953"
             ],
             [
              0.7777777777777778,
              "#fb9f3a"
             ],
             [
              0.8888888888888888,
              "#fdca26"
             ],
             [
              1,
              "#f0f921"
             ]
            ],
            "type": "contour"
           }
          ],
          "contourcarpet": [
           {
            "colorbar": {
             "outlinewidth": 0,
             "ticks": ""
            },
            "type": "contourcarpet"
           }
          ],
          "heatmap": [
           {
            "colorbar": {
             "outlinewidth": 0,
             "ticks": ""
            },
            "colorscale": [
             [
              0,
              "#0d0887"
             ],
             [
              0.1111111111111111,
              "#46039f"
             ],
             [
              0.2222222222222222,
              "#7201a8"
             ],
             [
              0.3333333333333333,
              "#9c179e"
             ],
             [
              0.4444444444444444,
              "#bd3786"
             ],
             [
              0.5555555555555556,
              "#d8576b"
             ],
             [
              0.6666666666666666,
              "#ed7953"
             ],
             [
              0.7777777777777778,
              "#fb9f3a"
             ],
             [
              0.8888888888888888,
              "#fdca26"
             ],
             [
              1,
              "#f0f921"
             ]
            ],
            "type": "heatmap"
           }
          ],
          "heatmapgl": [
           {
            "colorbar": {
             "outlinewidth": 0,
             "ticks": ""
            },
            "colorscale": [
             [
              0,
              "#0d0887"
             ],
             [
              0.1111111111111111,
              "#46039f"
             ],
             [
              0.2222222222222222,
              "#7201a8"
             ],
             [
              0.3333333333333333,
              "#9c179e"
             ],
             [
              0.4444444444444444,
              "#bd3786"
             ],
             [
              0.5555555555555556,
              "#d8576b"
             ],
             [
              0.6666666666666666,
              "#ed7953"
             ],
             [
              0.7777777777777778,
              "#fb9f3a"
             ],
             [
              0.8888888888888888,
              "#fdca26"
             ],
             [
              1,
              "#f0f921"
             ]
            ],
            "type": "heatmapgl"
           }
          ],
          "histogram": [
           {
            "marker": {
             "pattern": {
              "fillmode": "overlay",
              "size": 10,
              "solidity": 0.2
             }
            },
            "type": "histogram"
           }
          ],
          "histogram2d": [
           {
            "colorbar": {
             "outlinewidth": 0,
             "ticks": ""
            },
            "colorscale": [
             [
              0,
              "#0d0887"
             ],
             [
              0.1111111111111111,
              "#46039f"
             ],
             [
              0.2222222222222222,
              "#7201a8"
             ],
             [
              0.3333333333333333,
              "#9c179e"
             ],
             [
              0.4444444444444444,
              "#bd3786"
             ],
             [
              0.5555555555555556,
              "#d8576b"
             ],
             [
              0.6666666666666666,
              "#ed7953"
             ],
             [
              0.7777777777777778,
              "#fb9f3a"
             ],
             [
              0.8888888888888888,
              "#fdca26"
             ],
             [
              1,
              "#f0f921"
             ]
            ],
            "type": "histogram2d"
           }
          ],
          "histogram2dcontour": [
           {
            "colorbar": {
             "outlinewidth": 0,
             "ticks": ""
            },
            "colorscale": [
             [
              0,
              "#0d0887"
             ],
             [
              0.1111111111111111,
              "#46039f"
             ],
             [
              0.2222222222222222,
              "#7201a8"
             ],
             [
              0.3333333333333333,
              "#9c179e"
             ],
             [
              0.4444444444444444,
              "#bd3786"
             ],
             [
              0.5555555555555556,
              "#d8576b"
             ],
             [
              0.6666666666666666,
              "#ed7953"
             ],
             [
              0.7777777777777778,
              "#fb9f3a"
             ],
             [
              0.8888888888888888,
              "#fdca26"
             ],
             [
              1,
              "#f0f921"
             ]
            ],
            "type": "histogram2dcontour"
           }
          ],
          "mesh3d": [
           {
            "colorbar": {
             "outlinewidth": 0,
             "ticks": ""
            },
            "type": "mesh3d"
           }
          ],
          "parcoords": [
           {
            "line": {
             "colorbar": {
              "outlinewidth": 0,
              "ticks": ""
             }
            },
            "type": "parcoords"
           }
          ],
          "pie": [
           {
            "automargin": true,
            "type": "pie"
           }
          ],
          "scatter": [
           {
            "marker": {
             "colorbar": {
              "outlinewidth": 0,
              "ticks": ""
             }
            },
            "type": "scatter"
           }
          ],
          "scatter3d": [
           {
            "line": {
             "colorbar": {
              "outlinewidth": 0,
              "ticks": ""
             }
            },
            "marker": {
             "colorbar": {
              "outlinewidth": 0,
              "ticks": ""
             }
            },
            "type": "scatter3d"
           }
          ],
          "scattercarpet": [
           {
            "marker": {
             "colorbar": {
              "outlinewidth": 0,
              "ticks": ""
             }
            },
            "type": "scattercarpet"
           }
          ],
          "scattergeo": [
           {
            "marker": {
             "colorbar": {
              "outlinewidth": 0,
              "ticks": ""
             }
            },
            "type": "scattergeo"
           }
          ],
          "scattergl": [
           {
            "marker": {
             "colorbar": {
              "outlinewidth": 0,
              "ticks": ""
             }
            },
            "type": "scattergl"
           }
          ],
          "scattermapbox": [
           {
            "marker": {
             "colorbar": {
              "outlinewidth": 0,
              "ticks": ""
             }
            },
            "type": "scattermapbox"
           }
          ],
          "scatterpolar": [
           {
            "marker": {
             "colorbar": {
              "outlinewidth": 0,
              "ticks": ""
             }
            },
            "type": "scatterpolar"
           }
          ],
          "scatterpolargl": [
           {
            "marker": {
             "colorbar": {
              "outlinewidth": 0,
              "ticks": ""
             }
            },
            "type": "scatterpolargl"
           }
          ],
          "scatterternary": [
           {
            "marker": {
             "colorbar": {
              "outlinewidth": 0,
              "ticks": ""
             }
            },
            "type": "scatterternary"
           }
          ],
          "surface": [
           {
            "colorbar": {
             "outlinewidth": 0,
             "ticks": ""
            },
            "colorscale": [
             [
              0,
              "#0d0887"
             ],
             [
              0.1111111111111111,
              "#46039f"
             ],
             [
              0.2222222222222222,
              "#7201a8"
             ],
             [
              0.3333333333333333,
              "#9c179e"
             ],
             [
              0.4444444444444444,
              "#bd3786"
             ],
             [
              0.5555555555555556,
              "#d8576b"
             ],
             [
              0.6666666666666666,
              "#ed7953"
             ],
             [
              0.7777777777777778,
              "#fb9f3a"
             ],
             [
              0.8888888888888888,
              "#fdca26"
             ],
             [
              1,
              "#f0f921"
             ]
            ],
            "type": "surface"
           }
          ],
          "table": [
           {
            "cells": {
             "fill": {
              "color": "#EBF0F8"
             },
             "line": {
              "color": "white"
             }
            },
            "header": {
             "fill": {
              "color": "#C8D4E3"
             },
             "line": {
              "color": "white"
             }
            },
            "type": "table"
           }
          ]
         },
         "layout": {
          "annotationdefaults": {
           "arrowcolor": "#2a3f5f",
           "arrowhead": 0,
           "arrowwidth": 1
          },
          "autotypenumbers": "strict",
          "coloraxis": {
           "colorbar": {
            "outlinewidth": 0,
            "ticks": ""
           }
          },
          "colorscale": {
           "diverging": [
            [
             0,
             "#8e0152"
            ],
            [
             0.1,
             "#c51b7d"
            ],
            [
             0.2,
             "#de77ae"
            ],
            [
             0.3,
             "#f1b6da"
            ],
            [
             0.4,
             "#fde0ef"
            ],
            [
             0.5,
             "#f7f7f7"
            ],
            [
             0.6,
             "#e6f5d0"
            ],
            [
             0.7,
             "#b8e186"
            ],
            [
             0.8,
             "#7fbc41"
            ],
            [
             0.9,
             "#4d9221"
            ],
            [
             1,
             "#276419"
            ]
           ],
           "sequential": [
            [
             0,
             "#0d0887"
            ],
            [
             0.1111111111111111,
             "#46039f"
            ],
            [
             0.2222222222222222,
             "#7201a8"
            ],
            [
             0.3333333333333333,
             "#9c179e"
            ],
            [
             0.4444444444444444,
             "#bd3786"
            ],
            [
             0.5555555555555556,
             "#d8576b"
            ],
            [
             0.6666666666666666,
             "#ed7953"
            ],
            [
             0.7777777777777778,
             "#fb9f3a"
            ],
            [
             0.8888888888888888,
             "#fdca26"
            ],
            [
             1,
             "#f0f921"
            ]
           ],
           "sequentialminus": [
            [
             0,
             "#0d0887"
            ],
            [
             0.1111111111111111,
             "#46039f"
            ],
            [
             0.2222222222222222,
             "#7201a8"
            ],
            [
             0.3333333333333333,
             "#9c179e"
            ],
            [
             0.4444444444444444,
             "#bd3786"
            ],
            [
             0.5555555555555556,
             "#d8576b"
            ],
            [
             0.6666666666666666,
             "#ed7953"
            ],
            [
             0.7777777777777778,
             "#fb9f3a"
            ],
            [
             0.8888888888888888,
             "#fdca26"
            ],
            [
             1,
             "#f0f921"
            ]
           ]
          },
          "colorway": [
           "#636efa",
           "#EF553B",
           "#00cc96",
           "#ab63fa",
           "#FFA15A",
           "#19d3f3",
           "#FF6692",
           "#B6E880",
           "#FF97FF",
           "#FECB52"
          ],
          "font": {
           "color": "#2a3f5f"
          },
          "geo": {
           "bgcolor": "white",
           "lakecolor": "white",
           "landcolor": "#E5ECF6",
           "showlakes": true,
           "showland": true,
           "subunitcolor": "white"
          },
          "hoverlabel": {
           "align": "left"
          },
          "hovermode": "closest",
          "mapbox": {
           "style": "light"
          },
          "paper_bgcolor": "white",
          "plot_bgcolor": "#E5ECF6",
          "polar": {
           "angularaxis": {
            "gridcolor": "white",
            "linecolor": "white",
            "ticks": ""
           },
           "bgcolor": "#E5ECF6",
           "radialaxis": {
            "gridcolor": "white",
            "linecolor": "white",
            "ticks": ""
           }
          },
          "scene": {
           "xaxis": {
            "backgroundcolor": "#E5ECF6",
            "gridcolor": "white",
            "gridwidth": 2,
            "linecolor": "white",
            "showbackground": true,
            "ticks": "",
            "zerolinecolor": "white"
           },
           "yaxis": {
            "backgroundcolor": "#E5ECF6",
            "gridcolor": "white",
            "gridwidth": 2,
            "linecolor": "white",
            "showbackground": true,
            "ticks": "",
            "zerolinecolor": "white"
           },
           "zaxis": {
            "backgroundcolor": "#E5ECF6",
            "gridcolor": "white",
            "gridwidth": 2,
            "linecolor": "white",
            "showbackground": true,
            "ticks": "",
            "zerolinecolor": "white"
           }
          },
          "shapedefaults": {
           "line": {
            "color": "#2a3f5f"
           }
          },
          "ternary": {
           "aaxis": {
            "gridcolor": "white",
            "linecolor": "white",
            "ticks": ""
           },
           "baxis": {
            "gridcolor": "white",
            "linecolor": "white",
            "ticks": ""
           },
           "bgcolor": "#E5ECF6",
           "caxis": {
            "gridcolor": "white",
            "linecolor": "white",
            "ticks": ""
           }
          },
          "title": {
           "x": 0.05
          },
          "xaxis": {
           "automargin": true,
           "gridcolor": "white",
           "linecolor": "white",
           "ticks": "",
           "title": {
            "standoff": 15
           },
           "zerolinecolor": "white",
           "zerolinewidth": 2
          },
          "yaxis": {
           "automargin": true,
           "gridcolor": "white",
           "linecolor": "white",
           "ticks": "",
           "title": {
            "standoff": 15
           },
           "zerolinecolor": "white",
           "zerolinewidth": 2
          }
         }
        }
       }
      },
      "text/html": [
       "<div>                            <div id=\"8bbaa022-93e2-42b6-b63d-1bb7f14a55c4\" class=\"plotly-graph-div\" style=\"height:525px; width:100%;\"></div>            <script type=\"text/javascript\">                require([\"plotly\"], function(Plotly) {                    window.PLOTLYENV=window.PLOTLYENV || {};                                    if (document.getElementById(\"8bbaa022-93e2-42b6-b63d-1bb7f14a55c4\")) {                    Plotly.newPlot(                        \"8bbaa022-93e2-42b6-b63d-1bb7f14a55c4\",                        [{\"customdata\":[[\"13040185693.24\",\"https://www.binance.com/\"],[\"347787104.13\",\"https://curve.fi/\"],[\"204285334.49\",\"https://www.bitstamp.net/\"],[\"20580078.73\",\"https://cex.io/\"],[\"12198452.32\",\"https://polyx.net\"],[\"2954186.83\",\"https://currency.com/\"],[\"1560977.89\",\"https://www.binance.org/\"],[\"1481363.09\",\"https://redot.com/\"],[\"989404.79\",\"https://therocktrading.com/\"],[\"350380.67\",\"https://sigen.pro\"],[\"101382.38\",\"https://app.defiplaza.net\"],[\"18885.37\",\"https://blocktrade.com/\"],[\"9969.45\",\"https://zebitex.com\"]],\"geo\":\"geo\",\"hovertemplate\":\"<b>%{hovertext}</b><br><br>continent=Europe<br>country=%{location}<br>volume=%{customdata[0]}<br>website=%{customdata[1]}<extra></extra>\",\"hovertext\":[\"Binance\",\"Curve Finance\",\"Bitstamp\",\"CEX.IO\",\"Polyx\",\"Currency.com\",\"Binance DEX\",\"Redot\",\"The Rock Trading\",\"SIGEN.pro\",\"DefiPlaza\",\"Blocktrade\",\"ZEBITEX\"],\"legendgroup\":\"Europe\",\"locations\":[\"MLT\",\"CHE\",\"LUX\",\"GBR\",\"EST\",\"BLR\",\"MLT\",\"EST\",\"ITA\",\"GBR\",\"NLD\",\"LUX\",\"FRA\"],\"marker\":{\"color\":\"#636efa\",\"opacity\":0.8,\"symbol\":\"circle\"},\"mode\":\"markers\",\"name\":\"Europe\",\"showlegend\":true,\"type\":\"scattergeo\"},{\"customdata\":[[\"1863078722.55\",\"https://ftx.com/\"],[\"3133990568.90\",\"https://www.cryptomkt.com/\"],[\"3075137778.04\",\"https://www.coinbase.com/\"],[\"1675489178.00\",\"https://uniswap.org\"],[\"1096211749.78\",\"https://www.gate.io/\"],[\"884269444.37\",\"https://www.kraken.com/\"],[\"874410932.85\",\"https://www.deversifi.com/\"],[\"322191888.97\",\"https://uniswap.org\"],[\"189901381.08\",\"https://ftx.us/\"],[\"146675413.90\",\"https://www.gemini.com/\"],[\"75060304.68\",\"https://poloniex.com/\"],[\"45440485.87\",\"https://uniswap.org\"],[\"36294745.10\",\"https://uniswap.org\"],[\"17335244.86\",\"https://www.coinfield.com/\"],[\"16028848.27\",\"https://bitso.com/\"],[\"9712544.06\",\"https://uniswap.org\"],[\"1687490.20\",\"https://www.scalpex.com\"],[\"4796290.68\",\"https://crosstower.com/\"],[\"3337846.89\",\"https://www.mercadobitcoin.com.br/\"],[\"52184.65\",\"https://www.namebase.io\"],[\"11062.43\",\"https://qtrade.io\"]],\"geo\":\"geo\",\"hovertemplate\":\"<b>%{hovertext}</b><br><br>continent=America<br>country=%{location}<br>volume=%{customdata[0]}<br>website=%{customdata[1]}<extra></extra>\",\"hovertext\":[\"FTX\",\"CryptoMarket\",\"Coinbase Exchange\",\"Uniswap V3 (Ethereum)\",\"Gate.io\",\"Kraken\",\"DeversiFi\",\"Uniswap V2\",\"FTX.us\",\"Gemini\",\"Poloniex\",\"Uniswap V3 (Polygon)\",\"Uniswap V3 (Arbitrum)\",\"CoinField\",\"Bitso\",\"Uniswap V3 (Optimism)\",\"Scalpex\",\"CrossTower\",\"Mercado Bitcoin\",\"Namebase\",\"qTrade\"],\"legendgroup\":\"America\",\"locations\":[\"ATG\",\"CHL\",\"USA\",\"USA\",\"CYM\",\"USA\",\"VGB\",\"USA\",\"USA\",\"USA\",\"USA\",\"USA\",\"USA\",\"CAN\",\"MEX\",\"USA\",\"VGB\",\"USA\",\"BRA\",\"USA\",\"USA\"],\"marker\":{\"color\":\"#EF553B\",\"opacity\":0.8,\"symbol\":\"circle\"},\"mode\":\"markers\",\"name\":\"America\",\"showlegend\":true,\"type\":\"scattergeo\"},{\"customdata\":[[null,\"https://www.bitmex.com/\"],[\"215446762.25\",\"https://www.probit.com\"],[\"7383749.37\",\"https://nominex.io/\"],[\"5926955.56\",\"https://coinflex.com/\"]],\"geo\":\"geo\",\"hovertemplate\":\"<b>%{hovertext}</b><br><br>continent=Africa<br>country=%{location}<br>volume=%{customdata[0]}<br>website=%{customdata[1]}<extra></extra>\",\"hovertext\":[\"Bitmex\",\"ProBit\",\"Nominex\",\"CoinFLEX\"],\"legendgroup\":\"Africa\",\"locations\":[\"SYC\",\"SYC\",\"SYC\",\"SYC\"],\"marker\":{\"color\":\"#00cc96\",\"opacity\":0.8,\"symbol\":\"circle\"},\"mode\":\"markers\",\"name\":\"Africa\",\"showlegend\":true,\"type\":\"scattergeo\"},{\"customdata\":[[\"934057841.28\",\"https://www.lbank.info/\"],[null,\"https://phemex.com/\"],[\"542411074.34\",\"https://pancakeswap.finance\"],[\"146521468.18\",\"https://bitflyer.com/\"],[null,\"https://delta.exchange/\"],[\"79864362.80\",\"https://www.liquid.com/\"],[\"19855148.84\",\"https://eqonex.com/\"],[\"21207320.56\",\"https://belfrics.com\"],[\"2589297.18\",\"https://pancakeswap.finance\"],[\"1921587.13\",\"https://app.farhadmarket.com/\"]],\"geo\":\"geo\",\"hovertemplate\":\"<b>%{hovertext}</b><br><br>continent=Asia<br>country=%{location}<br>volume=%{customdata[0]}<br>website=%{customdata[1]}<extra></extra>\",\"hovertext\":[\"Lbank\",\"Phemex\",\"PancakeSwap V2\",\"bitFlyer\",\"Delta Exchange\",\"Liquid\",\"EQONEX\",\"Belfrics\",\"PancakeSwap V1\",\"FarhadMarket\"],\"legendgroup\":\"Asia\",\"locations\":[\"CHN\",\"SGP\",\"JPN\",\"JPN\",\"SGP\",\"JPN\",\"SGP\",\"MYS\",\"JPN\",\"IRN\"],\"marker\":{\"color\":\"#ab63fa\",\"opacity\":0.8,\"symbol\":\"circle\"},\"mode\":\"markers\",\"name\":\"Asia\",\"showlegend\":true,\"type\":\"scattergeo\"},{\"customdata\":[[\"287249100.54\",\"https://spookyswap.finance/\"],[\"208361597.32\",\"https://sushi.com\"],[\"205626363.51\",\"https://www.traderjoexyz.com/\"],[\"95724206.44\",\"https://sushi.com\"],[\"52746059.67\",\"https://www.spiritswap.finance\"],[\"46060475.54\",\"https://sushi.com\"],[\"39940094.49\",\"https://quickswap.exchange/\"],[\"39277001.45\",\"https://dodoex.io\"],[\"33188426.95\",\"https://balancer.fi\"],[\"31923329.02\",\"https://dodoex.io\"],[\"21455562.38\",\"https://balancer.fi\"],[\"18718892.31\",\"https://sushi.com\"],[\"18048449.88\",\"https://pangolin.exchange\"],[\"16093270.03\",\"https://home.babyswap.finance\"],[\"13949792.45\",\"https://mdex.com\"],[\"12880143.91\",\"https://shibaswap.com/\"],[\"12532371.66\",\"https://apeswap.finance\"],[\"12092281.81\",\"https://balancer.fi\"],[\"6319961.89\",\"https://solarbeam.io\"],[\"5235976.76\",\"https://vvs.finance\"],[\"4643066.88\",\"https://viper.exchange/\"],[\"3542849.09\",\"https://www.dfyn.network\"],[\"2481131.41\",\"https://ubeswap.org\"],[\"2417878.53\",\"https://apeswap.finance\"],[\"1015475.99\",\"https://www.cherryswap.net/\"],[\"711690.81\",\"https://dfx.finance\"],[\"622218.38\",\"https://mimo.finance\"],[\"495382.29\",\"https://1inch.io\"],[\"472708.03\",\"https://kaidex.io\"],[\"414118.98\",\"https://sushi.com\"],[\"360327.13\",\"https://dfx.finance\"],[\"344192.00\",\"https://sushi.com\"],[\"221507.19\",\"https://honeyswap.org/\"],[\"219906.85\",\"https://polygon.jetswap.finance\"],[\"185931.08\",\"https://sushi.com\"],[\"168097.71\",\"https://www.dfyn.network\"],[\"156870.06\",\"https://jetswap.finance\"],[\"134624.93\",\"https://wault.finance\"],[\"127536.31\",\"https://sushi.com\"],[\"126160.23\",\"https://kuswap.finance/\"],[\"124260.75\",\"https://polycat.finance\"],[\"70941.18\",\"https://yetiswap.app\"],[\"67831.65\",\"https://www.latteswap.com/\"],[\"54787.22\",\"https://1inch.io\"],[\"38718.21\",\"https://fantom.jetswap.finance\"],[\"36605.74\",\"https://padswap.exchange\"],[\"34334.45\",\"https://wault.finance\"],[\"17808.06\",\"https://crodex.app\"],[\"12952.09\",\"https://www.empiredex.org\"],[\"6530.57\",\"https://levinswap.org\"],[\"5209.10\",\"https://baguette.exchange\"],[\"4347.60\",\"https://honeyswap.org/\"]],\"geo\":\"geo\",\"hovertemplate\":\"<b>%{hovertext}</b><br><br>continent=DEX = 52<br>country=%{location}<br>volume=%{customdata[0]}<br>website=%{customdata[1]}<extra></extra>\",\"hovertext\":[\"SpookySwap\",\"SushiSwap (Ethereum)\",\"Trader Joe\",\"SushiSwap (Avalanche)\",\"SpiritSwap\",\"SushiSwap (Arbitrum)\",\"QuickSwap\",\"DODO (Ethereum)\",\"Balancer V2 (Ethereum)\",\"DODO (Polygon)\",\"Balancer V2 (Polygon)\",\"SushiSwap (Polygon)\",\"Pangolin\",\"BabySwap\",\"Mdex (BSC)\",\"ShibaSwap\",\"ApeSwap (BSC)\",\"Balancer V1\",\"Solarbeam\",\"VVS Finance\",\"ViperSwap\",\"Dfyn (Polygon)\",\"Ubeswap\",\"ApeSwap (Polygon)\",\"CherrySwap\",\"DFX (Polygon)\",\"Mimo\",\"1inch V2 (Ethereum)\",\"KaiDex\",\"SushiSwap (Fantom)\",\"DFX (Ethereum)\",\"SushiSwap (xDai)\",\"Honeyswap (xDai)\",\"JetSwap (Polygon)\",\"SushiSwap (BSC)\",\"Dfyn (Fantom)\",\"JetSwap (BSC)\",\"WaultSwap (BSC)\",\"SushiSwap (Celo)\",\"KuSwap\",\"Polycat\",\"YetiSwap\",\"LatteSwap\",\"1inch V2 (BSC)\",\"JetSwap (Fantom)\",\"PadSwap\",\"WaultSwap (Polygon)\",\"Crodex\",\"Empire DEX (BSC)\",\"Levinswap\",\"Baguette\",\"Honeyswap (Polygon)\"],\"legendgroup\":\"DEX = 52\",\"locations\":[\"DEX = 52\",\"DEX = 52\",\"DEX = 52\",\"DEX = 52\",\"DEX = 52\",\"DEX = 52\",\"DEX = 52\",\"DEX = 52\",\"DEX = 52\",\"DEX = 52\",\"DEX = 52\",\"DEX = 52\",\"DEX = 52\",\"DEX = 52\",\"DEX = 52\",\"DEX = 52\",\"DEX = 52\",\"DEX = 52\",\"DEX = 52\",\"DEX = 52\",\"DEX = 52\",\"DEX = 52\",\"DEX = 52\",\"DEX = 52\",\"DEX = 52\",\"DEX = 52\",\"DEX = 52\",\"DEX = 52\",\"DEX = 52\",\"DEX = 52\",\"DEX = 52\",\"DEX = 52\",\"DEX = 52\",\"DEX = 52\",\"DEX = 52\",\"DEX = 52\",\"DEX = 52\",\"DEX = 52\",\"DEX = 52\",\"DEX = 52\",\"DEX = 52\",\"DEX = 52\",\"DEX = 52\",\"DEX = 52\",\"DEX = 52\",\"DEX = 52\",\"DEX = 52\",\"DEX = 52\",\"DEX = 52\",\"DEX = 52\",\"DEX = 52\",\"DEX = 52\"],\"marker\":{\"color\":\"#FFA15A\",\"opacity\":0.8,\"symbol\":\"circle\"},\"mode\":\"markers\",\"name\":\"DEX = 52\",\"showlegend\":true,\"type\":\"scattergeo\"}],                        {\"template\":{\"data\":{\"bar\":[{\"error_x\":{\"color\":\"#2a3f5f\"},\"error_y\":{\"color\":\"#2a3f5f\"},\"marker\":{\"line\":{\"color\":\"#E5ECF6\",\"width\":0.5},\"pattern\":{\"fillmode\":\"overlay\",\"size\":10,\"solidity\":0.2}},\"type\":\"bar\"}],\"barpolar\":[{\"marker\":{\"line\":{\"color\":\"#E5ECF6\",\"width\":0.5},\"pattern\":{\"fillmode\":\"overlay\",\"size\":10,\"solidity\":0.2}},\"type\":\"barpolar\"}],\"carpet\":[{\"aaxis\":{\"endlinecolor\":\"#2a3f5f\",\"gridcolor\":\"white\",\"linecolor\":\"white\",\"minorgridcolor\":\"white\",\"startlinecolor\":\"#2a3f5f\"},\"baxis\":{\"endlinecolor\":\"#2a3f5f\",\"gridcolor\":\"white\",\"linecolor\":\"white\",\"minorgridcolor\":\"white\",\"startlinecolor\":\"#2a3f5f\"},\"type\":\"carpet\"}],\"choropleth\":[{\"colorbar\":{\"outlinewidth\":0,\"ticks\":\"\"},\"type\":\"choropleth\"}],\"contour\":[{\"colorbar\":{\"outlinewidth\":0,\"ticks\":\"\"},\"colorscale\":[[0.0,\"#0d0887\"],[0.1111111111111111,\"#46039f\"],[0.2222222222222222,\"#7201a8\"],[0.3333333333333333,\"#9c179e\"],[0.4444444444444444,\"#bd3786\"],[0.5555555555555556,\"#d8576b\"],[0.6666666666666666,\"#ed7953\"],[0.7777777777777778,\"#fb9f3a\"],[0.8888888888888888,\"#fdca26\"],[1.0,\"#f0f921\"]],\"type\":\"contour\"}],\"contourcarpet\":[{\"colorbar\":{\"outlinewidth\":0,\"ticks\":\"\"},\"type\":\"contourcarpet\"}],\"heatmap\":[{\"colorbar\":{\"outlinewidth\":0,\"ticks\":\"\"},\"colorscale\":[[0.0,\"#0d0887\"],[0.1111111111111111,\"#46039f\"],[0.2222222222222222,\"#7201a8\"],[0.3333333333333333,\"#9c179e\"],[0.4444444444444444,\"#bd3786\"],[0.5555555555555556,\"#d8576b\"],[0.6666666666666666,\"#ed7953\"],[0.7777777777777778,\"#fb9f3a\"],[0.8888888888888888,\"#fdca26\"],[1.0,\"#f0f921\"]],\"type\":\"heatmap\"}],\"heatmapgl\":[{\"colorbar\":{\"outlinewidth\":0,\"ticks\":\"\"},\"colorscale\":[[0.0,\"#0d0887\"],[0.1111111111111111,\"#46039f\"],[0.2222222222222222,\"#7201a8\"],[0.3333333333333333,\"#9c179e\"],[0.4444444444444444,\"#bd3786\"],[0.5555555555555556,\"#d8576b\"],[0.6666666666666666,\"#ed7953\"],[0.7777777777777778,\"#fb9f3a\"],[0.8888888888888888,\"#fdca26\"],[1.0,\"#f0f921\"]],\"type\":\"heatmapgl\"}],\"histogram\":[{\"marker\":{\"pattern\":{\"fillmode\":\"overlay\",\"size\":10,\"solidity\":0.2}},\"type\":\"histogram\"}],\"histogram2d\":[{\"colorbar\":{\"outlinewidth\":0,\"ticks\":\"\"},\"colorscale\":[[0.0,\"#0d0887\"],[0.1111111111111111,\"#46039f\"],[0.2222222222222222,\"#7201a8\"],[0.3333333333333333,\"#9c179e\"],[0.4444444444444444,\"#bd3786\"],[0.5555555555555556,\"#d8576b\"],[0.6666666666666666,\"#ed7953\"],[0.7777777777777778,\"#fb9f3a\"],[0.8888888888888888,\"#fdca26\"],[1.0,\"#f0f921\"]],\"type\":\"histogram2d\"}],\"histogram2dcontour\":[{\"colorbar\":{\"outlinewidth\":0,\"ticks\":\"\"},\"colorscale\":[[0.0,\"#0d0887\"],[0.1111111111111111,\"#46039f\"],[0.2222222222222222,\"#7201a8\"],[0.3333333333333333,\"#9c179e\"],[0.4444444444444444,\"#bd3786\"],[0.5555555555555556,\"#d8576b\"],[0.6666666666666666,\"#ed7953\"],[0.7777777777777778,\"#fb9f3a\"],[0.8888888888888888,\"#fdca26\"],[1.0,\"#f0f921\"]],\"type\":\"histogram2dcontour\"}],\"mesh3d\":[{\"colorbar\":{\"outlinewidth\":0,\"ticks\":\"\"},\"type\":\"mesh3d\"}],\"parcoords\":[{\"line\":{\"colorbar\":{\"outlinewidth\":0,\"ticks\":\"\"}},\"type\":\"parcoords\"}],\"pie\":[{\"automargin\":true,\"type\":\"pie\"}],\"scatter\":[{\"marker\":{\"colorbar\":{\"outlinewidth\":0,\"ticks\":\"\"}},\"type\":\"scatter\"}],\"scatter3d\":[{\"line\":{\"colorbar\":{\"outlinewidth\":0,\"ticks\":\"\"}},\"marker\":{\"colorbar\":{\"outlinewidth\":0,\"ticks\":\"\"}},\"type\":\"scatter3d\"}],\"scattercarpet\":[{\"marker\":{\"colorbar\":{\"outlinewidth\":0,\"ticks\":\"\"}},\"type\":\"scattercarpet\"}],\"scattergeo\":[{\"marker\":{\"colorbar\":{\"outlinewidth\":0,\"ticks\":\"\"}},\"type\":\"scattergeo\"}],\"scattergl\":[{\"marker\":{\"colorbar\":{\"outlinewidth\":0,\"ticks\":\"\"}},\"type\":\"scattergl\"}],\"scattermapbox\":[{\"marker\":{\"colorbar\":{\"outlinewidth\":0,\"ticks\":\"\"}},\"type\":\"scattermapbox\"}],\"scatterpolar\":[{\"marker\":{\"colorbar\":{\"outlinewidth\":0,\"ticks\":\"\"}},\"type\":\"scatterpolar\"}],\"scatterpolargl\":[{\"marker\":{\"colorbar\":{\"outlinewidth\":0,\"ticks\":\"\"}},\"type\":\"scatterpolargl\"}],\"scatterternary\":[{\"marker\":{\"colorbar\":{\"outlinewidth\":0,\"ticks\":\"\"}},\"type\":\"scatterternary\"}],\"surface\":[{\"colorbar\":{\"outlinewidth\":0,\"ticks\":\"\"},\"colorscale\":[[0.0,\"#0d0887\"],[0.1111111111111111,\"#46039f\"],[0.2222222222222222,\"#7201a8\"],[0.3333333333333333,\"#9c179e\"],[0.4444444444444444,\"#bd3786\"],[0.5555555555555556,\"#d8576b\"],[0.6666666666666666,\"#ed7953\"],[0.7777777777777778,\"#fb9f3a\"],[0.8888888888888888,\"#fdca26\"],[1.0,\"#f0f921\"]],\"type\":\"surface\"}],\"table\":[{\"cells\":{\"fill\":{\"color\":\"#EBF0F8\"},\"line\":{\"color\":\"white\"}},\"header\":{\"fill\":{\"color\":\"#C8D4E3\"},\"line\":{\"color\":\"white\"}},\"type\":\"table\"}]},\"layout\":{\"annotationdefaults\":{\"arrowcolor\":\"#2a3f5f\",\"arrowhead\":0,\"arrowwidth\":1},\"autotypenumbers\":\"strict\",\"coloraxis\":{\"colorbar\":{\"outlinewidth\":0,\"ticks\":\"\"}},\"colorscale\":{\"diverging\":[[0,\"#8e0152\"],[0.1,\"#c51b7d\"],[0.2,\"#de77ae\"],[0.3,\"#f1b6da\"],[0.4,\"#fde0ef\"],[0.5,\"#f7f7f7\"],[0.6,\"#e6f5d0\"],[0.7,\"#b8e186\"],[0.8,\"#7fbc41\"],[0.9,\"#4d9221\"],[1,\"#276419\"]],\"sequential\":[[0.0,\"#0d0887\"],[0.1111111111111111,\"#46039f\"],[0.2222222222222222,\"#7201a8\"],[0.3333333333333333,\"#9c179e\"],[0.4444444444444444,\"#bd3786\"],[0.5555555555555556,\"#d8576b\"],[0.6666666666666666,\"#ed7953\"],[0.7777777777777778,\"#fb9f3a\"],[0.8888888888888888,\"#fdca26\"],[1.0,\"#f0f921\"]],\"sequentialminus\":[[0.0,\"#0d0887\"],[0.1111111111111111,\"#46039f\"],[0.2222222222222222,\"#7201a8\"],[0.3333333333333333,\"#9c179e\"],[0.4444444444444444,\"#bd3786\"],[0.5555555555555556,\"#d8576b\"],[0.6666666666666666,\"#ed7953\"],[0.7777777777777778,\"#fb9f3a\"],[0.8888888888888888,\"#fdca26\"],[1.0,\"#f0f921\"]]},\"colorway\":[\"#636efa\",\"#EF553B\",\"#00cc96\",\"#ab63fa\",\"#FFA15A\",\"#19d3f3\",\"#FF6692\",\"#B6E880\",\"#FF97FF\",\"#FECB52\"],\"font\":{\"color\":\"#2a3f5f\"},\"geo\":{\"bgcolor\":\"white\",\"lakecolor\":\"white\",\"landcolor\":\"#E5ECF6\",\"showlakes\":true,\"showland\":true,\"subunitcolor\":\"white\"},\"hoverlabel\":{\"align\":\"left\"},\"hovermode\":\"closest\",\"mapbox\":{\"style\":\"light\"},\"paper_bgcolor\":\"white\",\"plot_bgcolor\":\"#E5ECF6\",\"polar\":{\"angularaxis\":{\"gridcolor\":\"white\",\"linecolor\":\"white\",\"ticks\":\"\"},\"bgcolor\":\"#E5ECF6\",\"radialaxis\":{\"gridcolor\":\"white\",\"linecolor\":\"white\",\"ticks\":\"\"}},\"scene\":{\"xaxis\":{\"backgroundcolor\":\"#E5ECF6\",\"gridcolor\":\"white\",\"gridwidth\":2,\"linecolor\":\"white\",\"showbackground\":true,\"ticks\":\"\",\"zerolinecolor\":\"white\"},\"yaxis\":{\"backgroundcolor\":\"#E5ECF6\",\"gridcolor\":\"white\",\"gridwidth\":2,\"linecolor\":\"white\",\"showbackground\":true,\"ticks\":\"\",\"zerolinecolor\":\"white\"},\"zaxis\":{\"backgroundcolor\":\"#E5ECF6\",\"gridcolor\":\"white\",\"gridwidth\":2,\"linecolor\":\"white\",\"showbackground\":true,\"ticks\":\"\",\"zerolinecolor\":\"white\"}},\"shapedefaults\":{\"line\":{\"color\":\"#2a3f5f\"}},\"ternary\":{\"aaxis\":{\"gridcolor\":\"white\",\"linecolor\":\"white\",\"ticks\":\"\"},\"baxis\":{\"gridcolor\":\"white\",\"linecolor\":\"white\",\"ticks\":\"\"},\"bgcolor\":\"#E5ECF6\",\"caxis\":{\"gridcolor\":\"white\",\"linecolor\":\"white\",\"ticks\":\"\"}},\"title\":{\"x\":0.05},\"xaxis\":{\"automargin\":true,\"gridcolor\":\"white\",\"linecolor\":\"white\",\"ticks\":\"\",\"title\":{\"standoff\":15},\"zerolinecolor\":\"white\",\"zerolinewidth\":2},\"yaxis\":{\"automargin\":true,\"gridcolor\":\"white\",\"linecolor\":\"white\",\"ticks\":\"\",\"title\":{\"standoff\":15},\"zerolinecolor\":\"white\",\"zerolinewidth\":2}}},\"geo\":{\"domain\":{\"x\":[0.0,1.0],\"y\":[0.0,1.0]},\"projection\":{\"type\":\"orthographic\"},\"center\":{}},\"legend\":{\"title\":{\"text\":\"continent\"},\"tracegroupgap\":0},\"margin\":{\"t\":60}},                        {\"responsive\": true}                    ).then(function(){\n",
       "                            \n",
       "var gd = document.getElementById('8bbaa022-93e2-42b6-b63d-1bb7f14a55c4');\n",
       "var x = new MutationObserver(function (mutations, observer) {{\n",
       "        var display = window.getComputedStyle(gd).display;\n",
       "        if (!display || display === 'none') {{\n",
       "            console.log([gd, 'removed!']);\n",
       "            Plotly.purge(gd);\n",
       "            observer.disconnect();\n",
       "        }}\n",
       "}});\n",
       "\n",
       "// Listen for the removal of the full notebook cells\n",
       "var notebookContainer = gd.closest('#notebook-container');\n",
       "if (notebookContainer) {{\n",
       "    x.observe(notebookContainer, {childList: true});\n",
       "}}\n",
       "\n",
       "// Listen for the clearing of the current output cell\n",
       "var outputEl = gd.closest('.output');\n",
       "if (outputEl) {{\n",
       "    x.observe(outputEl, {childList: true});\n",
       "}}\n",
       "\n",
       "                        })                };                });            </script>        </div>"
      ]
     },
     "metadata": {},
     "output_type": "display_data"
    }
   ],
   "source": [
    "#Set plot parameter\n",
    "\n",
    "map_fig = px.scatter_geo(exchange_data,\n",
    "                         locations = 'country',\n",
    "                         projection = 'orthographic',\n",
    "                         color = 'continent',\n",
    "                         opacity = .8,\n",
    "                         hover_name = 'name',\n",
    "                         hover_data = ['volume','website']\n",
    ")\n",
    "\n",
    "# Display Map\n",
    "map_fig.show()"
   ]
  },
  {
   "cell_type": "code",
   "execution_count": 19,
   "id": "89335721-676f-4557-a833-913de421a88e",
   "metadata": {},
   "outputs": [
    {
     "data": {
      "text/plain": [
       "'C:\\\\worldwide_exchanges.html'"
      ]
     },
     "execution_count": 19,
     "metadata": {},
     "output_type": "execute_result"
    }
   ],
   "source": [
    "# save offline copy of fully functional map\n",
    "plotly.offline.plot(map_fig,filename ='C:\\worldwide_exchanges.html', auto_open = True)\n"
   ]
  },
  {
   "cell_type": "code",
   "execution_count": 20,
   "id": "dd3d5619-58c3-4a0e-be6b-3e9c46ffdeeb",
   "metadata": {},
   "outputs": [
    {
     "name": "stdout",
     "output_type": "stream",
     "text": [
      "Help on function scatter in module plotly.express._chart_types:\n",
      "\n",
      "scatter(data_frame=None, x=None, y=None, color=None, symbol=None, size=None, hover_name=None, hover_data=None, custom_data=None, text=None, facet_row=None, facet_col=None, facet_col_wrap=0, facet_row_spacing=None, facet_col_spacing=None, error_x=None, error_x_minus=None, error_y=None, error_y_minus=None, animation_frame=None, animation_group=None, category_orders=None, labels=None, orientation=None, color_discrete_sequence=None, color_discrete_map=None, color_continuous_scale=None, range_color=None, color_continuous_midpoint=None, symbol_sequence=None, symbol_map=None, opacity=None, size_max=None, marginal_x=None, marginal_y=None, trendline=None, trendline_options=None, trendline_color_override=None, trendline_scope='trace', log_x=False, log_y=False, range_x=None, range_y=None, render_mode='auto', title=None, template=None, width=None, height=None)\n",
      "        In a scatter plot, each row of `data_frame` is represented by a symbol\n",
      "        mark in 2D space.\n",
      "        \n",
      "    Parameters\n",
      "    ----------\n",
      "    data_frame: DataFrame or array-like or dict\n",
      "        This argument needs to be passed for column names (and not keyword\n",
      "        names) to be used. Array-like and dict are tranformed internally to a\n",
      "        pandas DataFrame. Optional: if missing, a DataFrame gets constructed\n",
      "        under the hood using the other arguments.\n",
      "    x: str or int or Series or array-like\n",
      "        Either a name of a column in `data_frame`, or a pandas Series or\n",
      "        array_like object. Values from this column or array_like are used to\n",
      "        position marks along the x axis in cartesian coordinates. Either `x` or\n",
      "        `y` can optionally be a list of column references or array_likes,  in\n",
      "        which case the data will be treated as if it were 'wide' rather than\n",
      "        'long'.\n",
      "    y: str or int or Series or array-like\n",
      "        Either a name of a column in `data_frame`, or a pandas Series or\n",
      "        array_like object. Values from this column or array_like are used to\n",
      "        position marks along the y axis in cartesian coordinates. Either `x` or\n",
      "        `y` can optionally be a list of column references or array_likes,  in\n",
      "        which case the data will be treated as if it were 'wide' rather than\n",
      "        'long'.\n",
      "    color: str or int or Series or array-like\n",
      "        Either a name of a column in `data_frame`, or a pandas Series or\n",
      "        array_like object. Values from this column or array_like are used to\n",
      "        assign color to marks.\n",
      "    symbol: str or int or Series or array-like\n",
      "        Either a name of a column in `data_frame`, or a pandas Series or\n",
      "        array_like object. Values from this column or array_like are used to\n",
      "        assign symbols to marks.\n",
      "    size: str or int or Series or array-like\n",
      "        Either a name of a column in `data_frame`, or a pandas Series or\n",
      "        array_like object. Values from this column or array_like are used to\n",
      "        assign mark sizes.\n",
      "    hover_name: str or int or Series or array-like\n",
      "        Either a name of a column in `data_frame`, or a pandas Series or\n",
      "        array_like object. Values from this column or array_like appear in bold\n",
      "        in the hover tooltip.\n",
      "    hover_data: list of str or int, or Series or array-like, or dict\n",
      "        Either a list of names of columns in `data_frame`, or pandas Series, or\n",
      "        array_like objects or a dict with column names as keys, with values\n",
      "        True (for default formatting) False (in order to remove this column\n",
      "        from hover information), or a formatting string, for example ':.3f' or\n",
      "        '|%a' or list-like data to appear in the hover tooltip or tuples with a\n",
      "        bool or formatting string as first element, and list-like data to\n",
      "        appear in hover as second element Values from these columns appear as\n",
      "        extra data in the hover tooltip.\n",
      "    custom_data: list of str or int, or Series or array-like\n",
      "        Either names of columns in `data_frame`, or pandas Series, or\n",
      "        array_like objects Values from these columns are extra data, to be used\n",
      "        in widgets or Dash callbacks for example. This data is not user-visible\n",
      "        but is included in events emitted by the figure (lasso selection etc.)\n",
      "    text: str or int or Series or array-like\n",
      "        Either a name of a column in `data_frame`, or a pandas Series or\n",
      "        array_like object. Values from this column or array_like appear in the\n",
      "        figure as text labels.\n",
      "    facet_row: str or int or Series or array-like\n",
      "        Either a name of a column in `data_frame`, or a pandas Series or\n",
      "        array_like object. Values from this column or array_like are used to\n",
      "        assign marks to facetted subplots in the vertical direction.\n",
      "    facet_col: str or int or Series or array-like\n",
      "        Either a name of a column in `data_frame`, or a pandas Series or\n",
      "        array_like object. Values from this column or array_like are used to\n",
      "        assign marks to facetted subplots in the horizontal direction.\n",
      "    facet_col_wrap: int\n",
      "        Maximum number of facet columns. Wraps the column variable at this\n",
      "        width, so that the column facets span multiple rows. Ignored if 0, and\n",
      "        forced to 0 if `facet_row` or a `marginal` is set.\n",
      "    facet_row_spacing: float between 0 and 1\n",
      "        Spacing between facet rows, in paper units. Default is 0.03 or 0.0.7\n",
      "        when facet_col_wrap is used.\n",
      "    facet_col_spacing: float between 0 and 1\n",
      "        Spacing between facet columns, in paper units Default is 0.02.\n",
      "    error_x: str or int or Series or array-like\n",
      "        Either a name of a column in `data_frame`, or a pandas Series or\n",
      "        array_like object. Values from this column or array_like are used to\n",
      "        size x-axis error bars. If `error_x_minus` is `None`, error bars will\n",
      "        be symmetrical, otherwise `error_x` is used for the positive direction\n",
      "        only.\n",
      "    error_x_minus: str or int or Series or array-like\n",
      "        Either a name of a column in `data_frame`, or a pandas Series or\n",
      "        array_like object. Values from this column or array_like are used to\n",
      "        size x-axis error bars in the negative direction. Ignored if `error_x`\n",
      "        is `None`.\n",
      "    error_y: str or int or Series or array-like\n",
      "        Either a name of a column in `data_frame`, or a pandas Series or\n",
      "        array_like object. Values from this column or array_like are used to\n",
      "        size y-axis error bars. If `error_y_minus` is `None`, error bars will\n",
      "        be symmetrical, otherwise `error_y` is used for the positive direction\n",
      "        only.\n",
      "    error_y_minus: str or int or Series or array-like\n",
      "        Either a name of a column in `data_frame`, or a pandas Series or\n",
      "        array_like object. Values from this column or array_like are used to\n",
      "        size y-axis error bars in the negative direction. Ignored if `error_y`\n",
      "        is `None`.\n",
      "    animation_frame: str or int or Series or array-like\n",
      "        Either a name of a column in `data_frame`, or a pandas Series or\n",
      "        array_like object. Values from this column or array_like are used to\n",
      "        assign marks to animation frames.\n",
      "    animation_group: str or int or Series or array-like\n",
      "        Either a name of a column in `data_frame`, or a pandas Series or\n",
      "        array_like object. Values from this column or array_like are used to\n",
      "        provide object-constancy across animation frames: rows with matching\n",
      "        `animation_group`s will be treated as if they describe the same object\n",
      "        in each frame.\n",
      "    category_orders: dict with str keys and list of str values (default `{}`)\n",
      "        By default, in Python 3.6+, the order of categorical values in axes,\n",
      "        legends and facets depends on the order in which these values are first\n",
      "        encountered in `data_frame` (and no order is guaranteed by default in\n",
      "        Python below 3.6). This parameter is used to force a specific ordering\n",
      "        of values per column. The keys of this dict should correspond to column\n",
      "        names, and the values should be lists of strings corresponding to the\n",
      "        specific display order desired.\n",
      "    labels: dict with str keys and str values (default `{}`)\n",
      "        By default, column names are used in the figure for axis titles, legend\n",
      "        entries and hovers. This parameter allows this to be overridden. The\n",
      "        keys of this dict should correspond to column names, and the values\n",
      "        should correspond to the desired label to be displayed.\n",
      "    orientation: str, one of `'h'` for horizontal or `'v'` for vertical. \n",
      "        (default `'v'` if `x` and `y` are provided and both continous or both\n",
      "        categorical,  otherwise `'v'`(`'h'`) if `x`(`y`) is categorical and\n",
      "        `y`(`x`) is continuous,  otherwise `'v'`(`'h'`) if only `x`(`y`) is\n",
      "        provided)\n",
      "    color_discrete_sequence: list of str\n",
      "        Strings should define valid CSS-colors. When `color` is set and the\n",
      "        values in the corresponding column are not numeric, values in that\n",
      "        column are assigned colors by cycling through `color_discrete_sequence`\n",
      "        in the order described in `category_orders`, unless the value of\n",
      "        `color` is a key in `color_discrete_map`. Various useful color\n",
      "        sequences are available in the `plotly.express.colors` submodules,\n",
      "        specifically `plotly.express.colors.qualitative`.\n",
      "    color_discrete_map: dict with str keys and str values (default `{}`)\n",
      "        String values should define valid CSS-colors Used to override\n",
      "        `color_discrete_sequence` to assign a specific colors to marks\n",
      "        corresponding with specific values. Keys in `color_discrete_map` should\n",
      "        be values in the column denoted by `color`. Alternatively, if the\n",
      "        values of `color` are valid colors, the string `'identity'` may be\n",
      "        passed to cause them to be used directly.\n",
      "    color_continuous_scale: list of str\n",
      "        Strings should define valid CSS-colors This list is used to build a\n",
      "        continuous color scale when the column denoted by `color` contains\n",
      "        numeric data. Various useful color scales are available in the\n",
      "        `plotly.express.colors` submodules, specifically\n",
      "        `plotly.express.colors.sequential`, `plotly.express.colors.diverging`\n",
      "        and `plotly.express.colors.cyclical`.\n",
      "    range_color: list of two numbers\n",
      "        If provided, overrides auto-scaling on the continuous color scale.\n",
      "    color_continuous_midpoint: number (default `None`)\n",
      "        If set, computes the bounds of the continuous color scale to have the\n",
      "        desired midpoint. Setting this value is recommended when using\n",
      "        `plotly.express.colors.diverging` color scales as the inputs to\n",
      "        `color_continuous_scale`.\n",
      "    symbol_sequence: list of str\n",
      "        Strings should define valid plotly.js symbols. When `symbol` is set,\n",
      "        values in that column are assigned symbols by cycling through\n",
      "        `symbol_sequence` in the order described in `category_orders`, unless\n",
      "        the value of `symbol` is a key in `symbol_map`.\n",
      "    symbol_map: dict with str keys and str values (default `{}`)\n",
      "        String values should define plotly.js symbols Used to override\n",
      "        `symbol_sequence` to assign a specific symbols to marks corresponding\n",
      "        with specific values. Keys in `symbol_map` should be values in the\n",
      "        column denoted by `symbol`. Alternatively, if the values of `symbol`\n",
      "        are valid symbol names, the string `'identity'` may be passed to cause\n",
      "        them to be used directly.\n",
      "    opacity: float\n",
      "        Value between 0 and 1. Sets the opacity for markers.\n",
      "    size_max: int (default `20`)\n",
      "        Set the maximum mark size when using `size`.\n",
      "    marginal_x: str\n",
      "        One of `'rug'`, `'box'`, `'violin'`, or `'histogram'`. If set, a\n",
      "        horizontal subplot is drawn above the main plot, visualizing the\n",
      "        x-distribution.\n",
      "    marginal_y: str\n",
      "        One of `'rug'`, `'box'`, `'violin'`, or `'histogram'`. If set, a\n",
      "        vertical subplot is drawn to the right of the main plot, visualizing\n",
      "        the y-distribution.\n",
      "    trendline: str\n",
      "        One of `'ols'`, `'lowess'`, `'rolling'`, `'expanding'` or `'ewm'`. If\n",
      "        `'ols'`, an Ordinary Least Squares regression line will be drawn for\n",
      "        each discrete-color/symbol group. If `'lowess`', a Locally Weighted\n",
      "        Scatterplot Smoothing line will be drawn for each discrete-color/symbol\n",
      "        group. If `'rolling`', a Rolling (e.g. rolling average, rolling median)\n",
      "        line will be drawn for each discrete-color/symbol group. If\n",
      "        `'expanding`', an Expanding (e.g. expanding average, expanding sum)\n",
      "        line will be drawn for each discrete-color/symbol group. If `'ewm`', an\n",
      "        Exponentially Weighted Moment (e.g. exponentially-weighted moving\n",
      "        average) line will be drawn for each discrete-color/symbol group. See\n",
      "        the docstrings for the functions in\n",
      "        `plotly.express.trendline_functions` for more details on these\n",
      "        functions and how to configure them with the `trendline_options`\n",
      "        argument.\n",
      "    trendline_options: dict\n",
      "        Options passed as the first argument to the function from\n",
      "        `plotly.express.trendline_functions`  named in the `trendline`\n",
      "        argument.\n",
      "    trendline_color_override: str\n",
      "        Valid CSS color. If provided, and if `trendline` is set, all trendlines\n",
      "        will be drawn in this color rather than in the same color as the traces\n",
      "        from which they draw their inputs.\n",
      "    trendline_scope: str (one of `'trace'` or `'overall'`, default `'trace'`)\n",
      "        If `'trace'`, then one trendline is drawn per trace (i.e. per color,\n",
      "        symbol, facet, animation frame etc) and if `'overall'` then one\n",
      "        trendline is computed for the entire dataset, and replicated across all\n",
      "        facets.\n",
      "    log_x: boolean (default `False`)\n",
      "        If `True`, the x-axis is log-scaled in cartesian coordinates.\n",
      "    log_y: boolean (default `False`)\n",
      "        If `True`, the y-axis is log-scaled in cartesian coordinates.\n",
      "    range_x: list of two numbers\n",
      "        If provided, overrides auto-scaling on the x-axis in cartesian\n",
      "        coordinates.\n",
      "    range_y: list of two numbers\n",
      "        If provided, overrides auto-scaling on the y-axis in cartesian\n",
      "        coordinates.\n",
      "    render_mode: str\n",
      "        One of `'auto'`, `'svg'` or `'webgl'`, default `'auto'` Controls the\n",
      "        browser API used to draw marks. `'svg`' is appropriate for figures of\n",
      "        less than 1000 data points, and will allow for fully-vectorized output.\n",
      "        `'webgl'` is likely necessary for acceptable performance above 1000\n",
      "        points but rasterizes part of the output.  `'auto'` uses heuristics to\n",
      "        choose the mode.\n",
      "    title: str\n",
      "        The figure title.\n",
      "    template: str or dict or plotly.graph_objects.layout.Template instance\n",
      "        The figure template name (must be a key in plotly.io.templates) or\n",
      "        definition.\n",
      "    width: int (default `None`)\n",
      "        The figure width in pixels.\n",
      "    height: int (default `None`)\n",
      "        The figure height in pixels.\n",
      "    \n",
      "    Returns\n",
      "    -------\n",
      "        plotly.graph_objects.Figure\n",
      "\n"
     ]
    }
   ],
   "source": [
    "help(px.scatter)"
   ]
  },
  {
   "cell_type": "code",
   "execution_count": null,
   "id": "0cdd2847-c08f-4532-afc5-fb85e6487d17",
   "metadata": {},
   "outputs": [],
   "source": []
  }
 ],
 "metadata": {
  "kernelspec": {
   "display_name": "python (dev)",
   "language": "python",
   "name": "dev"
  },
  "language_info": {
   "codemirror_mode": {
    "name": "ipython",
    "version": 3
   },
   "file_extension": ".py",
   "mimetype": "text/x-python",
   "name": "python",
   "nbconvert_exporter": "python",
   "pygments_lexer": "ipython3",
   "version": "3.7.11"
  }
 },
 "nbformat": 4,
 "nbformat_minor": 5
}
