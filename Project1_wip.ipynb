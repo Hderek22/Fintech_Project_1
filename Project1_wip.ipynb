{
 "cells": [
  {
   "cell_type": "code",
   "execution_count": 82,
   "id": "c410b722-062f-4f97-a63f-2cf0569f47cd",
   "metadata": {
    "tags": []
   },
   "outputs": [],
   "source": [
    "# import modules to be used\n",
    "\n",
    "import plotly\n",
    "import plotly.express as px\n",
    "import pandas as pd\n",
    "import country_converter as coco\n"
   ]
  },
  {
   "cell_type": "code",
   "execution_count": 83,
   "id": "9d15ffe9-c796-4458-ae25-e7691c401d17",
   "metadata": {
    "tags": []
   },
   "outputs": [
    {
     "data": {
      "text/html": [
       "<div>\n",
       "<style scoped>\n",
       "    .dataframe tbody tr th:only-of-type {\n",
       "        vertical-align: middle;\n",
       "    }\n",
       "\n",
       "    .dataframe tbody tr th {\n",
       "        vertical-align: top;\n",
       "    }\n",
       "\n",
       "    .dataframe thead th {\n",
       "        text-align: right;\n",
       "    }\n",
       "</style>\n",
       "<table border=\"1\" class=\"dataframe\">\n",
       "  <thead>\n",
       "    <tr style=\"text-align: right;\">\n",
       "      <th></th>\n",
       "      <th>id</th>\n",
       "      <th>name</th>\n",
       "      <th>logo_url</th>\n",
       "      <th>transparency_grade</th>\n",
       "      <th>coverage_type</th>\n",
       "      <th>order_books</th>\n",
       "      <th>first_trade</th>\n",
       "      <th>first_candle</th>\n",
       "      <th>first_order_book</th>\n",
       "      <th>num_pairs</th>\n",
       "      <th>...</th>\n",
       "      <th>1d.trades_change</th>\n",
       "      <th>1d.trades_change_pct</th>\n",
       "      <th>1d.spot_volume</th>\n",
       "      <th>1d.spot_volume_change</th>\n",
       "      <th>1d.spot_volume_change_pct</th>\n",
       "      <th>1d.derivative_volume</th>\n",
       "      <th>1d.derivative_volume_change</th>\n",
       "      <th>1d.derivative_volume_change_pct</th>\n",
       "      <th>location</th>\n",
       "      <th>website_url</th>\n",
       "    </tr>\n",
       "  </thead>\n",
       "  <tbody>\n",
       "    <tr>\n",
       "      <th>0</th>\n",
       "      <td>binance</td>\n",
       "      <td>Binance</td>\n",
       "      <td>https://s3.us-east-2.amazonaws.com/nomics-api/...</td>\n",
       "      <td>A</td>\n",
       "      <td>trades</td>\n",
       "      <td>True</td>\n",
       "      <td>2017-07-13T00:00:00Z</td>\n",
       "      <td>2017-07-13T00:00:00Z</td>\n",
       "      <td>2018-08-29T00:00:00Z</td>\n",
       "      <td>2135</td>\n",
       "      <td>...</td>\n",
       "      <td>-4183892</td>\n",
       "      <td>-0.0885</td>\n",
       "      <td>1.304019e+10</td>\n",
       "      <td>-1.190569e+09</td>\n",
       "      <td>-0.0837</td>\n",
       "      <td>2.192871e+10</td>\n",
       "      <td>-1.483203e+09</td>\n",
       "      <td>-0.0634</td>\n",
       "      <td>Malta</td>\n",
       "      <td>https://www.binance.com/</td>\n",
       "    </tr>\n",
       "    <tr>\n",
       "      <th>1</th>\n",
       "      <td>ftx</td>\n",
       "      <td>FTX</td>\n",
       "      <td>https://s3.us-east-2.amazonaws.com/nomics-api/...</td>\n",
       "      <td>A</td>\n",
       "      <td>trades</td>\n",
       "      <td>True</td>\n",
       "      <td>2019-03-05T00:00:00Z</td>\n",
       "      <td>2019-03-05T00:00:00Z</td>\n",
       "      <td>2019-10-15T00:00:00Z</td>\n",
       "      <td>1944</td>\n",
       "      <td>...</td>\n",
       "      <td>-335104</td>\n",
       "      <td>-0.0388</td>\n",
       "      <td>1.863079e+09</td>\n",
       "      <td>1.470773e+08</td>\n",
       "      <td>0.0857</td>\n",
       "      <td>1.594988e+10</td>\n",
       "      <td>5.437599e+09</td>\n",
       "      <td>0.5173</td>\n",
       "      <td>Antigua and Barbuda</td>\n",
       "      <td>https://ftx.com/</td>\n",
       "    </tr>\n",
       "    <tr>\n",
       "      <th>2</th>\n",
       "      <td>cryptomkt</td>\n",
       "      <td>CryptoMarket</td>\n",
       "      <td>https://s3.us-east-2.amazonaws.com/nomics-api/...</td>\n",
       "      <td>A</td>\n",
       "      <td>trades</td>\n",
       "      <td>True</td>\n",
       "      <td>2013-12-27T00:00:00Z</td>\n",
       "      <td>2013-12-27T00:00:00Z</td>\n",
       "      <td>2021-12-01T00:00:00Z</td>\n",
       "      <td>149</td>\n",
       "      <td>...</td>\n",
       "      <td>-24289</td>\n",
       "      <td>-0.0455</td>\n",
       "      <td>3.133991e+09</td>\n",
       "      <td>-2.742308e+08</td>\n",
       "      <td>-0.0805</td>\n",
       "      <td>NaN</td>\n",
       "      <td>NaN</td>\n",
       "      <td>NaN</td>\n",
       "      <td>Chile</td>\n",
       "      <td>https://www.cryptomkt.com/</td>\n",
       "    </tr>\n",
       "    <tr>\n",
       "      <th>3</th>\n",
       "      <td>gdax</td>\n",
       "      <td>Coinbase Exchange</td>\n",
       "      <td>https://s3.us-east-2.amazonaws.com/nomics-api/...</td>\n",
       "      <td>A</td>\n",
       "      <td>trades</td>\n",
       "      <td>True</td>\n",
       "      <td>2014-12-01T00:00:00Z</td>\n",
       "      <td>2014-12-01T00:00:00Z</td>\n",
       "      <td>2018-09-11T00:00:00Z</td>\n",
       "      <td>434</td>\n",
       "      <td>...</td>\n",
       "      <td>-137715</td>\n",
       "      <td>-0.0300</td>\n",
       "      <td>3.075138e+09</td>\n",
       "      <td>-1.358877e+08</td>\n",
       "      <td>-0.0423</td>\n",
       "      <td>NaN</td>\n",
       "      <td>NaN</td>\n",
       "      <td>NaN</td>\n",
       "      <td>United States</td>\n",
       "      <td>https://www.coinbase.com/</td>\n",
       "    </tr>\n",
       "    <tr>\n",
       "      <th>4</th>\n",
       "      <td>uniswapv3</td>\n",
       "      <td>Uniswap V3 (Ethereum)</td>\n",
       "      <td>https://s3.us-east-2.amazonaws.com/nomics-api/...</td>\n",
       "      <td>A</td>\n",
       "      <td>trades</td>\n",
       "      <td>True</td>\n",
       "      <td>2021-05-04T00:00:00Z</td>\n",
       "      <td>2021-05-04T00:00:00Z</td>\n",
       "      <td>2021-11-11T00:00:00Z</td>\n",
       "      <td>3428</td>\n",
       "      <td>...</td>\n",
       "      <td>53</td>\n",
       "      <td>0.0016</td>\n",
       "      <td>1.675489e+09</td>\n",
       "      <td>-6.170183e+07</td>\n",
       "      <td>-0.0355</td>\n",
       "      <td>NaN</td>\n",
       "      <td>NaN</td>\n",
       "      <td>NaN</td>\n",
       "      <td>United States</td>\n",
       "      <td>https://uniswap.org</td>\n",
       "    </tr>\n",
       "  </tbody>\n",
       "</table>\n",
       "<p>5 rows × 31 columns</p>\n",
       "</div>"
      ],
      "text/plain": [
       "          id                   name  \\\n",
       "0    binance                Binance   \n",
       "1        ftx                    FTX   \n",
       "2  cryptomkt           CryptoMarket   \n",
       "3       gdax      Coinbase Exchange   \n",
       "4  uniswapv3  Uniswap V3 (Ethereum)   \n",
       "\n",
       "                                            logo_url transparency_grade  \\\n",
       "0  https://s3.us-east-2.amazonaws.com/nomics-api/...                  A   \n",
       "1  https://s3.us-east-2.amazonaws.com/nomics-api/...                  A   \n",
       "2  https://s3.us-east-2.amazonaws.com/nomics-api/...                  A   \n",
       "3  https://s3.us-east-2.amazonaws.com/nomics-api/...                  A   \n",
       "4  https://s3.us-east-2.amazonaws.com/nomics-api/...                  A   \n",
       "\n",
       "  coverage_type  order_books           first_trade          first_candle  \\\n",
       "0        trades         True  2017-07-13T00:00:00Z  2017-07-13T00:00:00Z   \n",
       "1        trades         True  2019-03-05T00:00:00Z  2019-03-05T00:00:00Z   \n",
       "2        trades         True  2013-12-27T00:00:00Z  2013-12-27T00:00:00Z   \n",
       "3        trades         True  2014-12-01T00:00:00Z  2014-12-01T00:00:00Z   \n",
       "4        trades         True  2021-05-04T00:00:00Z  2021-05-04T00:00:00Z   \n",
       "\n",
       "       first_order_book  num_pairs  ...  1d.trades_change  \\\n",
       "0  2018-08-29T00:00:00Z       2135  ...          -4183892   \n",
       "1  2019-10-15T00:00:00Z       1944  ...           -335104   \n",
       "2  2021-12-01T00:00:00Z        149  ...            -24289   \n",
       "3  2018-09-11T00:00:00Z        434  ...           -137715   \n",
       "4  2021-11-11T00:00:00Z       3428  ...                53   \n",
       "\n",
       "  1d.trades_change_pct 1d.spot_volume  1d.spot_volume_change  \\\n",
       "0              -0.0885   1.304019e+10          -1.190569e+09   \n",
       "1              -0.0388   1.863079e+09           1.470773e+08   \n",
       "2              -0.0455   3.133991e+09          -2.742308e+08   \n",
       "3              -0.0300   3.075138e+09          -1.358877e+08   \n",
       "4               0.0016   1.675489e+09          -6.170183e+07   \n",
       "\n",
       "   1d.spot_volume_change_pct  1d.derivative_volume  \\\n",
       "0                    -0.0837          2.192871e+10   \n",
       "1                     0.0857          1.594988e+10   \n",
       "2                    -0.0805                   NaN   \n",
       "3                    -0.0423                   NaN   \n",
       "4                    -0.0355                   NaN   \n",
       "\n",
       "   1d.derivative_volume_change  1d.derivative_volume_change_pct  \\\n",
       "0                -1.483203e+09                          -0.0634   \n",
       "1                 5.437599e+09                           0.5173   \n",
       "2                          NaN                              NaN   \n",
       "3                          NaN                              NaN   \n",
       "4                          NaN                              NaN   \n",
       "\n",
       "              location                 website_url  \n",
       "0                Malta    https://www.binance.com/  \n",
       "1  Antigua and Barbuda            https://ftx.com/  \n",
       "2                Chile  https://www.cryptomkt.com/  \n",
       "3        United States   https://www.coinbase.com/  \n",
       "4        United States         https://uniswap.org  \n",
       "\n",
       "[5 rows x 31 columns]"
      ]
     },
     "metadata": {},
     "output_type": "display_data"
    },
    {
     "data": {
      "text/html": [
       "<div>\n",
       "<style scoped>\n",
       "    .dataframe tbody tr th:only-of-type {\n",
       "        vertical-align: middle;\n",
       "    }\n",
       "\n",
       "    .dataframe tbody tr th {\n",
       "        vertical-align: top;\n",
       "    }\n",
       "\n",
       "    .dataframe thead th {\n",
       "        text-align: right;\n",
       "    }\n",
       "</style>\n",
       "<table border=\"1\" class=\"dataframe\">\n",
       "  <thead>\n",
       "    <tr style=\"text-align: right;\">\n",
       "      <th></th>\n",
       "      <th>id</th>\n",
       "      <th>name</th>\n",
       "      <th>logo_url</th>\n",
       "      <th>transparency_grade</th>\n",
       "      <th>coverage_type</th>\n",
       "      <th>order_books</th>\n",
       "      <th>first_trade</th>\n",
       "      <th>first_candle</th>\n",
       "      <th>first_order_book</th>\n",
       "      <th>num_pairs</th>\n",
       "      <th>...</th>\n",
       "      <th>1d.trades_change</th>\n",
       "      <th>1d.trades_change_pct</th>\n",
       "      <th>1d.spot_volume</th>\n",
       "      <th>1d.spot_volume_change</th>\n",
       "      <th>1d.spot_volume_change_pct</th>\n",
       "      <th>1d.derivative_volume</th>\n",
       "      <th>1d.derivative_volume_change</th>\n",
       "      <th>1d.derivative_volume_change_pct</th>\n",
       "      <th>location</th>\n",
       "      <th>website_url</th>\n",
       "    </tr>\n",
       "  </thead>\n",
       "  <tbody>\n",
       "    <tr>\n",
       "      <th>95</th>\n",
       "      <td>empiredex_bsc</td>\n",
       "      <td>Empire DEX (BSC)</td>\n",
       "      <td>https://s3.us-east-2.amazonaws.com/nomics-api/...</td>\n",
       "      <td>A</td>\n",
       "      <td>trades</td>\n",
       "      <td>True</td>\n",
       "      <td>2021-08-07T00:00:00Z</td>\n",
       "      <td>2021-08-07T00:00:00Z</td>\n",
       "      <td>2021-10-27T00:00:00Z</td>\n",
       "      <td>21</td>\n",
       "      <td>...</td>\n",
       "      <td>-41</td>\n",
       "      <td>-0.3868</td>\n",
       "      <td>12952.09</td>\n",
       "      <td>-3772.80</td>\n",
       "      <td>-0.2256</td>\n",
       "      <td>NaN</td>\n",
       "      <td>NaN</td>\n",
       "      <td>NaN</td>\n",
       "      <td>NaN</td>\n",
       "      <td>https://www.empiredex.org</td>\n",
       "    </tr>\n",
       "    <tr>\n",
       "      <th>96</th>\n",
       "      <td>qtrade</td>\n",
       "      <td>qTrade</td>\n",
       "      <td>https://s3.us-east-2.amazonaws.com/nomics-api/...</td>\n",
       "      <td>A</td>\n",
       "      <td>trades</td>\n",
       "      <td>True</td>\n",
       "      <td>2018-04-27T00:00:00Z</td>\n",
       "      <td>2018-04-27T00:00:00Z</td>\n",
       "      <td>2020-02-10T00:00:00Z</td>\n",
       "      <td>53</td>\n",
       "      <td>...</td>\n",
       "      <td>11</td>\n",
       "      <td>0.0764</td>\n",
       "      <td>11062.43</td>\n",
       "      <td>2714.30</td>\n",
       "      <td>0.3251</td>\n",
       "      <td>NaN</td>\n",
       "      <td>NaN</td>\n",
       "      <td>NaN</td>\n",
       "      <td>United States</td>\n",
       "      <td>https://qtrade.io</td>\n",
       "    </tr>\n",
       "    <tr>\n",
       "      <th>97</th>\n",
       "      <td>levinswap</td>\n",
       "      <td>Levinswap</td>\n",
       "      <td>https://s3.us-east-2.amazonaws.com/nomics-api/...</td>\n",
       "      <td>A</td>\n",
       "      <td>trades</td>\n",
       "      <td>True</td>\n",
       "      <td>2021-01-16T00:00:00Z</td>\n",
       "      <td>2021-01-16T00:00:00Z</td>\n",
       "      <td>2021-10-27T00:00:00Z</td>\n",
       "      <td>63</td>\n",
       "      <td>...</td>\n",
       "      <td>-135</td>\n",
       "      <td>-0.0959</td>\n",
       "      <td>6530.57</td>\n",
       "      <td>2660.55</td>\n",
       "      <td>0.6875</td>\n",
       "      <td>NaN</td>\n",
       "      <td>NaN</td>\n",
       "      <td>NaN</td>\n",
       "      <td>NaN</td>\n",
       "      <td>https://levinswap.org</td>\n",
       "    </tr>\n",
       "    <tr>\n",
       "      <th>98</th>\n",
       "      <td>baguette</td>\n",
       "      <td>Baguette</td>\n",
       "      <td>https://s3.us-east-2.amazonaws.com/nomics-api/...</td>\n",
       "      <td>A</td>\n",
       "      <td>trades</td>\n",
       "      <td>True</td>\n",
       "      <td>2021-04-30T00:00:00Z</td>\n",
       "      <td>2021-04-30T00:00:00Z</td>\n",
       "      <td>2021-10-27T00:00:00Z</td>\n",
       "      <td>54</td>\n",
       "      <td>...</td>\n",
       "      <td>-30</td>\n",
       "      <td>-0.2400</td>\n",
       "      <td>5209.10</td>\n",
       "      <td>1641.52</td>\n",
       "      <td>0.4601</td>\n",
       "      <td>NaN</td>\n",
       "      <td>NaN</td>\n",
       "      <td>NaN</td>\n",
       "      <td>NaN</td>\n",
       "      <td>https://baguette.exchange</td>\n",
       "    </tr>\n",
       "    <tr>\n",
       "      <th>99</th>\n",
       "      <td>honeyswap_polygon</td>\n",
       "      <td>Honeyswap (Polygon)</td>\n",
       "      <td>https://s3.us-east-2.amazonaws.com/nomics-api/...</td>\n",
       "      <td>A</td>\n",
       "      <td>trades</td>\n",
       "      <td>True</td>\n",
       "      <td>2021-05-23T00:00:00Z</td>\n",
       "      <td>2021-05-23T00:00:00Z</td>\n",
       "      <td>2021-10-27T00:00:00Z</td>\n",
       "      <td>102</td>\n",
       "      <td>...</td>\n",
       "      <td>-102</td>\n",
       "      <td>-0.3366</td>\n",
       "      <td>4347.60</td>\n",
       "      <td>-1892.23</td>\n",
       "      <td>-0.3032</td>\n",
       "      <td>NaN</td>\n",
       "      <td>NaN</td>\n",
       "      <td>NaN</td>\n",
       "      <td>NaN</td>\n",
       "      <td>https://honeyswap.org/</td>\n",
       "    </tr>\n",
       "  </tbody>\n",
       "</table>\n",
       "<p>5 rows × 31 columns</p>\n",
       "</div>"
      ],
      "text/plain": [
       "                   id                 name  \\\n",
       "95      empiredex_bsc     Empire DEX (BSC)   \n",
       "96             qtrade               qTrade   \n",
       "97          levinswap            Levinswap   \n",
       "98           baguette             Baguette   \n",
       "99  honeyswap_polygon  Honeyswap (Polygon)   \n",
       "\n",
       "                                             logo_url transparency_grade  \\\n",
       "95  https://s3.us-east-2.amazonaws.com/nomics-api/...                  A   \n",
       "96  https://s3.us-east-2.amazonaws.com/nomics-api/...                  A   \n",
       "97  https://s3.us-east-2.amazonaws.com/nomics-api/...                  A   \n",
       "98  https://s3.us-east-2.amazonaws.com/nomics-api/...                  A   \n",
       "99  https://s3.us-east-2.amazonaws.com/nomics-api/...                  A   \n",
       "\n",
       "   coverage_type  order_books           first_trade          first_candle  \\\n",
       "95        trades         True  2021-08-07T00:00:00Z  2021-08-07T00:00:00Z   \n",
       "96        trades         True  2018-04-27T00:00:00Z  2018-04-27T00:00:00Z   \n",
       "97        trades         True  2021-01-16T00:00:00Z  2021-01-16T00:00:00Z   \n",
       "98        trades         True  2021-04-30T00:00:00Z  2021-04-30T00:00:00Z   \n",
       "99        trades         True  2021-05-23T00:00:00Z  2021-05-23T00:00:00Z   \n",
       "\n",
       "        first_order_book  num_pairs  ...  1d.trades_change  \\\n",
       "95  2021-10-27T00:00:00Z         21  ...               -41   \n",
       "96  2020-02-10T00:00:00Z         53  ...                11   \n",
       "97  2021-10-27T00:00:00Z         63  ...              -135   \n",
       "98  2021-10-27T00:00:00Z         54  ...               -30   \n",
       "99  2021-10-27T00:00:00Z        102  ...              -102   \n",
       "\n",
       "   1d.trades_change_pct 1d.spot_volume  1d.spot_volume_change  \\\n",
       "95              -0.3868       12952.09               -3772.80   \n",
       "96               0.0764       11062.43                2714.30   \n",
       "97              -0.0959        6530.57                2660.55   \n",
       "98              -0.2400        5209.10                1641.52   \n",
       "99              -0.3366        4347.60               -1892.23   \n",
       "\n",
       "    1d.spot_volume_change_pct  1d.derivative_volume  \\\n",
       "95                    -0.2256                   NaN   \n",
       "96                     0.3251                   NaN   \n",
       "97                     0.6875                   NaN   \n",
       "98                     0.4601                   NaN   \n",
       "99                    -0.3032                   NaN   \n",
       "\n",
       "    1d.derivative_volume_change  1d.derivative_volume_change_pct  \\\n",
       "95                          NaN                              NaN   \n",
       "96                          NaN                              NaN   \n",
       "97                          NaN                              NaN   \n",
       "98                          NaN                              NaN   \n",
       "99                          NaN                              NaN   \n",
       "\n",
       "         location                website_url  \n",
       "95            NaN  https://www.empiredex.org  \n",
       "96  United States          https://qtrade.io  \n",
       "97            NaN      https://levinswap.org  \n",
       "98            NaN  https://baguette.exchange  \n",
       "99            NaN     https://honeyswap.org/  \n",
       "\n",
       "[5 rows x 31 columns]"
      ]
     },
     "metadata": {},
     "output_type": "display_data"
    }
   ],
   "source": [
    "# load sand verify CSV file\n",
    "\n",
    "country_data = pd.read_csv('Nomics.csv')\n",
    "display(country_data.head())\n",
    "display(country_data.tail())"
   ]
  },
  {
   "cell_type": "markdown",
   "id": "8a459b80-20ac-4cbe-ab3d-843086245b34",
   "metadata": {},
   "source": [
    "### Clean up data"
   ]
  },
  {
   "cell_type": "code",
   "execution_count": 85,
   "id": "326fca5f-0cca-4bba-86ea-594f6fbc5b1c",
   "metadata": {},
   "outputs": [
    {
     "data": {
      "text/plain": [
       "dtype('O')"
      ]
     },
     "execution_count": 85,
     "metadata": {},
     "output_type": "execute_result"
    }
   ],
   "source": [
    "country_data.iloc[:,-2].dtypes"
   ]
  },
  {
   "cell_type": "code",
   "execution_count": 90,
   "id": "0ee9f5bf-6846-4fb3-8cca-c7c18195af00",
   "metadata": {},
   "outputs": [
    {
     "name": "stderr",
     "output_type": "stream",
     "text": [
      "nan not found in ISO3\n",
      "nan not found in ISO3\n",
      "nan not found in ISO3\n",
      "nan not found in ISO3\n",
      "nan not found in ISO3\n",
      "nan not found in ISO3\n",
      "nan not found in ISO3\n",
      "nan not found in ISO3\n",
      "nan not found in ISO3\n",
      "nan not found in ISO3\n",
      "nan not found in ISO3\n",
      "nan not found in ISO3\n",
      "nan not found in ISO3\n",
      "nan not found in ISO3\n",
      "nan not found in ISO3\n",
      "nan not found in ISO3\n",
      "nan not found in ISO3\n",
      "nan not found in ISO3\n",
      "nan not found in ISO3\n",
      "nan not found in ISO3\n",
      "nan not found in ISO3\n",
      "nan not found in ISO3\n",
      "nan not found in ISO3\n",
      "nan not found in ISO3\n",
      "nan not found in ISO3\n",
      "nan not found in ISO3\n",
      "nan not found in ISO3\n",
      "nan not found in ISO3\n",
      "nan not found in ISO3\n",
      "nan not found in ISO3\n",
      "nan not found in ISO3\n",
      "nan not found in ISO3\n",
      "nan not found in ISO3\n",
      "nan not found in ISO3\n",
      "nan not found in ISO3\n",
      "nan not found in ISO3\n",
      "nan not found in ISO3\n",
      "nan not found in ISO3\n",
      "nan not found in ISO3\n",
      "nan not found in ISO3\n",
      "nan not found in ISO3\n",
      "nan not found in ISO3\n",
      "nan not found in ISO3\n",
      "nan not found in ISO3\n",
      "nan not found in ISO3\n",
      "nan not found in ISO3\n",
      "nan not found in ISO3\n",
      "nan not found in ISO3\n",
      "nan not found in ISO3\n",
      "nan not found in ISO3\n",
      "nan not found in ISO3\n",
      "nan not found in ISO3\n"
     ]
    }
   ],
   "source": [
    "# Convert country codes to ISO3 code\n",
    "\n",
    "cc = coco.CountryConverter()\n",
    "iso3_codes = cc.convert(names=country_data.iloc[:,-2], to ='ISO3', not_found=None)"
   ]
  },
  {
   "cell_type": "code",
   "execution_count": 91,
   "id": "d31cea2b-94f4-4e7f-8677-70e8ea458796",
   "metadata": {},
   "outputs": [
    {
     "name": "stdout",
     "output_type": "stream",
     "text": [
      "['MLT', 'ATG', 'CHL', 'USA', 'USA', 'CYM', 'SYC', 'CHN', 'USA', 'VGB', 'SGP', 'JPN', 'JPN', 'CHE', 'USA', 'SGP', 'nan', 'LUX', 'SYC', 'nan', 'nan', 'USA', 'USA', 'nan', 'JPN', 'USA', 'nan', 'nan', 'USA', 'nan', 'nan', 'USA', 'nan', 'nan', 'SGP', 'nan', 'MYS', 'GBR', 'nan', 'nan', 'CAN', 'nan', 'MEX', 'nan', 'nan', 'nan', 'EST', 'nan', 'USA', 'VGB', 'SYC', 'nan', 'SYC', 'nan', 'USA', 'nan', 'nan', 'BRA', 'BLR', 'JPN', 'nan', 'nan', 'IRN', 'MLT', 'EST', 'nan', 'ITA', 'nan', 'nan', 'nan', 'nan', 'nan', 'nan', 'GBR', 'nan', 'nan', 'nan', 'nan', 'nan', 'nan', 'nan', 'nan', 'nan', 'nan', 'NLD', 'LUX', 'nan', 'nan', 'nan', 'USA', 'nan', 'nan', 'nan', 'FRA', 'nan', 'nan', 'USA', 'nan', 'nan', 'nan']\n"
     ]
    }
   ],
   "source": [
    "# Verify conversion\n",
    "print(iso3_codes)"
   ]
  },
  {
   "cell_type": "code",
   "execution_count": 92,
   "id": "1b7f499a-2149-4379-9cf2-5f08e62cfb75",
   "metadata": {},
   "outputs": [
    {
     "data": {
      "text/html": [
       "<div>\n",
       "<style scoped>\n",
       "    .dataframe tbody tr th:only-of-type {\n",
       "        vertical-align: middle;\n",
       "    }\n",
       "\n",
       "    .dataframe tbody tr th {\n",
       "        vertical-align: top;\n",
       "    }\n",
       "\n",
       "    .dataframe thead th {\n",
       "        text-align: right;\n",
       "    }\n",
       "</style>\n",
       "<table border=\"1\" class=\"dataframe\">\n",
       "  <thead>\n",
       "    <tr style=\"text-align: right;\">\n",
       "      <th></th>\n",
       "      <th>id</th>\n",
       "      <th>name</th>\n",
       "      <th>logo_url</th>\n",
       "      <th>transparency_grade</th>\n",
       "      <th>coverage_type</th>\n",
       "      <th>order_books</th>\n",
       "      <th>first_trade</th>\n",
       "      <th>first_candle</th>\n",
       "      <th>first_order_book</th>\n",
       "      <th>num_pairs</th>\n",
       "      <th>...</th>\n",
       "      <th>1d.trades_change</th>\n",
       "      <th>1d.trades_change_pct</th>\n",
       "      <th>1d.spot_volume</th>\n",
       "      <th>1d.spot_volume_change</th>\n",
       "      <th>1d.spot_volume_change_pct</th>\n",
       "      <th>1d.derivative_volume</th>\n",
       "      <th>1d.derivative_volume_change</th>\n",
       "      <th>1d.derivative_volume_change_pct</th>\n",
       "      <th>location</th>\n",
       "      <th>website_url</th>\n",
       "    </tr>\n",
       "  </thead>\n",
       "  <tbody>\n",
       "    <tr>\n",
       "      <th>0</th>\n",
       "      <td>binance</td>\n",
       "      <td>Binance</td>\n",
       "      <td>https://s3.us-east-2.amazonaws.com/nomics-api/...</td>\n",
       "      <td>A</td>\n",
       "      <td>trades</td>\n",
       "      <td>True</td>\n",
       "      <td>2017-07-13T00:00:00Z</td>\n",
       "      <td>2017-07-13T00:00:00Z</td>\n",
       "      <td>2018-08-29T00:00:00Z</td>\n",
       "      <td>2135</td>\n",
       "      <td>...</td>\n",
       "      <td>-4183892</td>\n",
       "      <td>-0.0885</td>\n",
       "      <td>1.304019e+10</td>\n",
       "      <td>-1.190569e+09</td>\n",
       "      <td>-0.0837</td>\n",
       "      <td>2.192871e+10</td>\n",
       "      <td>-1.483203e+09</td>\n",
       "      <td>-0.0634</td>\n",
       "      <td>MLT</td>\n",
       "      <td>https://www.binance.com/</td>\n",
       "    </tr>\n",
       "    <tr>\n",
       "      <th>1</th>\n",
       "      <td>ftx</td>\n",
       "      <td>FTX</td>\n",
       "      <td>https://s3.us-east-2.amazonaws.com/nomics-api/...</td>\n",
       "      <td>A</td>\n",
       "      <td>trades</td>\n",
       "      <td>True</td>\n",
       "      <td>2019-03-05T00:00:00Z</td>\n",
       "      <td>2019-03-05T00:00:00Z</td>\n",
       "      <td>2019-10-15T00:00:00Z</td>\n",
       "      <td>1944</td>\n",
       "      <td>...</td>\n",
       "      <td>-335104</td>\n",
       "      <td>-0.0388</td>\n",
       "      <td>1.863079e+09</td>\n",
       "      <td>1.470773e+08</td>\n",
       "      <td>0.0857</td>\n",
       "      <td>1.594988e+10</td>\n",
       "      <td>5.437599e+09</td>\n",
       "      <td>0.5173</td>\n",
       "      <td>ATG</td>\n",
       "      <td>https://ftx.com/</td>\n",
       "    </tr>\n",
       "    <tr>\n",
       "      <th>2</th>\n",
       "      <td>cryptomkt</td>\n",
       "      <td>CryptoMarket</td>\n",
       "      <td>https://s3.us-east-2.amazonaws.com/nomics-api/...</td>\n",
       "      <td>A</td>\n",
       "      <td>trades</td>\n",
       "      <td>True</td>\n",
       "      <td>2013-12-27T00:00:00Z</td>\n",
       "      <td>2013-12-27T00:00:00Z</td>\n",
       "      <td>2021-12-01T00:00:00Z</td>\n",
       "      <td>149</td>\n",
       "      <td>...</td>\n",
       "      <td>-24289</td>\n",
       "      <td>-0.0455</td>\n",
       "      <td>3.133991e+09</td>\n",
       "      <td>-2.742308e+08</td>\n",
       "      <td>-0.0805</td>\n",
       "      <td>NaN</td>\n",
       "      <td>NaN</td>\n",
       "      <td>NaN</td>\n",
       "      <td>CHL</td>\n",
       "      <td>https://www.cryptomkt.com/</td>\n",
       "    </tr>\n",
       "    <tr>\n",
       "      <th>3</th>\n",
       "      <td>gdax</td>\n",
       "      <td>Coinbase Exchange</td>\n",
       "      <td>https://s3.us-east-2.amazonaws.com/nomics-api/...</td>\n",
       "      <td>A</td>\n",
       "      <td>trades</td>\n",
       "      <td>True</td>\n",
       "      <td>2014-12-01T00:00:00Z</td>\n",
       "      <td>2014-12-01T00:00:00Z</td>\n",
       "      <td>2018-09-11T00:00:00Z</td>\n",
       "      <td>434</td>\n",
       "      <td>...</td>\n",
       "      <td>-137715</td>\n",
       "      <td>-0.0300</td>\n",
       "      <td>3.075138e+09</td>\n",
       "      <td>-1.358877e+08</td>\n",
       "      <td>-0.0423</td>\n",
       "      <td>NaN</td>\n",
       "      <td>NaN</td>\n",
       "      <td>NaN</td>\n",
       "      <td>USA</td>\n",
       "      <td>https://www.coinbase.com/</td>\n",
       "    </tr>\n",
       "    <tr>\n",
       "      <th>4</th>\n",
       "      <td>uniswapv3</td>\n",
       "      <td>Uniswap V3 (Ethereum)</td>\n",
       "      <td>https://s3.us-east-2.amazonaws.com/nomics-api/...</td>\n",
       "      <td>A</td>\n",
       "      <td>trades</td>\n",
       "      <td>True</td>\n",
       "      <td>2021-05-04T00:00:00Z</td>\n",
       "      <td>2021-05-04T00:00:00Z</td>\n",
       "      <td>2021-11-11T00:00:00Z</td>\n",
       "      <td>3428</td>\n",
       "      <td>...</td>\n",
       "      <td>53</td>\n",
       "      <td>0.0016</td>\n",
       "      <td>1.675489e+09</td>\n",
       "      <td>-6.170183e+07</td>\n",
       "      <td>-0.0355</td>\n",
       "      <td>NaN</td>\n",
       "      <td>NaN</td>\n",
       "      <td>NaN</td>\n",
       "      <td>USA</td>\n",
       "      <td>https://uniswap.org</td>\n",
       "    </tr>\n",
       "    <tr>\n",
       "      <th>...</th>\n",
       "      <td>...</td>\n",
       "      <td>...</td>\n",
       "      <td>...</td>\n",
       "      <td>...</td>\n",
       "      <td>...</td>\n",
       "      <td>...</td>\n",
       "      <td>...</td>\n",
       "      <td>...</td>\n",
       "      <td>...</td>\n",
       "      <td>...</td>\n",
       "      <td>...</td>\n",
       "      <td>...</td>\n",
       "      <td>...</td>\n",
       "      <td>...</td>\n",
       "      <td>...</td>\n",
       "      <td>...</td>\n",
       "      <td>...</td>\n",
       "      <td>...</td>\n",
       "      <td>...</td>\n",
       "      <td>...</td>\n",
       "      <td>...</td>\n",
       "    </tr>\n",
       "    <tr>\n",
       "      <th>95</th>\n",
       "      <td>empiredex_bsc</td>\n",
       "      <td>Empire DEX (BSC)</td>\n",
       "      <td>https://s3.us-east-2.amazonaws.com/nomics-api/...</td>\n",
       "      <td>A</td>\n",
       "      <td>trades</td>\n",
       "      <td>True</td>\n",
       "      <td>2021-08-07T00:00:00Z</td>\n",
       "      <td>2021-08-07T00:00:00Z</td>\n",
       "      <td>2021-10-27T00:00:00Z</td>\n",
       "      <td>21</td>\n",
       "      <td>...</td>\n",
       "      <td>-41</td>\n",
       "      <td>-0.3868</td>\n",
       "      <td>1.295209e+04</td>\n",
       "      <td>-3.772800e+03</td>\n",
       "      <td>-0.2256</td>\n",
       "      <td>NaN</td>\n",
       "      <td>NaN</td>\n",
       "      <td>NaN</td>\n",
       "      <td>nan</td>\n",
       "      <td>https://www.empiredex.org</td>\n",
       "    </tr>\n",
       "    <tr>\n",
       "      <th>96</th>\n",
       "      <td>qtrade</td>\n",
       "      <td>qTrade</td>\n",
       "      <td>https://s3.us-east-2.amazonaws.com/nomics-api/...</td>\n",
       "      <td>A</td>\n",
       "      <td>trades</td>\n",
       "      <td>True</td>\n",
       "      <td>2018-04-27T00:00:00Z</td>\n",
       "      <td>2018-04-27T00:00:00Z</td>\n",
       "      <td>2020-02-10T00:00:00Z</td>\n",
       "      <td>53</td>\n",
       "      <td>...</td>\n",
       "      <td>11</td>\n",
       "      <td>0.0764</td>\n",
       "      <td>1.106243e+04</td>\n",
       "      <td>2.714300e+03</td>\n",
       "      <td>0.3251</td>\n",
       "      <td>NaN</td>\n",
       "      <td>NaN</td>\n",
       "      <td>NaN</td>\n",
       "      <td>USA</td>\n",
       "      <td>https://qtrade.io</td>\n",
       "    </tr>\n",
       "    <tr>\n",
       "      <th>97</th>\n",
       "      <td>levinswap</td>\n",
       "      <td>Levinswap</td>\n",
       "      <td>https://s3.us-east-2.amazonaws.com/nomics-api/...</td>\n",
       "      <td>A</td>\n",
       "      <td>trades</td>\n",
       "      <td>True</td>\n",
       "      <td>2021-01-16T00:00:00Z</td>\n",
       "      <td>2021-01-16T00:00:00Z</td>\n",
       "      <td>2021-10-27T00:00:00Z</td>\n",
       "      <td>63</td>\n",
       "      <td>...</td>\n",
       "      <td>-135</td>\n",
       "      <td>-0.0959</td>\n",
       "      <td>6.530570e+03</td>\n",
       "      <td>2.660550e+03</td>\n",
       "      <td>0.6875</td>\n",
       "      <td>NaN</td>\n",
       "      <td>NaN</td>\n",
       "      <td>NaN</td>\n",
       "      <td>nan</td>\n",
       "      <td>https://levinswap.org</td>\n",
       "    </tr>\n",
       "    <tr>\n",
       "      <th>98</th>\n",
       "      <td>baguette</td>\n",
       "      <td>Baguette</td>\n",
       "      <td>https://s3.us-east-2.amazonaws.com/nomics-api/...</td>\n",
       "      <td>A</td>\n",
       "      <td>trades</td>\n",
       "      <td>True</td>\n",
       "      <td>2021-04-30T00:00:00Z</td>\n",
       "      <td>2021-04-30T00:00:00Z</td>\n",
       "      <td>2021-10-27T00:00:00Z</td>\n",
       "      <td>54</td>\n",
       "      <td>...</td>\n",
       "      <td>-30</td>\n",
       "      <td>-0.2400</td>\n",
       "      <td>5.209100e+03</td>\n",
       "      <td>1.641520e+03</td>\n",
       "      <td>0.4601</td>\n",
       "      <td>NaN</td>\n",
       "      <td>NaN</td>\n",
       "      <td>NaN</td>\n",
       "      <td>nan</td>\n",
       "      <td>https://baguette.exchange</td>\n",
       "    </tr>\n",
       "    <tr>\n",
       "      <th>99</th>\n",
       "      <td>honeyswap_polygon</td>\n",
       "      <td>Honeyswap (Polygon)</td>\n",
       "      <td>https://s3.us-east-2.amazonaws.com/nomics-api/...</td>\n",
       "      <td>A</td>\n",
       "      <td>trades</td>\n",
       "      <td>True</td>\n",
       "      <td>2021-05-23T00:00:00Z</td>\n",
       "      <td>2021-05-23T00:00:00Z</td>\n",
       "      <td>2021-10-27T00:00:00Z</td>\n",
       "      <td>102</td>\n",
       "      <td>...</td>\n",
       "      <td>-102</td>\n",
       "      <td>-0.3366</td>\n",
       "      <td>4.347600e+03</td>\n",
       "      <td>-1.892230e+03</td>\n",
       "      <td>-0.3032</td>\n",
       "      <td>NaN</td>\n",
       "      <td>NaN</td>\n",
       "      <td>NaN</td>\n",
       "      <td>nan</td>\n",
       "      <td>https://honeyswap.org/</td>\n",
       "    </tr>\n",
       "  </tbody>\n",
       "</table>\n",
       "<p>100 rows × 31 columns</p>\n",
       "</div>"
      ],
      "text/plain": [
       "                   id                   name  \\\n",
       "0             binance                Binance   \n",
       "1                 ftx                    FTX   \n",
       "2           cryptomkt           CryptoMarket   \n",
       "3                gdax      Coinbase Exchange   \n",
       "4           uniswapv3  Uniswap V3 (Ethereum)   \n",
       "..                ...                    ...   \n",
       "95      empiredex_bsc       Empire DEX (BSC)   \n",
       "96             qtrade                 qTrade   \n",
       "97          levinswap              Levinswap   \n",
       "98           baguette               Baguette   \n",
       "99  honeyswap_polygon    Honeyswap (Polygon)   \n",
       "\n",
       "                                             logo_url transparency_grade  \\\n",
       "0   https://s3.us-east-2.amazonaws.com/nomics-api/...                  A   \n",
       "1   https://s3.us-east-2.amazonaws.com/nomics-api/...                  A   \n",
       "2   https://s3.us-east-2.amazonaws.com/nomics-api/...                  A   \n",
       "3   https://s3.us-east-2.amazonaws.com/nomics-api/...                  A   \n",
       "4   https://s3.us-east-2.amazonaws.com/nomics-api/...                  A   \n",
       "..                                                ...                ...   \n",
       "95  https://s3.us-east-2.amazonaws.com/nomics-api/...                  A   \n",
       "96  https://s3.us-east-2.amazonaws.com/nomics-api/...                  A   \n",
       "97  https://s3.us-east-2.amazonaws.com/nomics-api/...                  A   \n",
       "98  https://s3.us-east-2.amazonaws.com/nomics-api/...                  A   \n",
       "99  https://s3.us-east-2.amazonaws.com/nomics-api/...                  A   \n",
       "\n",
       "   coverage_type  order_books           first_trade          first_candle  \\\n",
       "0         trades         True  2017-07-13T00:00:00Z  2017-07-13T00:00:00Z   \n",
       "1         trades         True  2019-03-05T00:00:00Z  2019-03-05T00:00:00Z   \n",
       "2         trades         True  2013-12-27T00:00:00Z  2013-12-27T00:00:00Z   \n",
       "3         trades         True  2014-12-01T00:00:00Z  2014-12-01T00:00:00Z   \n",
       "4         trades         True  2021-05-04T00:00:00Z  2021-05-04T00:00:00Z   \n",
       "..           ...          ...                   ...                   ...   \n",
       "95        trades         True  2021-08-07T00:00:00Z  2021-08-07T00:00:00Z   \n",
       "96        trades         True  2018-04-27T00:00:00Z  2018-04-27T00:00:00Z   \n",
       "97        trades         True  2021-01-16T00:00:00Z  2021-01-16T00:00:00Z   \n",
       "98        trades         True  2021-04-30T00:00:00Z  2021-04-30T00:00:00Z   \n",
       "99        trades         True  2021-05-23T00:00:00Z  2021-05-23T00:00:00Z   \n",
       "\n",
       "        first_order_book  num_pairs  ...  1d.trades_change  \\\n",
       "0   2018-08-29T00:00:00Z       2135  ...          -4183892   \n",
       "1   2019-10-15T00:00:00Z       1944  ...           -335104   \n",
       "2   2021-12-01T00:00:00Z        149  ...            -24289   \n",
       "3   2018-09-11T00:00:00Z        434  ...           -137715   \n",
       "4   2021-11-11T00:00:00Z       3428  ...                53   \n",
       "..                   ...        ...  ...               ...   \n",
       "95  2021-10-27T00:00:00Z         21  ...               -41   \n",
       "96  2020-02-10T00:00:00Z         53  ...                11   \n",
       "97  2021-10-27T00:00:00Z         63  ...              -135   \n",
       "98  2021-10-27T00:00:00Z         54  ...               -30   \n",
       "99  2021-10-27T00:00:00Z        102  ...              -102   \n",
       "\n",
       "   1d.trades_change_pct 1d.spot_volume  1d.spot_volume_change  \\\n",
       "0               -0.0885   1.304019e+10          -1.190569e+09   \n",
       "1               -0.0388   1.863079e+09           1.470773e+08   \n",
       "2               -0.0455   3.133991e+09          -2.742308e+08   \n",
       "3               -0.0300   3.075138e+09          -1.358877e+08   \n",
       "4                0.0016   1.675489e+09          -6.170183e+07   \n",
       "..                  ...            ...                    ...   \n",
       "95              -0.3868   1.295209e+04          -3.772800e+03   \n",
       "96               0.0764   1.106243e+04           2.714300e+03   \n",
       "97              -0.0959   6.530570e+03           2.660550e+03   \n",
       "98              -0.2400   5.209100e+03           1.641520e+03   \n",
       "99              -0.3366   4.347600e+03          -1.892230e+03   \n",
       "\n",
       "    1d.spot_volume_change_pct  1d.derivative_volume  \\\n",
       "0                     -0.0837          2.192871e+10   \n",
       "1                      0.0857          1.594988e+10   \n",
       "2                     -0.0805                   NaN   \n",
       "3                     -0.0423                   NaN   \n",
       "4                     -0.0355                   NaN   \n",
       "..                        ...                   ...   \n",
       "95                    -0.2256                   NaN   \n",
       "96                     0.3251                   NaN   \n",
       "97                     0.6875                   NaN   \n",
       "98                     0.4601                   NaN   \n",
       "99                    -0.3032                   NaN   \n",
       "\n",
       "    1d.derivative_volume_change  1d.derivative_volume_change_pct  location  \\\n",
       "0                 -1.483203e+09                          -0.0634       MLT   \n",
       "1                  5.437599e+09                           0.5173       ATG   \n",
       "2                           NaN                              NaN       CHL   \n",
       "3                           NaN                              NaN       USA   \n",
       "4                           NaN                              NaN       USA   \n",
       "..                          ...                              ...       ...   \n",
       "95                          NaN                              NaN       nan   \n",
       "96                          NaN                              NaN       USA   \n",
       "97                          NaN                              NaN       nan   \n",
       "98                          NaN                              NaN       nan   \n",
       "99                          NaN                              NaN       nan   \n",
       "\n",
       "                   website_url  \n",
       "0     https://www.binance.com/  \n",
       "1             https://ftx.com/  \n",
       "2   https://www.cryptomkt.com/  \n",
       "3    https://www.coinbase.com/  \n",
       "4          https://uniswap.org  \n",
       "..                         ...  \n",
       "95   https://www.empiredex.org  \n",
       "96           https://qtrade.io  \n",
       "97       https://levinswap.org  \n",
       "98   https://baguette.exchange  \n",
       "99      https://honeyswap.org/  \n",
       "\n",
       "[100 rows x 31 columns]"
      ]
     },
     "execution_count": 92,
     "metadata": {},
     "output_type": "execute_result"
    }
   ],
   "source": [
    "#replace location column with updated ISO country codes\n",
    "country_data.iloc[:,-2] = iso3_codes\n",
    "country_data"
   ]
  },
  {
   "cell_type": "code",
   "execution_count": 104,
   "id": "8e7e408e-a090-4e12-b14d-b1a1e11cb572",
   "metadata": {},
   "outputs": [
    {
     "data": {
      "application/vnd.plotly.v1+json": {
       "config": {
        "plotlyServerURL": "https://plot.ly"
       },
       "data": [
        {
         "customdata": [
          [
           34968897971.17,
           "https://www.binance.com/"
          ]
         ],
         "geo": "geo",
         "hovertemplate": "<b>%{hovertext}</b><br><br>name=Binance<br>location=%{location}<br>1d.volume=%{customdata[0]}<br>website_url=%{customdata[1]}<extra></extra>",
         "hovertext": [
          "MLT"
         ],
         "legendgroup": "Binance",
         "locations": [
          "MLT"
         ],
         "marker": {
          "color": "#636efa",
          "opacity": 0.8,
          "symbol": "circle"
         },
         "mode": "markers",
         "name": "Binance",
         "showlegend": true,
         "type": "scattergeo"
        },
        {
         "customdata": [
          [
           17812959622.72,
           "https://ftx.com/"
          ]
         ],
         "geo": "geo",
         "hovertemplate": "<b>%{hovertext}</b><br><br>name=FTX<br>location=%{location}<br>1d.volume=%{customdata[0]}<br>website_url=%{customdata[1]}<extra></extra>",
         "hovertext": [
          "ATG"
         ],
         "legendgroup": "FTX",
         "locations": [
          "ATG"
         ],
         "marker": {
          "color": "#EF553B",
          "opacity": 0.8,
          "symbol": "circle"
         },
         "mode": "markers",
         "name": "FTX",
         "showlegend": true,
         "type": "scattergeo"
        },
        {
         "customdata": [
          [
           3133990568.9,
           "https://www.cryptomkt.com/"
          ]
         ],
         "geo": "geo",
         "hovertemplate": "<b>%{hovertext}</b><br><br>name=CryptoMarket<br>location=%{location}<br>1d.volume=%{customdata[0]}<br>website_url=%{customdata[1]}<extra></extra>",
         "hovertext": [
          "CHL"
         ],
         "legendgroup": "CryptoMarket",
         "locations": [
          "CHL"
         ],
         "marker": {
          "color": "#00cc96",
          "opacity": 0.8,
          "symbol": "circle"
         },
         "mode": "markers",
         "name": "CryptoMarket",
         "showlegend": true,
         "type": "scattergeo"
        },
        {
         "customdata": [
          [
           3075137778.04,
           "https://www.coinbase.com/"
          ]
         ],
         "geo": "geo",
         "hovertemplate": "<b>%{hovertext}</b><br><br>name=Coinbase Exchange<br>location=%{location}<br>1d.volume=%{customdata[0]}<br>website_url=%{customdata[1]}<extra></extra>",
         "hovertext": [
          "USA"
         ],
         "legendgroup": "Coinbase Exchange",
         "locations": [
          "USA"
         ],
         "marker": {
          "color": "#ab63fa",
          "opacity": 0.8,
          "symbol": "circle"
         },
         "mode": "markers",
         "name": "Coinbase Exchange",
         "showlegend": true,
         "type": "scattergeo"
        },
        {
         "customdata": [
          [
           1675489178,
           "https://uniswap.org"
          ]
         ],
         "geo": "geo",
         "hovertemplate": "<b>%{hovertext}</b><br><br>name=Uniswap V3 (Ethereum)<br>location=%{location}<br>1d.volume=%{customdata[0]}<br>website_url=%{customdata[1]}<extra></extra>",
         "hovertext": [
          "USA"
         ],
         "legendgroup": "Uniswap V3 (Ethereum)",
         "locations": [
          "USA"
         ],
         "marker": {
          "color": "#FFA15A",
          "opacity": 0.8,
          "symbol": "circle"
         },
         "mode": "markers",
         "name": "Uniswap V3 (Ethereum)",
         "showlegend": true,
         "type": "scattergeo"
        },
        {
         "customdata": [
          [
           1096211749.78,
           "https://www.gate.io/"
          ]
         ],
         "geo": "geo",
         "hovertemplate": "<b>%{hovertext}</b><br><br>name=Gate.io<br>location=%{location}<br>1d.volume=%{customdata[0]}<br>website_url=%{customdata[1]}<extra></extra>",
         "hovertext": [
          "CYM"
         ],
         "legendgroup": "Gate.io",
         "locations": [
          "CYM"
         ],
         "marker": {
          "color": "#19d3f3",
          "opacity": 0.8,
          "symbol": "circle"
         },
         "mode": "markers",
         "name": "Gate.io",
         "showlegend": true,
         "type": "scattergeo"
        },
        {
         "customdata": [
          [
           1074186920.89,
           "https://www.bitmex.com/"
          ]
         ],
         "geo": "geo",
         "hovertemplate": "<b>%{hovertext}</b><br><br>name=Bitmex<br>location=%{location}<br>1d.volume=%{customdata[0]}<br>website_url=%{customdata[1]}<extra></extra>",
         "hovertext": [
          "SYC"
         ],
         "legendgroup": "Bitmex",
         "locations": [
          "SYC"
         ],
         "marker": {
          "color": "#FF6692",
          "opacity": 0.8,
          "symbol": "circle"
         },
         "mode": "markers",
         "name": "Bitmex",
         "showlegend": true,
         "type": "scattergeo"
        },
        {
         "customdata": [
          [
           934057841.28,
           "https://www.lbank.info/"
          ]
         ],
         "geo": "geo",
         "hovertemplate": "<b>%{hovertext}</b><br><br>name=Lbank<br>location=%{location}<br>1d.volume=%{customdata[0]}<br>website_url=%{customdata[1]}<extra></extra>",
         "hovertext": [
          "CHN"
         ],
         "legendgroup": "Lbank",
         "locations": [
          "CHN"
         ],
         "marker": {
          "color": "#B6E880",
          "opacity": 0.8,
          "symbol": "circle"
         },
         "mode": "markers",
         "name": "Lbank",
         "showlegend": true,
         "type": "scattergeo"
        },
        {
         "customdata": [
          [
           884269444.37,
           "https://www.kraken.com/"
          ]
         ],
         "geo": "geo",
         "hovertemplate": "<b>%{hovertext}</b><br><br>name=Kraken<br>location=%{location}<br>1d.volume=%{customdata[0]}<br>website_url=%{customdata[1]}<extra></extra>",
         "hovertext": [
          "USA"
         ],
         "legendgroup": "Kraken",
         "locations": [
          "USA"
         ],
         "marker": {
          "color": "#FF97FF",
          "opacity": 0.8,
          "symbol": "circle"
         },
         "mode": "markers",
         "name": "Kraken",
         "showlegend": true,
         "type": "scattergeo"
        },
        {
         "customdata": [
          [
           874410932.85,
           "https://www.deversifi.com/"
          ]
         ],
         "geo": "geo",
         "hovertemplate": "<b>%{hovertext}</b><br><br>name=DeversiFi<br>location=%{location}<br>1d.volume=%{customdata[0]}<br>website_url=%{customdata[1]}<extra></extra>",
         "hovertext": [
          "VGB"
         ],
         "legendgroup": "DeversiFi",
         "locations": [
          "VGB"
         ],
         "marker": {
          "color": "#FECB52",
          "opacity": 0.8,
          "symbol": "circle"
         },
         "mode": "markers",
         "name": "DeversiFi",
         "showlegend": true,
         "type": "scattergeo"
        },
        {
         "customdata": [
          [
           550693361,
           "https://phemex.com/"
          ]
         ],
         "geo": "geo",
         "hovertemplate": "<b>%{hovertext}</b><br><br>name=Phemex<br>location=%{location}<br>1d.volume=%{customdata[0]}<br>website_url=%{customdata[1]}<extra></extra>",
         "hovertext": [
          "SGP"
         ],
         "legendgroup": "Phemex",
         "locations": [
          "SGP"
         ],
         "marker": {
          "color": "#636efa",
          "opacity": 0.8,
          "symbol": "circle"
         },
         "mode": "markers",
         "name": "Phemex",
         "showlegend": true,
         "type": "scattergeo"
        },
        {
         "customdata": [
          [
           542411074.34,
           "https://pancakeswap.finance"
          ]
         ],
         "geo": "geo",
         "hovertemplate": "<b>%{hovertext}</b><br><br>name=PancakeSwap V2<br>location=%{location}<br>1d.volume=%{customdata[0]}<br>website_url=%{customdata[1]}<extra></extra>",
         "hovertext": [
          "JPN"
         ],
         "legendgroup": "PancakeSwap V2",
         "locations": [
          "JPN"
         ],
         "marker": {
          "color": "#EF553B",
          "opacity": 0.8,
          "symbol": "circle"
         },
         "mode": "markers",
         "name": "PancakeSwap V2",
         "showlegend": true,
         "type": "scattergeo"
        },
        {
         "customdata": [
          [
           407672466.13,
           "https://bitflyer.com/"
          ]
         ],
         "geo": "geo",
         "hovertemplate": "<b>%{hovertext}</b><br><br>name=bitFlyer<br>location=%{location}<br>1d.volume=%{customdata[0]}<br>website_url=%{customdata[1]}<extra></extra>",
         "hovertext": [
          "JPN"
         ],
         "legendgroup": "bitFlyer",
         "locations": [
          "JPN"
         ],
         "marker": {
          "color": "#00cc96",
          "opacity": 0.8,
          "symbol": "circle"
         },
         "mode": "markers",
         "name": "bitFlyer",
         "showlegend": true,
         "type": "scattergeo"
        },
        {
         "customdata": [
          [
           347787104.13,
           "https://curve.fi/"
          ]
         ],
         "geo": "geo",
         "hovertemplate": "<b>%{hovertext}</b><br><br>name=Curve Finance<br>location=%{location}<br>1d.volume=%{customdata[0]}<br>website_url=%{customdata[1]}<extra></extra>",
         "hovertext": [
          "CHE"
         ],
         "legendgroup": "Curve Finance",
         "locations": [
          "CHE"
         ],
         "marker": {
          "color": "#ab63fa",
          "opacity": 0.8,
          "symbol": "circle"
         },
         "mode": "markers",
         "name": "Curve Finance",
         "showlegend": true,
         "type": "scattergeo"
        },
        {
         "customdata": [
          [
           322191888.97,
           "https://uniswap.org"
          ]
         ],
         "geo": "geo",
         "hovertemplate": "<b>%{hovertext}</b><br><br>name=Uniswap V2<br>location=%{location}<br>1d.volume=%{customdata[0]}<br>website_url=%{customdata[1]}<extra></extra>",
         "hovertext": [
          "USA"
         ],
         "legendgroup": "Uniswap V2",
         "locations": [
          "USA"
         ],
         "marker": {
          "color": "#FFA15A",
          "opacity": 0.8,
          "symbol": "circle"
         },
         "mode": "markers",
         "name": "Uniswap V2",
         "showlegend": true,
         "type": "scattergeo"
        },
        {
         "customdata": [
          [
           316683135.29,
           "https://delta.exchange/"
          ]
         ],
         "geo": "geo",
         "hovertemplate": "<b>%{hovertext}</b><br><br>name=Delta Exchange<br>location=%{location}<br>1d.volume=%{customdata[0]}<br>website_url=%{customdata[1]}<extra></extra>",
         "hovertext": [
          "SGP"
         ],
         "legendgroup": "Delta Exchange",
         "locations": [
          "SGP"
         ],
         "marker": {
          "color": "#19d3f3",
          "opacity": 0.8,
          "symbol": "circle"
         },
         "mode": "markers",
         "name": "Delta Exchange",
         "showlegend": true,
         "type": "scattergeo"
        },
        {
         "customdata": [
          [
           287249100.54,
           "https://spookyswap.finance/"
          ]
         ],
         "geo": "geo",
         "hovertemplate": "<b>%{hovertext}</b><br><br>name=SpookySwap<br>location=%{location}<br>1d.volume=%{customdata[0]}<br>website_url=%{customdata[1]}<extra></extra>",
         "hovertext": [
          "nan"
         ],
         "legendgroup": "SpookySwap",
         "locations": [
          "nan"
         ],
         "marker": {
          "color": "#FF6692",
          "opacity": 0.8,
          "symbol": "circle"
         },
         "mode": "markers",
         "name": "SpookySwap",
         "showlegend": true,
         "type": "scattergeo"
        },
        {
         "customdata": [
          [
           215610999.3,
           "https://www.bitstamp.net/"
          ]
         ],
         "geo": "geo",
         "hovertemplate": "<b>%{hovertext}</b><br><br>name=Bitstamp<br>location=%{location}<br>1d.volume=%{customdata[0]}<br>website_url=%{customdata[1]}<extra></extra>",
         "hovertext": [
          "LUX"
         ],
         "legendgroup": "Bitstamp",
         "locations": [
          "LUX"
         ],
         "marker": {
          "color": "#B6E880",
          "opacity": 0.8,
          "symbol": "circle"
         },
         "mode": "markers",
         "name": "Bitstamp",
         "showlegend": true,
         "type": "scattergeo"
        },
        {
         "customdata": [
          [
           215446762.25,
           "https://www.probit.com"
          ]
         ],
         "geo": "geo",
         "hovertemplate": "<b>%{hovertext}</b><br><br>name=ProBit<br>location=%{location}<br>1d.volume=%{customdata[0]}<br>website_url=%{customdata[1]}<extra></extra>",
         "hovertext": [
          "SYC"
         ],
         "legendgroup": "ProBit",
         "locations": [
          "SYC"
         ],
         "marker": {
          "color": "#FF97FF",
          "opacity": 0.8,
          "symbol": "circle"
         },
         "mode": "markers",
         "name": "ProBit",
         "showlegend": true,
         "type": "scattergeo"
        },
        {
         "customdata": [
          [
           208361597.32,
           "https://sushi.com"
          ]
         ],
         "geo": "geo",
         "hovertemplate": "<b>%{hovertext}</b><br><br>name=SushiSwap (Ethereum)<br>location=%{location}<br>1d.volume=%{customdata[0]}<br>website_url=%{customdata[1]}<extra></extra>",
         "hovertext": [
          "nan"
         ],
         "legendgroup": "SushiSwap (Ethereum)",
         "locations": [
          "nan"
         ],
         "marker": {
          "color": "#FECB52",
          "opacity": 0.8,
          "symbol": "circle"
         },
         "mode": "markers",
         "name": "SushiSwap (Ethereum)",
         "showlegend": true,
         "type": "scattergeo"
        },
        {
         "customdata": [
          [
           205626363.51,
           "https://www.traderjoexyz.com/"
          ]
         ],
         "geo": "geo",
         "hovertemplate": "<b>%{hovertext}</b><br><br>name=Trader Joe<br>location=%{location}<br>1d.volume=%{customdata[0]}<br>website_url=%{customdata[1]}<extra></extra>",
         "hovertext": [
          "nan"
         ],
         "legendgroup": "Trader Joe",
         "locations": [
          "nan"
         ],
         "marker": {
          "color": "#636efa",
          "opacity": 0.8,
          "symbol": "circle"
         },
         "mode": "markers",
         "name": "Trader Joe",
         "showlegend": true,
         "type": "scattergeo"
        },
        {
         "customdata": [
          [
           189901381.08,
           "https://ftx.us/"
          ]
         ],
         "geo": "geo",
         "hovertemplate": "<b>%{hovertext}</b><br><br>name=FTX.us<br>location=%{location}<br>1d.volume=%{customdata[0]}<br>website_url=%{customdata[1]}<extra></extra>",
         "hovertext": [
          "USA"
         ],
         "legendgroup": "FTX.us",
         "locations": [
          "USA"
         ],
         "marker": {
          "color": "#EF553B",
          "opacity": 0.8,
          "symbol": "circle"
         },
         "mode": "markers",
         "name": "FTX.us",
         "showlegend": true,
         "type": "scattergeo"
        },
        {
         "customdata": [
          [
           146675413.9,
           "https://www.gemini.com/"
          ]
         ],
         "geo": "geo",
         "hovertemplate": "<b>%{hovertext}</b><br><br>name=Gemini<br>location=%{location}<br>1d.volume=%{customdata[0]}<br>website_url=%{customdata[1]}<extra></extra>",
         "hovertext": [
          "USA"
         ],
         "legendgroup": "Gemini",
         "locations": [
          "USA"
         ],
         "marker": {
          "color": "#00cc96",
          "opacity": 0.8,
          "symbol": "circle"
         },
         "mode": "markers",
         "name": "Gemini",
         "showlegend": true,
         "type": "scattergeo"
        },
        {
         "customdata": [
          [
           95724206.44,
           "https://sushi.com"
          ]
         ],
         "geo": "geo",
         "hovertemplate": "<b>%{hovertext}</b><br><br>name=SushiSwap (Avalanche)<br>location=%{location}<br>1d.volume=%{customdata[0]}<br>website_url=%{customdata[1]}<extra></extra>",
         "hovertext": [
          "nan"
         ],
         "legendgroup": "SushiSwap (Avalanche)",
         "locations": [
          "nan"
         ],
         "marker": {
          "color": "#ab63fa",
          "opacity": 0.8,
          "symbol": "circle"
         },
         "mode": "markers",
         "name": "SushiSwap (Avalanche)",
         "showlegend": true,
         "type": "scattergeo"
        },
        {
         "customdata": [
          [
           85151465.42,
           "https://www.liquid.com/"
          ]
         ],
         "geo": "geo",
         "hovertemplate": "<b>%{hovertext}</b><br><br>name=Liquid<br>location=%{location}<br>1d.volume=%{customdata[0]}<br>website_url=%{customdata[1]}<extra></extra>",
         "hovertext": [
          "JPN"
         ],
         "legendgroup": "Liquid",
         "locations": [
          "JPN"
         ],
         "marker": {
          "color": "#FFA15A",
          "opacity": 0.8,
          "symbol": "circle"
         },
         "mode": "markers",
         "name": "Liquid",
         "showlegend": true,
         "type": "scattergeo"
        },
        {
         "customdata": [
          [
           75060304.68,
           "https://poloniex.com/"
          ]
         ],
         "geo": "geo",
         "hovertemplate": "<b>%{hovertext}</b><br><br>name=Poloniex<br>location=%{location}<br>1d.volume=%{customdata[0]}<br>website_url=%{customdata[1]}<extra></extra>",
         "hovertext": [
          "USA"
         ],
         "legendgroup": "Poloniex",
         "locations": [
          "USA"
         ],
         "marker": {
          "color": "#19d3f3",
          "opacity": 0.8,
          "symbol": "circle"
         },
         "mode": "markers",
         "name": "Poloniex",
         "showlegend": true,
         "type": "scattergeo"
        },
        {
         "customdata": [
          [
           52746059.67,
           "https://www.spiritswap.finance"
          ]
         ],
         "geo": "geo",
         "hovertemplate": "<b>%{hovertext}</b><br><br>name=SpiritSwap<br>location=%{location}<br>1d.volume=%{customdata[0]}<br>website_url=%{customdata[1]}<extra></extra>",
         "hovertext": [
          "nan"
         ],
         "legendgroup": "SpiritSwap",
         "locations": [
          "nan"
         ],
         "marker": {
          "color": "#FF6692",
          "opacity": 0.8,
          "symbol": "circle"
         },
         "mode": "markers",
         "name": "SpiritSwap",
         "showlegend": true,
         "type": "scattergeo"
        },
        {
         "customdata": [
          [
           46060475.54,
           "https://sushi.com"
          ]
         ],
         "geo": "geo",
         "hovertemplate": "<b>%{hovertext}</b><br><br>name=SushiSwap (Arbitrum)<br>location=%{location}<br>1d.volume=%{customdata[0]}<br>website_url=%{customdata[1]}<extra></extra>",
         "hovertext": [
          "nan"
         ],
         "legendgroup": "SushiSwap (Arbitrum)",
         "locations": [
          "nan"
         ],
         "marker": {
          "color": "#B6E880",
          "opacity": 0.8,
          "symbol": "circle"
         },
         "mode": "markers",
         "name": "SushiSwap (Arbitrum)",
         "showlegend": true,
         "type": "scattergeo"
        },
        {
         "customdata": [
          [
           45440485.87,
           "https://uniswap.org"
          ]
         ],
         "geo": "geo",
         "hovertemplate": "<b>%{hovertext}</b><br><br>name=Uniswap V3 (Polygon)<br>location=%{location}<br>1d.volume=%{customdata[0]}<br>website_url=%{customdata[1]}<extra></extra>",
         "hovertext": [
          "USA"
         ],
         "legendgroup": "Uniswap V3 (Polygon)",
         "locations": [
          "USA"
         ],
         "marker": {
          "color": "#FF97FF",
          "opacity": 0.8,
          "symbol": "circle"
         },
         "mode": "markers",
         "name": "Uniswap V3 (Polygon)",
         "showlegend": true,
         "type": "scattergeo"
        },
        {
         "customdata": [
          [
           39940094.49,
           "https://quickswap.exchange/"
          ]
         ],
         "geo": "geo",
         "hovertemplate": "<b>%{hovertext}</b><br><br>name=QuickSwap<br>location=%{location}<br>1d.volume=%{customdata[0]}<br>website_url=%{customdata[1]}<extra></extra>",
         "hovertext": [
          "nan"
         ],
         "legendgroup": "QuickSwap",
         "locations": [
          "nan"
         ],
         "marker": {
          "color": "#FECB52",
          "opacity": 0.8,
          "symbol": "circle"
         },
         "mode": "markers",
         "name": "QuickSwap",
         "showlegend": true,
         "type": "scattergeo"
        },
        {
         "customdata": [
          [
           39277001.45,
           "https://dodoex.io"
          ]
         ],
         "geo": "geo",
         "hovertemplate": "<b>%{hovertext}</b><br><br>name=DODO (Ethereum)<br>location=%{location}<br>1d.volume=%{customdata[0]}<br>website_url=%{customdata[1]}<extra></extra>",
         "hovertext": [
          "nan"
         ],
         "legendgroup": "DODO (Ethereum)",
         "locations": [
          "nan"
         ],
         "marker": {
          "color": "#636efa",
          "opacity": 0.8,
          "symbol": "circle"
         },
         "mode": "markers",
         "name": "DODO (Ethereum)",
         "showlegend": true,
         "type": "scattergeo"
        },
        {
         "customdata": [
          [
           36294745.1,
           "https://uniswap.org"
          ]
         ],
         "geo": "geo",
         "hovertemplate": "<b>%{hovertext}</b><br><br>name=Uniswap V3 (Arbitrum)<br>location=%{location}<br>1d.volume=%{customdata[0]}<br>website_url=%{customdata[1]}<extra></extra>",
         "hovertext": [
          "USA"
         ],
         "legendgroup": "Uniswap V3 (Arbitrum)",
         "locations": [
          "USA"
         ],
         "marker": {
          "color": "#EF553B",
          "opacity": 0.8,
          "symbol": "circle"
         },
         "mode": "markers",
         "name": "Uniswap V3 (Arbitrum)",
         "showlegend": true,
         "type": "scattergeo"
        },
        {
         "customdata": [
          [
           33188426.95,
           "https://balancer.fi"
          ]
         ],
         "geo": "geo",
         "hovertemplate": "<b>%{hovertext}</b><br><br>name=Balancer V2 (Ethereum)<br>location=%{location}<br>1d.volume=%{customdata[0]}<br>website_url=%{customdata[1]}<extra></extra>",
         "hovertext": [
          "nan"
         ],
         "legendgroup": "Balancer V2 (Ethereum)",
         "locations": [
          "nan"
         ],
         "marker": {
          "color": "#00cc96",
          "opacity": 0.8,
          "symbol": "circle"
         },
         "mode": "markers",
         "name": "Balancer V2 (Ethereum)",
         "showlegend": true,
         "type": "scattergeo"
        },
        {
         "customdata": [
          [
           31923329.02,
           "https://dodoex.io"
          ]
         ],
         "geo": "geo",
         "hovertemplate": "<b>%{hovertext}</b><br><br>name=DODO (Polygon)<br>location=%{location}<br>1d.volume=%{customdata[0]}<br>website_url=%{customdata[1]}<extra></extra>",
         "hovertext": [
          "nan"
         ],
         "legendgroup": "DODO (Polygon)",
         "locations": [
          "nan"
         ],
         "marker": {
          "color": "#ab63fa",
          "opacity": 0.8,
          "symbol": "circle"
         },
         "mode": "markers",
         "name": "DODO (Polygon)",
         "showlegend": true,
         "type": "scattergeo"
        },
        {
         "customdata": [
          [
           30654100.17,
           "https://eqonex.com/"
          ]
         ],
         "geo": "geo",
         "hovertemplate": "<b>%{hovertext}</b><br><br>name=EQONEX<br>location=%{location}<br>1d.volume=%{customdata[0]}<br>website_url=%{customdata[1]}<extra></extra>",
         "hovertext": [
          "SGP"
         ],
         "legendgroup": "EQONEX",
         "locations": [
          "SGP"
         ],
         "marker": {
          "color": "#FFA15A",
          "opacity": 0.8,
          "symbol": "circle"
         },
         "mode": "markers",
         "name": "EQONEX",
         "showlegend": true,
         "type": "scattergeo"
        },
        {
         "customdata": [
          [
           21455562.38,
           "https://balancer.fi"
          ]
         ],
         "geo": "geo",
         "hovertemplate": "<b>%{hovertext}</b><br><br>name=Balancer V2 (Polygon)<br>location=%{location}<br>1d.volume=%{customdata[0]}<br>website_url=%{customdata[1]}<extra></extra>",
         "hovertext": [
          "nan"
         ],
         "legendgroup": "Balancer V2 (Polygon)",
         "locations": [
          "nan"
         ],
         "marker": {
          "color": "#19d3f3",
          "opacity": 0.8,
          "symbol": "circle"
         },
         "mode": "markers",
         "name": "Balancer V2 (Polygon)",
         "showlegend": true,
         "type": "scattergeo"
        },
        {
         "customdata": [
          [
           21207320.56,
           "https://belfrics.com"
          ]
         ],
         "geo": "geo",
         "hovertemplate": "<b>%{hovertext}</b><br><br>name=Belfrics<br>location=%{location}<br>1d.volume=%{customdata[0]}<br>website_url=%{customdata[1]}<extra></extra>",
         "hovertext": [
          "MYS"
         ],
         "legendgroup": "Belfrics",
         "locations": [
          "MYS"
         ],
         "marker": {
          "color": "#FF6692",
          "opacity": 0.8,
          "symbol": "circle"
         },
         "mode": "markers",
         "name": "Belfrics",
         "showlegend": true,
         "type": "scattergeo"
        },
        {
         "customdata": [
          [
           20580078.73,
           "https://cex.io/"
          ]
         ],
         "geo": "geo",
         "hovertemplate": "<b>%{hovertext}</b><br><br>name=CEX.IO<br>location=%{location}<br>1d.volume=%{customdata[0]}<br>website_url=%{customdata[1]}<extra></extra>",
         "hovertext": [
          "GBR"
         ],
         "legendgroup": "CEX.IO",
         "locations": [
          "GBR"
         ],
         "marker": {
          "color": "#B6E880",
          "opacity": 0.8,
          "symbol": "circle"
         },
         "mode": "markers",
         "name": "CEX.IO",
         "showlegend": true,
         "type": "scattergeo"
        },
        {
         "customdata": [
          [
           18718892.31,
           "https://sushi.com"
          ]
         ],
         "geo": "geo",
         "hovertemplate": "<b>%{hovertext}</b><br><br>name=SushiSwap (Polygon)<br>location=%{location}<br>1d.volume=%{customdata[0]}<br>website_url=%{customdata[1]}<extra></extra>",
         "hovertext": [
          "nan"
         ],
         "legendgroup": "SushiSwap (Polygon)",
         "locations": [
          "nan"
         ],
         "marker": {
          "color": "#FF97FF",
          "opacity": 0.8,
          "symbol": "circle"
         },
         "mode": "markers",
         "name": "SushiSwap (Polygon)",
         "showlegend": true,
         "type": "scattergeo"
        },
        {
         "customdata": [
          [
           18048449.88,
           "https://pangolin.exchange"
          ]
         ],
         "geo": "geo",
         "hovertemplate": "<b>%{hovertext}</b><br><br>name=Pangolin<br>location=%{location}<br>1d.volume=%{customdata[0]}<br>website_url=%{customdata[1]}<extra></extra>",
         "hovertext": [
          "nan"
         ],
         "legendgroup": "Pangolin",
         "locations": [
          "nan"
         ],
         "marker": {
          "color": "#FECB52",
          "opacity": 0.8,
          "symbol": "circle"
         },
         "mode": "markers",
         "name": "Pangolin",
         "showlegend": true,
         "type": "scattergeo"
        },
        {
         "customdata": [
          [
           17335244.86,
           "https://www.coinfield.com/"
          ]
         ],
         "geo": "geo",
         "hovertemplate": "<b>%{hovertext}</b><br><br>name=CoinField<br>location=%{location}<br>1d.volume=%{customdata[0]}<br>website_url=%{customdata[1]}<extra></extra>",
         "hovertext": [
          "CAN"
         ],
         "legendgroup": "CoinField",
         "locations": [
          "CAN"
         ],
         "marker": {
          "color": "#636efa",
          "opacity": 0.8,
          "symbol": "circle"
         },
         "mode": "markers",
         "name": "CoinField",
         "showlegend": true,
         "type": "scattergeo"
        },
        {
         "customdata": [
          [
           16093270.03,
           "https://home.babyswap.finance"
          ]
         ],
         "geo": "geo",
         "hovertemplate": "<b>%{hovertext}</b><br><br>name=BabySwap<br>location=%{location}<br>1d.volume=%{customdata[0]}<br>website_url=%{customdata[1]}<extra></extra>",
         "hovertext": [
          "nan"
         ],
         "legendgroup": "BabySwap",
         "locations": [
          "nan"
         ],
         "marker": {
          "color": "#EF553B",
          "opacity": 0.8,
          "symbol": "circle"
         },
         "mode": "markers",
         "name": "BabySwap",
         "showlegend": true,
         "type": "scattergeo"
        },
        {
         "customdata": [
          [
           16028848.27,
           "https://bitso.com/"
          ]
         ],
         "geo": "geo",
         "hovertemplate": "<b>%{hovertext}</b><br><br>name=Bitso<br>location=%{location}<br>1d.volume=%{customdata[0]}<br>website_url=%{customdata[1]}<extra></extra>",
         "hovertext": [
          "MEX"
         ],
         "legendgroup": "Bitso",
         "locations": [
          "MEX"
         ],
         "marker": {
          "color": "#00cc96",
          "opacity": 0.8,
          "symbol": "circle"
         },
         "mode": "markers",
         "name": "Bitso",
         "showlegend": true,
         "type": "scattergeo"
        },
        {
         "customdata": [
          [
           13949792.45,
           "https://mdex.com"
          ]
         ],
         "geo": "geo",
         "hovertemplate": "<b>%{hovertext}</b><br><br>name=Mdex (BSC)<br>location=%{location}<br>1d.volume=%{customdata[0]}<br>website_url=%{customdata[1]}<extra></extra>",
         "hovertext": [
          "nan"
         ],
         "legendgroup": "Mdex (BSC)",
         "locations": [
          "nan"
         ],
         "marker": {
          "color": "#ab63fa",
          "opacity": 0.8,
          "symbol": "circle"
         },
         "mode": "markers",
         "name": "Mdex (BSC)",
         "showlegend": true,
         "type": "scattergeo"
        },
        {
         "customdata": [
          [
           12880143.91,
           "https://shibaswap.com/"
          ]
         ],
         "geo": "geo",
         "hovertemplate": "<b>%{hovertext}</b><br><br>name=ShibaSwap<br>location=%{location}<br>1d.volume=%{customdata[0]}<br>website_url=%{customdata[1]}<extra></extra>",
         "hovertext": [
          "nan"
         ],
         "legendgroup": "ShibaSwap",
         "locations": [
          "nan"
         ],
         "marker": {
          "color": "#FFA15A",
          "opacity": 0.8,
          "symbol": "circle"
         },
         "mode": "markers",
         "name": "ShibaSwap",
         "showlegend": true,
         "type": "scattergeo"
        },
        {
         "customdata": [
          [
           12532371.66,
           "https://apeswap.finance"
          ]
         ],
         "geo": "geo",
         "hovertemplate": "<b>%{hovertext}</b><br><br>name=ApeSwap (BSC)<br>location=%{location}<br>1d.volume=%{customdata[0]}<br>website_url=%{customdata[1]}<extra></extra>",
         "hovertext": [
          "nan"
         ],
         "legendgroup": "ApeSwap (BSC)",
         "locations": [
          "nan"
         ],
         "marker": {
          "color": "#19d3f3",
          "opacity": 0.8,
          "symbol": "circle"
         },
         "mode": "markers",
         "name": "ApeSwap (BSC)",
         "showlegend": true,
         "type": "scattergeo"
        },
        {
         "customdata": [
          [
           12198452.32,
           "https://polyx.net"
          ]
         ],
         "geo": "geo",
         "hovertemplate": "<b>%{hovertext}</b><br><br>name=Polyx<br>location=%{location}<br>1d.volume=%{customdata[0]}<br>website_url=%{customdata[1]}<extra></extra>",
         "hovertext": [
          "EST"
         ],
         "legendgroup": "Polyx",
         "locations": [
          "EST"
         ],
         "marker": {
          "color": "#FF6692",
          "opacity": 0.8,
          "symbol": "circle"
         },
         "mode": "markers",
         "name": "Polyx",
         "showlegend": true,
         "type": "scattergeo"
        },
        {
         "customdata": [
          [
           12092281.81,
           "https://balancer.fi"
          ]
         ],
         "geo": "geo",
         "hovertemplate": "<b>%{hovertext}</b><br><br>name=Balancer V1<br>location=%{location}<br>1d.volume=%{customdata[0]}<br>website_url=%{customdata[1]}<extra></extra>",
         "hovertext": [
          "nan"
         ],
         "legendgroup": "Balancer V1",
         "locations": [
          "nan"
         ],
         "marker": {
          "color": "#B6E880",
          "opacity": 0.8,
          "symbol": "circle"
         },
         "mode": "markers",
         "name": "Balancer V1",
         "showlegend": true,
         "type": "scattergeo"
        },
        {
         "customdata": [
          [
           9712544.06,
           "https://uniswap.org"
          ]
         ],
         "geo": "geo",
         "hovertemplate": "<b>%{hovertext}</b><br><br>name=Uniswap V3 (Optimism)<br>location=%{location}<br>1d.volume=%{customdata[0]}<br>website_url=%{customdata[1]}<extra></extra>",
         "hovertext": [
          "USA"
         ],
         "legendgroup": "Uniswap V3 (Optimism)",
         "locations": [
          "USA"
         ],
         "marker": {
          "color": "#FF97FF",
          "opacity": 0.8,
          "symbol": "circle"
         },
         "mode": "markers",
         "name": "Uniswap V3 (Optimism)",
         "showlegend": true,
         "type": "scattergeo"
        },
        {
         "customdata": [
          [
           9302429.06,
           "https://www.scalpex.com"
          ]
         ],
         "geo": "geo",
         "hovertemplate": "<b>%{hovertext}</b><br><br>name=Scalpex<br>location=%{location}<br>1d.volume=%{customdata[0]}<br>website_url=%{customdata[1]}<extra></extra>",
         "hovertext": [
          "VGB"
         ],
         "legendgroup": "Scalpex",
         "locations": [
          "VGB"
         ],
         "marker": {
          "color": "#FECB52",
          "opacity": 0.8,
          "symbol": "circle"
         },
         "mode": "markers",
         "name": "Scalpex",
         "showlegend": true,
         "type": "scattergeo"
        },
        {
         "customdata": [
          [
           7383749.37,
           "https://nominex.io/"
          ]
         ],
         "geo": "geo",
         "hovertemplate": "<b>%{hovertext}</b><br><br>name=Nominex<br>location=%{location}<br>1d.volume=%{customdata[0]}<br>website_url=%{customdata[1]}<extra></extra>",
         "hovertext": [
          "SYC"
         ],
         "legendgroup": "Nominex",
         "locations": [
          "SYC"
         ],
         "marker": {
          "color": "#636efa",
          "opacity": 0.8,
          "symbol": "circle"
         },
         "mode": "markers",
         "name": "Nominex",
         "showlegend": true,
         "type": "scattergeo"
        },
        {
         "customdata": [
          [
           6319961.89,
           "https://solarbeam.io"
          ]
         ],
         "geo": "geo",
         "hovertemplate": "<b>%{hovertext}</b><br><br>name=Solarbeam<br>location=%{location}<br>1d.volume=%{customdata[0]}<br>website_url=%{customdata[1]}<extra></extra>",
         "hovertext": [
          "nan"
         ],
         "legendgroup": "Solarbeam",
         "locations": [
          "nan"
         ],
         "marker": {
          "color": "#EF553B",
          "opacity": 0.8,
          "symbol": "circle"
         },
         "mode": "markers",
         "name": "Solarbeam",
         "showlegend": true,
         "type": "scattergeo"
        },
        {
         "customdata": [
          [
           6137309.27,
           "https://coinflex.com/"
          ]
         ],
         "geo": "geo",
         "hovertemplate": "<b>%{hovertext}</b><br><br>name=CoinFLEX<br>location=%{location}<br>1d.volume=%{customdata[0]}<br>website_url=%{customdata[1]}<extra></extra>",
         "hovertext": [
          "SYC"
         ],
         "legendgroup": "CoinFLEX",
         "locations": [
          "SYC"
         ],
         "marker": {
          "color": "#00cc96",
          "opacity": 0.8,
          "symbol": "circle"
         },
         "mode": "markers",
         "name": "CoinFLEX",
         "showlegend": true,
         "type": "scattergeo"
        },
        {
         "customdata": [
          [
           5235976.76,
           "https://vvs.finance"
          ]
         ],
         "geo": "geo",
         "hovertemplate": "<b>%{hovertext}</b><br><br>name=VVS Finance<br>location=%{location}<br>1d.volume=%{customdata[0]}<br>website_url=%{customdata[1]}<extra></extra>",
         "hovertext": [
          "nan"
         ],
         "legendgroup": "VVS Finance",
         "locations": [
          "nan"
         ],
         "marker": {
          "color": "#ab63fa",
          "opacity": 0.8,
          "symbol": "circle"
         },
         "mode": "markers",
         "name": "VVS Finance",
         "showlegend": true,
         "type": "scattergeo"
        },
        {
         "customdata": [
          [
           4796290.68,
           "https://crosstower.com/"
          ]
         ],
         "geo": "geo",
         "hovertemplate": "<b>%{hovertext}</b><br><br>name=CrossTower<br>location=%{location}<br>1d.volume=%{customdata[0]}<br>website_url=%{customdata[1]}<extra></extra>",
         "hovertext": [
          "USA"
         ],
         "legendgroup": "CrossTower",
         "locations": [
          "USA"
         ],
         "marker": {
          "color": "#FFA15A",
          "opacity": 0.8,
          "symbol": "circle"
         },
         "mode": "markers",
         "name": "CrossTower",
         "showlegend": true,
         "type": "scattergeo"
        },
        {
         "customdata": [
          [
           4643066.88,
           "https://viper.exchange/"
          ]
         ],
         "geo": "geo",
         "hovertemplate": "<b>%{hovertext}</b><br><br>name=ViperSwap<br>location=%{location}<br>1d.volume=%{customdata[0]}<br>website_url=%{customdata[1]}<extra></extra>",
         "hovertext": [
          "nan"
         ],
         "legendgroup": "ViperSwap",
         "locations": [
          "nan"
         ],
         "marker": {
          "color": "#19d3f3",
          "opacity": 0.8,
          "symbol": "circle"
         },
         "mode": "markers",
         "name": "ViperSwap",
         "showlegend": true,
         "type": "scattergeo"
        },
        {
         "customdata": [
          [
           3542849.09,
           "https://www.dfyn.network"
          ]
         ],
         "geo": "geo",
         "hovertemplate": "<b>%{hovertext}</b><br><br>name=Dfyn (Polygon)<br>location=%{location}<br>1d.volume=%{customdata[0]}<br>website_url=%{customdata[1]}<extra></extra>",
         "hovertext": [
          "nan"
         ],
         "legendgroup": "Dfyn (Polygon)",
         "locations": [
          "nan"
         ],
         "marker": {
          "color": "#FF6692",
          "opacity": 0.8,
          "symbol": "circle"
         },
         "mode": "markers",
         "name": "Dfyn (Polygon)",
         "showlegend": true,
         "type": "scattergeo"
        },
        {
         "customdata": [
          [
           3337846.89,
           "https://www.mercadobitcoin.com.br/"
          ]
         ],
         "geo": "geo",
         "hovertemplate": "<b>%{hovertext}</b><br><br>name=Mercado Bitcoin<br>location=%{location}<br>1d.volume=%{customdata[0]}<br>website_url=%{customdata[1]}<extra></extra>",
         "hovertext": [
          "BRA"
         ],
         "legendgroup": "Mercado Bitcoin",
         "locations": [
          "BRA"
         ],
         "marker": {
          "color": "#B6E880",
          "opacity": 0.8,
          "symbol": "circle"
         },
         "mode": "markers",
         "name": "Mercado Bitcoin",
         "showlegend": true,
         "type": "scattergeo"
        },
        {
         "customdata": [
          [
           2954186.83,
           "https://currency.com/"
          ]
         ],
         "geo": "geo",
         "hovertemplate": "<b>%{hovertext}</b><br><br>name=Currency.com<br>location=%{location}<br>1d.volume=%{customdata[0]}<br>website_url=%{customdata[1]}<extra></extra>",
         "hovertext": [
          "BLR"
         ],
         "legendgroup": "Currency.com",
         "locations": [
          "BLR"
         ],
         "marker": {
          "color": "#FF97FF",
          "opacity": 0.8,
          "symbol": "circle"
         },
         "mode": "markers",
         "name": "Currency.com",
         "showlegend": true,
         "type": "scattergeo"
        },
        {
         "customdata": [
          [
           2589297.18,
           "https://pancakeswap.finance"
          ]
         ],
         "geo": "geo",
         "hovertemplate": "<b>%{hovertext}</b><br><br>name=PancakeSwap V1<br>location=%{location}<br>1d.volume=%{customdata[0]}<br>website_url=%{customdata[1]}<extra></extra>",
         "hovertext": [
          "JPN"
         ],
         "legendgroup": "PancakeSwap V1",
         "locations": [
          "JPN"
         ],
         "marker": {
          "color": "#FECB52",
          "opacity": 0.8,
          "symbol": "circle"
         },
         "mode": "markers",
         "name": "PancakeSwap V1",
         "showlegend": true,
         "type": "scattergeo"
        },
        {
         "customdata": [
          [
           2481131.41,
           "https://ubeswap.org"
          ]
         ],
         "geo": "geo",
         "hovertemplate": "<b>%{hovertext}</b><br><br>name=Ubeswap<br>location=%{location}<br>1d.volume=%{customdata[0]}<br>website_url=%{customdata[1]}<extra></extra>",
         "hovertext": [
          "nan"
         ],
         "legendgroup": "Ubeswap",
         "locations": [
          "nan"
         ],
         "marker": {
          "color": "#636efa",
          "opacity": 0.8,
          "symbol": "circle"
         },
         "mode": "markers",
         "name": "Ubeswap",
         "showlegend": true,
         "type": "scattergeo"
        },
        {
         "customdata": [
          [
           2417878.53,
           "https://apeswap.finance"
          ]
         ],
         "geo": "geo",
         "hovertemplate": "<b>%{hovertext}</b><br><br>name=ApeSwap (Polygon)<br>location=%{location}<br>1d.volume=%{customdata[0]}<br>website_url=%{customdata[1]}<extra></extra>",
         "hovertext": [
          "nan"
         ],
         "legendgroup": "ApeSwap (Polygon)",
         "locations": [
          "nan"
         ],
         "marker": {
          "color": "#EF553B",
          "opacity": 0.8,
          "symbol": "circle"
         },
         "mode": "markers",
         "name": "ApeSwap (Polygon)",
         "showlegend": true,
         "type": "scattergeo"
        },
        {
         "customdata": [
          [
           1921587.13,
           "https://app.farhadmarket.com/"
          ]
         ],
         "geo": "geo",
         "hovertemplate": "<b>%{hovertext}</b><br><br>name=FarhadMarket<br>location=%{location}<br>1d.volume=%{customdata[0]}<br>website_url=%{customdata[1]}<extra></extra>",
         "hovertext": [
          "IRN"
         ],
         "legendgroup": "FarhadMarket",
         "locations": [
          "IRN"
         ],
         "marker": {
          "color": "#00cc96",
          "opacity": 0.8,
          "symbol": "circle"
         },
         "mode": "markers",
         "name": "FarhadMarket",
         "showlegend": true,
         "type": "scattergeo"
        },
        {
         "customdata": [
          [
           1560977.89,
           "https://www.binance.org/"
          ]
         ],
         "geo": "geo",
         "hovertemplate": "<b>%{hovertext}</b><br><br>name=Binance DEX<br>location=%{location}<br>1d.volume=%{customdata[0]}<br>website_url=%{customdata[1]}<extra></extra>",
         "hovertext": [
          "MLT"
         ],
         "legendgroup": "Binance DEX",
         "locations": [
          "MLT"
         ],
         "marker": {
          "color": "#ab63fa",
          "opacity": 0.8,
          "symbol": "circle"
         },
         "mode": "markers",
         "name": "Binance DEX",
         "showlegend": true,
         "type": "scattergeo"
        },
        {
         "customdata": [
          [
           1481363.09,
           "https://redot.com/"
          ]
         ],
         "geo": "geo",
         "hovertemplate": "<b>%{hovertext}</b><br><br>name=Redot<br>location=%{location}<br>1d.volume=%{customdata[0]}<br>website_url=%{customdata[1]}<extra></extra>",
         "hovertext": [
          "EST"
         ],
         "legendgroup": "Redot",
         "locations": [
          "EST"
         ],
         "marker": {
          "color": "#FFA15A",
          "opacity": 0.8,
          "symbol": "circle"
         },
         "mode": "markers",
         "name": "Redot",
         "showlegend": true,
         "type": "scattergeo"
        },
        {
         "customdata": [
          [
           1015475.99,
           "https://www.cherryswap.net/"
          ]
         ],
         "geo": "geo",
         "hovertemplate": "<b>%{hovertext}</b><br><br>name=CherrySwap<br>location=%{location}<br>1d.volume=%{customdata[0]}<br>website_url=%{customdata[1]}<extra></extra>",
         "hovertext": [
          "nan"
         ],
         "legendgroup": "CherrySwap",
         "locations": [
          "nan"
         ],
         "marker": {
          "color": "#19d3f3",
          "opacity": 0.8,
          "symbol": "circle"
         },
         "mode": "markers",
         "name": "CherrySwap",
         "showlegend": true,
         "type": "scattergeo"
        },
        {
         "customdata": [
          [
           989404.79,
           "https://therocktrading.com/"
          ]
         ],
         "geo": "geo",
         "hovertemplate": "<b>%{hovertext}</b><br><br>name=The Rock Trading<br>location=%{location}<br>1d.volume=%{customdata[0]}<br>website_url=%{customdata[1]}<extra></extra>",
         "hovertext": [
          "ITA"
         ],
         "legendgroup": "The Rock Trading",
         "locations": [
          "ITA"
         ],
         "marker": {
          "color": "#FF6692",
          "opacity": 0.8,
          "symbol": "circle"
         },
         "mode": "markers",
         "name": "The Rock Trading",
         "showlegend": true,
         "type": "scattergeo"
        },
        {
         "customdata": [
          [
           711690.81,
           "https://dfx.finance"
          ]
         ],
         "geo": "geo",
         "hovertemplate": "<b>%{hovertext}</b><br><br>name=DFX (Polygon)<br>location=%{location}<br>1d.volume=%{customdata[0]}<br>website_url=%{customdata[1]}<extra></extra>",
         "hovertext": [
          "nan"
         ],
         "legendgroup": "DFX (Polygon)",
         "locations": [
          "nan"
         ],
         "marker": {
          "color": "#B6E880",
          "opacity": 0.8,
          "symbol": "circle"
         },
         "mode": "markers",
         "name": "DFX (Polygon)",
         "showlegend": true,
         "type": "scattergeo"
        },
        {
         "customdata": [
          [
           622218.38,
           "https://mimo.finance"
          ]
         ],
         "geo": "geo",
         "hovertemplate": "<b>%{hovertext}</b><br><br>name=Mimo<br>location=%{location}<br>1d.volume=%{customdata[0]}<br>website_url=%{customdata[1]}<extra></extra>",
         "hovertext": [
          "nan"
         ],
         "legendgroup": "Mimo",
         "locations": [
          "nan"
         ],
         "marker": {
          "color": "#FF97FF",
          "opacity": 0.8,
          "symbol": "circle"
         },
         "mode": "markers",
         "name": "Mimo",
         "showlegend": true,
         "type": "scattergeo"
        },
        {
         "customdata": [
          [
           495382.29,
           "https://1inch.io"
          ]
         ],
         "geo": "geo",
         "hovertemplate": "<b>%{hovertext}</b><br><br>name=1inch V2 (Ethereum)<br>location=%{location}<br>1d.volume=%{customdata[0]}<br>website_url=%{customdata[1]}<extra></extra>",
         "hovertext": [
          "nan"
         ],
         "legendgroup": "1inch V2 (Ethereum)",
         "locations": [
          "nan"
         ],
         "marker": {
          "color": "#FECB52",
          "opacity": 0.8,
          "symbol": "circle"
         },
         "mode": "markers",
         "name": "1inch V2 (Ethereum)",
         "showlegend": true,
         "type": "scattergeo"
        },
        {
         "customdata": [
          [
           472708.03,
           "https://kaidex.io"
          ]
         ],
         "geo": "geo",
         "hovertemplate": "<b>%{hovertext}</b><br><br>name=KaiDex<br>location=%{location}<br>1d.volume=%{customdata[0]}<br>website_url=%{customdata[1]}<extra></extra>",
         "hovertext": [
          "nan"
         ],
         "legendgroup": "KaiDex",
         "locations": [
          "nan"
         ],
         "marker": {
          "color": "#636efa",
          "opacity": 0.8,
          "symbol": "circle"
         },
         "mode": "markers",
         "name": "KaiDex",
         "showlegend": true,
         "type": "scattergeo"
        },
        {
         "customdata": [
          [
           414118.98,
           "https://sushi.com"
          ]
         ],
         "geo": "geo",
         "hovertemplate": "<b>%{hovertext}</b><br><br>name=SushiSwap (Fantom)<br>location=%{location}<br>1d.volume=%{customdata[0]}<br>website_url=%{customdata[1]}<extra></extra>",
         "hovertext": [
          "nan"
         ],
         "legendgroup": "SushiSwap (Fantom)",
         "locations": [
          "nan"
         ],
         "marker": {
          "color": "#EF553B",
          "opacity": 0.8,
          "symbol": "circle"
         },
         "mode": "markers",
         "name": "SushiSwap (Fantom)",
         "showlegend": true,
         "type": "scattergeo"
        },
        {
         "customdata": [
          [
           360327.13,
           "https://dfx.finance"
          ]
         ],
         "geo": "geo",
         "hovertemplate": "<b>%{hovertext}</b><br><br>name=DFX (Ethereum)<br>location=%{location}<br>1d.volume=%{customdata[0]}<br>website_url=%{customdata[1]}<extra></extra>",
         "hovertext": [
          "nan"
         ],
         "legendgroup": "DFX (Ethereum)",
         "locations": [
          "nan"
         ],
         "marker": {
          "color": "#00cc96",
          "opacity": 0.8,
          "symbol": "circle"
         },
         "mode": "markers",
         "name": "DFX (Ethereum)",
         "showlegend": true,
         "type": "scattergeo"
        },
        {
         "customdata": [
          [
           350380.67,
           "https://sigen.pro"
          ]
         ],
         "geo": "geo",
         "hovertemplate": "<b>%{hovertext}</b><br><br>name=SIGEN.pro<br>location=%{location}<br>1d.volume=%{customdata[0]}<br>website_url=%{customdata[1]}<extra></extra>",
         "hovertext": [
          "GBR"
         ],
         "legendgroup": "SIGEN.pro",
         "locations": [
          "GBR"
         ],
         "marker": {
          "color": "#ab63fa",
          "opacity": 0.8,
          "symbol": "circle"
         },
         "mode": "markers",
         "name": "SIGEN.pro",
         "showlegend": true,
         "type": "scattergeo"
        },
        {
         "customdata": [
          [
           344192,
           "https://sushi.com"
          ]
         ],
         "geo": "geo",
         "hovertemplate": "<b>%{hovertext}</b><br><br>name=SushiSwap (xDai)<br>location=%{location}<br>1d.volume=%{customdata[0]}<br>website_url=%{customdata[1]}<extra></extra>",
         "hovertext": [
          "nan"
         ],
         "legendgroup": "SushiSwap (xDai)",
         "locations": [
          "nan"
         ],
         "marker": {
          "color": "#FFA15A",
          "opacity": 0.8,
          "symbol": "circle"
         },
         "mode": "markers",
         "name": "SushiSwap (xDai)",
         "showlegend": true,
         "type": "scattergeo"
        },
        {
         "customdata": [
          [
           221507.19,
           "https://honeyswap.org/"
          ]
         ],
         "geo": "geo",
         "hovertemplate": "<b>%{hovertext}</b><br><br>name=Honeyswap (xDai)<br>location=%{location}<br>1d.volume=%{customdata[0]}<br>website_url=%{customdata[1]}<extra></extra>",
         "hovertext": [
          "nan"
         ],
         "legendgroup": "Honeyswap (xDai)",
         "locations": [
          "nan"
         ],
         "marker": {
          "color": "#19d3f3",
          "opacity": 0.8,
          "symbol": "circle"
         },
         "mode": "markers",
         "name": "Honeyswap (xDai)",
         "showlegend": true,
         "type": "scattergeo"
        },
        {
         "customdata": [
          [
           219906.85,
           "https://polygon.jetswap.finance"
          ]
         ],
         "geo": "geo",
         "hovertemplate": "<b>%{hovertext}</b><br><br>name=JetSwap (Polygon)<br>location=%{location}<br>1d.volume=%{customdata[0]}<br>website_url=%{customdata[1]}<extra></extra>",
         "hovertext": [
          "nan"
         ],
         "legendgroup": "JetSwap (Polygon)",
         "locations": [
          "nan"
         ],
         "marker": {
          "color": "#FF6692",
          "opacity": 0.8,
          "symbol": "circle"
         },
         "mode": "markers",
         "name": "JetSwap (Polygon)",
         "showlegend": true,
         "type": "scattergeo"
        },
        {
         "customdata": [
          [
           185931.08,
           "https://sushi.com"
          ]
         ],
         "geo": "geo",
         "hovertemplate": "<b>%{hovertext}</b><br><br>name=SushiSwap (BSC)<br>location=%{location}<br>1d.volume=%{customdata[0]}<br>website_url=%{customdata[1]}<extra></extra>",
         "hovertext": [
          "nan"
         ],
         "legendgroup": "SushiSwap (BSC)",
         "locations": [
          "nan"
         ],
         "marker": {
          "color": "#B6E880",
          "opacity": 0.8,
          "symbol": "circle"
         },
         "mode": "markers",
         "name": "SushiSwap (BSC)",
         "showlegend": true,
         "type": "scattergeo"
        },
        {
         "customdata": [
          [
           168097.71,
           "https://www.dfyn.network"
          ]
         ],
         "geo": "geo",
         "hovertemplate": "<b>%{hovertext}</b><br><br>name=Dfyn (Fantom)<br>location=%{location}<br>1d.volume=%{customdata[0]}<br>website_url=%{customdata[1]}<extra></extra>",
         "hovertext": [
          "nan"
         ],
         "legendgroup": "Dfyn (Fantom)",
         "locations": [
          "nan"
         ],
         "marker": {
          "color": "#FF97FF",
          "opacity": 0.8,
          "symbol": "circle"
         },
         "mode": "markers",
         "name": "Dfyn (Fantom)",
         "showlegend": true,
         "type": "scattergeo"
        },
        {
         "customdata": [
          [
           156870.06,
           "https://jetswap.finance"
          ]
         ],
         "geo": "geo",
         "hovertemplate": "<b>%{hovertext}</b><br><br>name=JetSwap (BSC)<br>location=%{location}<br>1d.volume=%{customdata[0]}<br>website_url=%{customdata[1]}<extra></extra>",
         "hovertext": [
          "nan"
         ],
         "legendgroup": "JetSwap (BSC)",
         "locations": [
          "nan"
         ],
         "marker": {
          "color": "#FECB52",
          "opacity": 0.8,
          "symbol": "circle"
         },
         "mode": "markers",
         "name": "JetSwap (BSC)",
         "showlegend": true,
         "type": "scattergeo"
        },
        {
         "customdata": [
          [
           134624.93,
           "https://wault.finance"
          ]
         ],
         "geo": "geo",
         "hovertemplate": "<b>%{hovertext}</b><br><br>name=WaultSwap (BSC)<br>location=%{location}<br>1d.volume=%{customdata[0]}<br>website_url=%{customdata[1]}<extra></extra>",
         "hovertext": [
          "nan"
         ],
         "legendgroup": "WaultSwap (BSC)",
         "locations": [
          "nan"
         ],
         "marker": {
          "color": "#636efa",
          "opacity": 0.8,
          "symbol": "circle"
         },
         "mode": "markers",
         "name": "WaultSwap (BSC)",
         "showlegend": true,
         "type": "scattergeo"
        },
        {
         "customdata": [
          [
           127536.31,
           "https://sushi.com"
          ]
         ],
         "geo": "geo",
         "hovertemplate": "<b>%{hovertext}</b><br><br>name=SushiSwap (Celo)<br>location=%{location}<br>1d.volume=%{customdata[0]}<br>website_url=%{customdata[1]}<extra></extra>",
         "hovertext": [
          "nan"
         ],
         "legendgroup": "SushiSwap (Celo)",
         "locations": [
          "nan"
         ],
         "marker": {
          "color": "#EF553B",
          "opacity": 0.8,
          "symbol": "circle"
         },
         "mode": "markers",
         "name": "SushiSwap (Celo)",
         "showlegend": true,
         "type": "scattergeo"
        },
        {
         "customdata": [
          [
           126160.23,
           "https://kuswap.finance/"
          ]
         ],
         "geo": "geo",
         "hovertemplate": "<b>%{hovertext}</b><br><br>name=KuSwap<br>location=%{location}<br>1d.volume=%{customdata[0]}<br>website_url=%{customdata[1]}<extra></extra>",
         "hovertext": [
          "nan"
         ],
         "legendgroup": "KuSwap",
         "locations": [
          "nan"
         ],
         "marker": {
          "color": "#00cc96",
          "opacity": 0.8,
          "symbol": "circle"
         },
         "mode": "markers",
         "name": "KuSwap",
         "showlegend": true,
         "type": "scattergeo"
        },
        {
         "customdata": [
          [
           124260.75,
           "https://polycat.finance"
          ]
         ],
         "geo": "geo",
         "hovertemplate": "<b>%{hovertext}</b><br><br>name=Polycat<br>location=%{location}<br>1d.volume=%{customdata[0]}<br>website_url=%{customdata[1]}<extra></extra>",
         "hovertext": [
          "nan"
         ],
         "legendgroup": "Polycat",
         "locations": [
          "nan"
         ],
         "marker": {
          "color": "#ab63fa",
          "opacity": 0.8,
          "symbol": "circle"
         },
         "mode": "markers",
         "name": "Polycat",
         "showlegend": true,
         "type": "scattergeo"
        },
        {
         "customdata": [
          [
           101382.38,
           "https://app.defiplaza.net"
          ]
         ],
         "geo": "geo",
         "hovertemplate": "<b>%{hovertext}</b><br><br>name=DefiPlaza<br>location=%{location}<br>1d.volume=%{customdata[0]}<br>website_url=%{customdata[1]}<extra></extra>",
         "hovertext": [
          "NLD"
         ],
         "legendgroup": "DefiPlaza",
         "locations": [
          "NLD"
         ],
         "marker": {
          "color": "#FFA15A",
          "opacity": 0.8,
          "symbol": "circle"
         },
         "mode": "markers",
         "name": "DefiPlaza",
         "showlegend": true,
         "type": "scattergeo"
        },
        {
         "customdata": [
          [
           77473.47,
           "https://blocktrade.com/"
          ]
         ],
         "geo": "geo",
         "hovertemplate": "<b>%{hovertext}</b><br><br>name=Blocktrade<br>location=%{location}<br>1d.volume=%{customdata[0]}<br>website_url=%{customdata[1]}<extra></extra>",
         "hovertext": [
          "LUX"
         ],
         "legendgroup": "Blocktrade",
         "locations": [
          "LUX"
         ],
         "marker": {
          "color": "#19d3f3",
          "opacity": 0.8,
          "symbol": "circle"
         },
         "mode": "markers",
         "name": "Blocktrade",
         "showlegend": true,
         "type": "scattergeo"
        },
        {
         "customdata": [
          [
           70941.18,
           "https://yetiswap.app"
          ]
         ],
         "geo": "geo",
         "hovertemplate": "<b>%{hovertext}</b><br><br>name=YetiSwap<br>location=%{location}<br>1d.volume=%{customdata[0]}<br>website_url=%{customdata[1]}<extra></extra>",
         "hovertext": [
          "nan"
         ],
         "legendgroup": "YetiSwap",
         "locations": [
          "nan"
         ],
         "marker": {
          "color": "#FF6692",
          "opacity": 0.8,
          "symbol": "circle"
         },
         "mode": "markers",
         "name": "YetiSwap",
         "showlegend": true,
         "type": "scattergeo"
        },
        {
         "customdata": [
          [
           67831.65,
           "https://www.latteswap.com/"
          ]
         ],
         "geo": "geo",
         "hovertemplate": "<b>%{hovertext}</b><br><br>name=LatteSwap<br>location=%{location}<br>1d.volume=%{customdata[0]}<br>website_url=%{customdata[1]}<extra></extra>",
         "hovertext": [
          "nan"
         ],
         "legendgroup": "LatteSwap",
         "locations": [
          "nan"
         ],
         "marker": {
          "color": "#B6E880",
          "opacity": 0.8,
          "symbol": "circle"
         },
         "mode": "markers",
         "name": "LatteSwap",
         "showlegend": true,
         "type": "scattergeo"
        },
        {
         "customdata": [
          [
           54787.22,
           "https://1inch.io"
          ]
         ],
         "geo": "geo",
         "hovertemplate": "<b>%{hovertext}</b><br><br>name=1inch V2 (BSC)<br>location=%{location}<br>1d.volume=%{customdata[0]}<br>website_url=%{customdata[1]}<extra></extra>",
         "hovertext": [
          "nan"
         ],
         "legendgroup": "1inch V2 (BSC)",
         "locations": [
          "nan"
         ],
         "marker": {
          "color": "#FF97FF",
          "opacity": 0.8,
          "symbol": "circle"
         },
         "mode": "markers",
         "name": "1inch V2 (BSC)",
         "showlegend": true,
         "type": "scattergeo"
        },
        {
         "customdata": [
          [
           52184.65,
           "https://www.namebase.io"
          ]
         ],
         "geo": "geo",
         "hovertemplate": "<b>%{hovertext}</b><br><br>name=Namebase<br>location=%{location}<br>1d.volume=%{customdata[0]}<br>website_url=%{customdata[1]}<extra></extra>",
         "hovertext": [
          "USA"
         ],
         "legendgroup": "Namebase",
         "locations": [
          "USA"
         ],
         "marker": {
          "color": "#FECB52",
          "opacity": 0.8,
          "symbol": "circle"
         },
         "mode": "markers",
         "name": "Namebase",
         "showlegend": true,
         "type": "scattergeo"
        },
        {
         "customdata": [
          [
           38718.21,
           "https://fantom.jetswap.finance"
          ]
         ],
         "geo": "geo",
         "hovertemplate": "<b>%{hovertext}</b><br><br>name=JetSwap (Fantom)<br>location=%{location}<br>1d.volume=%{customdata[0]}<br>website_url=%{customdata[1]}<extra></extra>",
         "hovertext": [
          "nan"
         ],
         "legendgroup": "JetSwap (Fantom)",
         "locations": [
          "nan"
         ],
         "marker": {
          "color": "#636efa",
          "opacity": 0.8,
          "symbol": "circle"
         },
         "mode": "markers",
         "name": "JetSwap (Fantom)",
         "showlegend": true,
         "type": "scattergeo"
        },
        {
         "customdata": [
          [
           36605.74,
           "https://padswap.exchange"
          ]
         ],
         "geo": "geo",
         "hovertemplate": "<b>%{hovertext}</b><br><br>name=PadSwap<br>location=%{location}<br>1d.volume=%{customdata[0]}<br>website_url=%{customdata[1]}<extra></extra>",
         "hovertext": [
          "nan"
         ],
         "legendgroup": "PadSwap",
         "locations": [
          "nan"
         ],
         "marker": {
          "color": "#EF553B",
          "opacity": 0.8,
          "symbol": "circle"
         },
         "mode": "markers",
         "name": "PadSwap",
         "showlegend": true,
         "type": "scattergeo"
        },
        {
         "customdata": [
          [
           34334.45,
           "https://wault.finance"
          ]
         ],
         "geo": "geo",
         "hovertemplate": "<b>%{hovertext}</b><br><br>name=WaultSwap (Polygon)<br>location=%{location}<br>1d.volume=%{customdata[0]}<br>website_url=%{customdata[1]}<extra></extra>",
         "hovertext": [
          "nan"
         ],
         "legendgroup": "WaultSwap (Polygon)",
         "locations": [
          "nan"
         ],
         "marker": {
          "color": "#00cc96",
          "opacity": 0.8,
          "symbol": "circle"
         },
         "mode": "markers",
         "name": "WaultSwap (Polygon)",
         "showlegend": true,
         "type": "scattergeo"
        },
        {
         "customdata": [
          [
           29994.55,
           "https://zebitex.com"
          ]
         ],
         "geo": "geo",
         "hovertemplate": "<b>%{hovertext}</b><br><br>name=ZEBITEX<br>location=%{location}<br>1d.volume=%{customdata[0]}<br>website_url=%{customdata[1]}<extra></extra>",
         "hovertext": [
          "FRA"
         ],
         "legendgroup": "ZEBITEX",
         "locations": [
          "FRA"
         ],
         "marker": {
          "color": "#ab63fa",
          "opacity": 0.8,
          "symbol": "circle"
         },
         "mode": "markers",
         "name": "ZEBITEX",
         "showlegend": true,
         "type": "scattergeo"
        },
        {
         "customdata": [
          [
           17808.06,
           "https://crodex.app"
          ]
         ],
         "geo": "geo",
         "hovertemplate": "<b>%{hovertext}</b><br><br>name=Crodex<br>location=%{location}<br>1d.volume=%{customdata[0]}<br>website_url=%{customdata[1]}<extra></extra>",
         "hovertext": [
          "nan"
         ],
         "legendgroup": "Crodex",
         "locations": [
          "nan"
         ],
         "marker": {
          "color": "#FFA15A",
          "opacity": 0.8,
          "symbol": "circle"
         },
         "mode": "markers",
         "name": "Crodex",
         "showlegend": true,
         "type": "scattergeo"
        },
        {
         "customdata": [
          [
           12952.09,
           "https://www.empiredex.org"
          ]
         ],
         "geo": "geo",
         "hovertemplate": "<b>%{hovertext}</b><br><br>name=Empire DEX (BSC)<br>location=%{location}<br>1d.volume=%{customdata[0]}<br>website_url=%{customdata[1]}<extra></extra>",
         "hovertext": [
          "nan"
         ],
         "legendgroup": "Empire DEX (BSC)",
         "locations": [
          "nan"
         ],
         "marker": {
          "color": "#19d3f3",
          "opacity": 0.8,
          "symbol": "circle"
         },
         "mode": "markers",
         "name": "Empire DEX (BSC)",
         "showlegend": true,
         "type": "scattergeo"
        },
        {
         "customdata": [
          [
           11062.43,
           "https://qtrade.io"
          ]
         ],
         "geo": "geo",
         "hovertemplate": "<b>%{hovertext}</b><br><br>name=qTrade<br>location=%{location}<br>1d.volume=%{customdata[0]}<br>website_url=%{customdata[1]}<extra></extra>",
         "hovertext": [
          "USA"
         ],
         "legendgroup": "qTrade",
         "locations": [
          "USA"
         ],
         "marker": {
          "color": "#FF6692",
          "opacity": 0.8,
          "symbol": "circle"
         },
         "mode": "markers",
         "name": "qTrade",
         "showlegend": true,
         "type": "scattergeo"
        },
        {
         "customdata": [
          [
           6530.57,
           "https://levinswap.org"
          ]
         ],
         "geo": "geo",
         "hovertemplate": "<b>%{hovertext}</b><br><br>name=Levinswap<br>location=%{location}<br>1d.volume=%{customdata[0]}<br>website_url=%{customdata[1]}<extra></extra>",
         "hovertext": [
          "nan"
         ],
         "legendgroup": "Levinswap",
         "locations": [
          "nan"
         ],
         "marker": {
          "color": "#B6E880",
          "opacity": 0.8,
          "symbol": "circle"
         },
         "mode": "markers",
         "name": "Levinswap",
         "showlegend": true,
         "type": "scattergeo"
        },
        {
         "customdata": [
          [
           5209.1,
           "https://baguette.exchange"
          ]
         ],
         "geo": "geo",
         "hovertemplate": "<b>%{hovertext}</b><br><br>name=Baguette<br>location=%{location}<br>1d.volume=%{customdata[0]}<br>website_url=%{customdata[1]}<extra></extra>",
         "hovertext": [
          "nan"
         ],
         "legendgroup": "Baguette",
         "locations": [
          "nan"
         ],
         "marker": {
          "color": "#FF97FF",
          "opacity": 0.8,
          "symbol": "circle"
         },
         "mode": "markers",
         "name": "Baguette",
         "showlegend": true,
         "type": "scattergeo"
        },
        {
         "customdata": [
          [
           4347.6,
           "https://honeyswap.org/"
          ]
         ],
         "geo": "geo",
         "hovertemplate": "<b>%{hovertext}</b><br><br>name=Honeyswap (Polygon)<br>location=%{location}<br>1d.volume=%{customdata[0]}<br>website_url=%{customdata[1]}<extra></extra>",
         "hovertext": [
          "nan"
         ],
         "legendgroup": "Honeyswap (Polygon)",
         "locations": [
          "nan"
         ],
         "marker": {
          "color": "#FECB52",
          "opacity": 0.8,
          "symbol": "circle"
         },
         "mode": "markers",
         "name": "Honeyswap (Polygon)",
         "showlegend": true,
         "type": "scattergeo"
        }
       ],
       "layout": {
        "autosize": true,
        "geo": {
         "center": {},
         "domain": {
          "x": [
           0,
           1
          ],
          "y": [
           0,
           1
          ]
         },
         "projection": {
          "type": "orthographic"
         }
        },
        "legend": {
         "title": {
          "text": "name"
         },
         "tracegroupgap": 0
        },
        "margin": {
         "t": 60
        },
        "template": {
         "data": {
          "bar": [
           {
            "error_x": {
             "color": "#2a3f5f"
            },
            "error_y": {
             "color": "#2a3f5f"
            },
            "marker": {
             "line": {
              "color": "#E5ECF6",
              "width": 0.5
             },
             "pattern": {
              "fillmode": "overlay",
              "size": 10,
              "solidity": 0.2
             }
            },
            "type": "bar"
           }
          ],
          "barpolar": [
           {
            "marker": {
             "line": {
              "color": "#E5ECF6",
              "width": 0.5
             },
             "pattern": {
              "fillmode": "overlay",
              "size": 10,
              "solidity": 0.2
             }
            },
            "type": "barpolar"
           }
          ],
          "carpet": [
           {
            "aaxis": {
             "endlinecolor": "#2a3f5f",
             "gridcolor": "white",
             "linecolor": "white",
             "minorgridcolor": "white",
             "startlinecolor": "#2a3f5f"
            },
            "baxis": {
             "endlinecolor": "#2a3f5f",
             "gridcolor": "white",
             "linecolor": "white",
             "minorgridcolor": "white",
             "startlinecolor": "#2a3f5f"
            },
            "type": "carpet"
           }
          ],
          "choropleth": [
           {
            "colorbar": {
             "outlinewidth": 0,
             "ticks": ""
            },
            "type": "choropleth"
           }
          ],
          "contour": [
           {
            "colorbar": {
             "outlinewidth": 0,
             "ticks": ""
            },
            "colorscale": [
             [
              0,
              "#0d0887"
             ],
             [
              0.1111111111111111,
              "#46039f"
             ],
             [
              0.2222222222222222,
              "#7201a8"
             ],
             [
              0.3333333333333333,
              "#9c179e"
             ],
             [
              0.4444444444444444,
              "#bd3786"
             ],
             [
              0.5555555555555556,
              "#d8576b"
             ],
             [
              0.6666666666666666,
              "#ed7953"
             ],
             [
              0.7777777777777778,
              "#fb9f3a"
             ],
             [
              0.8888888888888888,
              "#fdca26"
             ],
             [
              1,
              "#f0f921"
             ]
            ],
            "type": "contour"
           }
          ],
          "contourcarpet": [
           {
            "colorbar": {
             "outlinewidth": 0,
             "ticks": ""
            },
            "type": "contourcarpet"
           }
          ],
          "heatmap": [
           {
            "colorbar": {
             "outlinewidth": 0,
             "ticks": ""
            },
            "colorscale": [
             [
              0,
              "#0d0887"
             ],
             [
              0.1111111111111111,
              "#46039f"
             ],
             [
              0.2222222222222222,
              "#7201a8"
             ],
             [
              0.3333333333333333,
              "#9c179e"
             ],
             [
              0.4444444444444444,
              "#bd3786"
             ],
             [
              0.5555555555555556,
              "#d8576b"
             ],
             [
              0.6666666666666666,
              "#ed7953"
             ],
             [
              0.7777777777777778,
              "#fb9f3a"
             ],
             [
              0.8888888888888888,
              "#fdca26"
             ],
             [
              1,
              "#f0f921"
             ]
            ],
            "type": "heatmap"
           }
          ],
          "heatmapgl": [
           {
            "colorbar": {
             "outlinewidth": 0,
             "ticks": ""
            },
            "colorscale": [
             [
              0,
              "#0d0887"
             ],
             [
              0.1111111111111111,
              "#46039f"
             ],
             [
              0.2222222222222222,
              "#7201a8"
             ],
             [
              0.3333333333333333,
              "#9c179e"
             ],
             [
              0.4444444444444444,
              "#bd3786"
             ],
             [
              0.5555555555555556,
              "#d8576b"
             ],
             [
              0.6666666666666666,
              "#ed7953"
             ],
             [
              0.7777777777777778,
              "#fb9f3a"
             ],
             [
              0.8888888888888888,
              "#fdca26"
             ],
             [
              1,
              "#f0f921"
             ]
            ],
            "type": "heatmapgl"
           }
          ],
          "histogram": [
           {
            "marker": {
             "pattern": {
              "fillmode": "overlay",
              "size": 10,
              "solidity": 0.2
             }
            },
            "type": "histogram"
           }
          ],
          "histogram2d": [
           {
            "colorbar": {
             "outlinewidth": 0,
             "ticks": ""
            },
            "colorscale": [
             [
              0,
              "#0d0887"
             ],
             [
              0.1111111111111111,
              "#46039f"
             ],
             [
              0.2222222222222222,
              "#7201a8"
             ],
             [
              0.3333333333333333,
              "#9c179e"
             ],
             [
              0.4444444444444444,
              "#bd3786"
             ],
             [
              0.5555555555555556,
              "#d8576b"
             ],
             [
              0.6666666666666666,
              "#ed7953"
             ],
             [
              0.7777777777777778,
              "#fb9f3a"
             ],
             [
              0.8888888888888888,
              "#fdca26"
             ],
             [
              1,
              "#f0f921"
             ]
            ],
            "type": "histogram2d"
           }
          ],
          "histogram2dcontour": [
           {
            "colorbar": {
             "outlinewidth": 0,
             "ticks": ""
            },
            "colorscale": [
             [
              0,
              "#0d0887"
             ],
             [
              0.1111111111111111,
              "#46039f"
             ],
             [
              0.2222222222222222,
              "#7201a8"
             ],
             [
              0.3333333333333333,
              "#9c179e"
             ],
             [
              0.4444444444444444,
              "#bd3786"
             ],
             [
              0.5555555555555556,
              "#d8576b"
             ],
             [
              0.6666666666666666,
              "#ed7953"
             ],
             [
              0.7777777777777778,
              "#fb9f3a"
             ],
             [
              0.8888888888888888,
              "#fdca26"
             ],
             [
              1,
              "#f0f921"
             ]
            ],
            "type": "histogram2dcontour"
           }
          ],
          "mesh3d": [
           {
            "colorbar": {
             "outlinewidth": 0,
             "ticks": ""
            },
            "type": "mesh3d"
           }
          ],
          "parcoords": [
           {
            "line": {
             "colorbar": {
              "outlinewidth": 0,
              "ticks": ""
             }
            },
            "type": "parcoords"
           }
          ],
          "pie": [
           {
            "automargin": true,
            "type": "pie"
           }
          ],
          "scatter": [
           {
            "marker": {
             "colorbar": {
              "outlinewidth": 0,
              "ticks": ""
             }
            },
            "type": "scatter"
           }
          ],
          "scatter3d": [
           {
            "line": {
             "colorbar": {
              "outlinewidth": 0,
              "ticks": ""
             }
            },
            "marker": {
             "colorbar": {
              "outlinewidth": 0,
              "ticks": ""
             }
            },
            "type": "scatter3d"
           }
          ],
          "scattercarpet": [
           {
            "marker": {
             "colorbar": {
              "outlinewidth": 0,
              "ticks": ""
             }
            },
            "type": "scattercarpet"
           }
          ],
          "scattergeo": [
           {
            "marker": {
             "colorbar": {
              "outlinewidth": 0,
              "ticks": ""
             }
            },
            "type": "scattergeo"
           }
          ],
          "scattergl": [
           {
            "marker": {
             "colorbar": {
              "outlinewidth": 0,
              "ticks": ""
             }
            },
            "type": "scattergl"
           }
          ],
          "scattermapbox": [
           {
            "marker": {
             "colorbar": {
              "outlinewidth": 0,
              "ticks": ""
             }
            },
            "type": "scattermapbox"
           }
          ],
          "scatterpolar": [
           {
            "marker": {
             "colorbar": {
              "outlinewidth": 0,
              "ticks": ""
             }
            },
            "type": "scatterpolar"
           }
          ],
          "scatterpolargl": [
           {
            "marker": {
             "colorbar": {
              "outlinewidth": 0,
              "ticks": ""
             }
            },
            "type": "scatterpolargl"
           }
          ],
          "scatterternary": [
           {
            "marker": {
             "colorbar": {
              "outlinewidth": 0,
              "ticks": ""
             }
            },
            "type": "scatterternary"
           }
          ],
          "surface": [
           {
            "colorbar": {
             "outlinewidth": 0,
             "ticks": ""
            },
            "colorscale": [
             [
              0,
              "#0d0887"
             ],
             [
              0.1111111111111111,
              "#46039f"
             ],
             [
              0.2222222222222222,
              "#7201a8"
             ],
             [
              0.3333333333333333,
              "#9c179e"
             ],
             [
              0.4444444444444444,
              "#bd3786"
             ],
             [
              0.5555555555555556,
              "#d8576b"
             ],
             [
              0.6666666666666666,
              "#ed7953"
             ],
             [
              0.7777777777777778,
              "#fb9f3a"
             ],
             [
              0.8888888888888888,
              "#fdca26"
             ],
             [
              1,
              "#f0f921"
             ]
            ],
            "type": "surface"
           }
          ],
          "table": [
           {
            "cells": {
             "fill": {
              "color": "#EBF0F8"
             },
             "line": {
              "color": "white"
             }
            },
            "header": {
             "fill": {
              "color": "#C8D4E3"
             },
             "line": {
              "color": "white"
             }
            },
            "type": "table"
           }
          ]
         },
         "layout": {
          "annotationdefaults": {
           "arrowcolor": "#2a3f5f",
           "arrowhead": 0,
           "arrowwidth": 1
          },
          "autotypenumbers": "strict",
          "coloraxis": {
           "colorbar": {
            "outlinewidth": 0,
            "ticks": ""
           }
          },
          "colorscale": {
           "diverging": [
            [
             0,
             "#8e0152"
            ],
            [
             0.1,
             "#c51b7d"
            ],
            [
             0.2,
             "#de77ae"
            ],
            [
             0.3,
             "#f1b6da"
            ],
            [
             0.4,
             "#fde0ef"
            ],
            [
             0.5,
             "#f7f7f7"
            ],
            [
             0.6,
             "#e6f5d0"
            ],
            [
             0.7,
             "#b8e186"
            ],
            [
             0.8,
             "#7fbc41"
            ],
            [
             0.9,
             "#4d9221"
            ],
            [
             1,
             "#276419"
            ]
           ],
           "sequential": [
            [
             0,
             "#0d0887"
            ],
            [
             0.1111111111111111,
             "#46039f"
            ],
            [
             0.2222222222222222,
             "#7201a8"
            ],
            [
             0.3333333333333333,
             "#9c179e"
            ],
            [
             0.4444444444444444,
             "#bd3786"
            ],
            [
             0.5555555555555556,
             "#d8576b"
            ],
            [
             0.6666666666666666,
             "#ed7953"
            ],
            [
             0.7777777777777778,
             "#fb9f3a"
            ],
            [
             0.8888888888888888,
             "#fdca26"
            ],
            [
             1,
             "#f0f921"
            ]
           ],
           "sequentialminus": [
            [
             0,
             "#0d0887"
            ],
            [
             0.1111111111111111,
             "#46039f"
            ],
            [
             0.2222222222222222,
             "#7201a8"
            ],
            [
             0.3333333333333333,
             "#9c179e"
            ],
            [
             0.4444444444444444,
             "#bd3786"
            ],
            [
             0.5555555555555556,
             "#d8576b"
            ],
            [
             0.6666666666666666,
             "#ed7953"
            ],
            [
             0.7777777777777778,
             "#fb9f3a"
            ],
            [
             0.8888888888888888,
             "#fdca26"
            ],
            [
             1,
             "#f0f921"
            ]
           ]
          },
          "colorway": [
           "#636efa",
           "#EF553B",
           "#00cc96",
           "#ab63fa",
           "#FFA15A",
           "#19d3f3",
           "#FF6692",
           "#B6E880",
           "#FF97FF",
           "#FECB52"
          ],
          "font": {
           "color": "#2a3f5f"
          },
          "geo": {
           "bgcolor": "white",
           "lakecolor": "white",
           "landcolor": "#E5ECF6",
           "showlakes": true,
           "showland": true,
           "subunitcolor": "white"
          },
          "hoverlabel": {
           "align": "left"
          },
          "hovermode": "closest",
          "mapbox": {
           "style": "light"
          },
          "paper_bgcolor": "white",
          "plot_bgcolor": "#E5ECF6",
          "polar": {
           "angularaxis": {
            "gridcolor": "white",
            "linecolor": "white",
            "ticks": ""
           },
           "bgcolor": "#E5ECF6",
           "radialaxis": {
            "gridcolor": "white",
            "linecolor": "white",
            "ticks": ""
           }
          },
          "scene": {
           "xaxis": {
            "backgroundcolor": "#E5ECF6",
            "gridcolor": "white",
            "gridwidth": 2,
            "linecolor": "white",
            "showbackground": true,
            "ticks": "",
            "zerolinecolor": "white"
           },
           "yaxis": {
            "backgroundcolor": "#E5ECF6",
            "gridcolor": "white",
            "gridwidth": 2,
            "linecolor": "white",
            "showbackground": true,
            "ticks": "",
            "zerolinecolor": "white"
           },
           "zaxis": {
            "backgroundcolor": "#E5ECF6",
            "gridcolor": "white",
            "gridwidth": 2,
            "linecolor": "white",
            "showbackground": true,
            "ticks": "",
            "zerolinecolor": "white"
           }
          },
          "shapedefaults": {
           "line": {
            "color": "#2a3f5f"
           }
          },
          "ternary": {
           "aaxis": {
            "gridcolor": "white",
            "linecolor": "white",
            "ticks": ""
           },
           "baxis": {
            "gridcolor": "white",
            "linecolor": "white",
            "ticks": ""
           },
           "bgcolor": "#E5ECF6",
           "caxis": {
            "gridcolor": "white",
            "linecolor": "white",
            "ticks": ""
           }
          },
          "title": {
           "x": 0.05
          },
          "xaxis": {
           "automargin": true,
           "gridcolor": "white",
           "linecolor": "white",
           "ticks": "",
           "title": {
            "standoff": 15
           },
           "zerolinecolor": "white",
           "zerolinewidth": 2
          },
          "yaxis": {
           "automargin": true,
           "gridcolor": "white",
           "linecolor": "white",
           "ticks": "",
           "title": {
            "standoff": 15
           },
           "zerolinecolor": "white",
           "zerolinewidth": 2
          }
         }
        }
       }
      },
      "image/png": "[encoded data removed]",
      "text/html": [
       "<div>                            <div id=\"fad269ce-f873-45b3-a2c1-7352294678e4\" class=\"plotly-graph-div\" style=\"height:525px; width:100%;\"></div>            <script type=\"text/javascript\">                require([\"plotly\"], function(Plotly) {                    window.PLOTLYENV=window.PLOTLYENV || {};                                    if (document.getElementById(\"fad269ce-f873-45b3-a2c1-7352294678e4\")) {                    Plotly.newPlot(                        \"fad269ce-f873-45b3-a2c1-7352294678e4\",                        [{\"customdata\":[[34968897971.17,\"https://www.binance.com/\"]],\"geo\":\"geo\",\"hovertemplate\":\"<b>%{hovertext}</b><br><br>name=Binance<br>location=%{location}<br>1d.volume=%{customdata[0]}<br>website_url=%{customdata[1]}<extra></extra>\",\"hovertext\":[\"MLT\"],\"legendgroup\":\"Binance\",\"locations\":[\"MLT\"],\"marker\":{\"color\":\"#636efa\",\"opacity\":0.8,\"symbol\":\"circle\"},\"mode\":\"markers\",\"name\":\"Binance\",\"showlegend\":true,\"type\":\"scattergeo\"},{\"customdata\":[[17812959622.72,\"https://ftx.com/\"]],\"geo\":\"geo\",\"hovertemplate\":\"<b>%{hovertext}</b><br><br>name=FTX<br>location=%{location}<br>1d.volume=%{customdata[0]}<br>website_url=%{customdata[1]}<extra></extra>\",\"hovertext\":[\"ATG\"],\"legendgroup\":\"FTX\",\"locations\":[\"ATG\"],\"marker\":{\"color\":\"#EF553B\",\"opacity\":0.8,\"symbol\":\"circle\"},\"mode\":\"markers\",\"name\":\"FTX\",\"showlegend\":true,\"type\":\"scattergeo\"},{\"customdata\":[[3133990568.9,\"https://www.cryptomkt.com/\"]],\"geo\":\"geo\",\"hovertemplate\":\"<b>%{hovertext}</b><br><br>name=CryptoMarket<br>location=%{location}<br>1d.volume=%{customdata[0]}<br>website_url=%{customdata[1]}<extra></extra>\",\"hovertext\":[\"CHL\"],\"legendgroup\":\"CryptoMarket\",\"locations\":[\"CHL\"],\"marker\":{\"color\":\"#00cc96\",\"opacity\":0.8,\"symbol\":\"circle\"},\"mode\":\"markers\",\"name\":\"CryptoMarket\",\"showlegend\":true,\"type\":\"scattergeo\"},{\"customdata\":[[3075137778.04,\"https://www.coinbase.com/\"]],\"geo\":\"geo\",\"hovertemplate\":\"<b>%{hovertext}</b><br><br>name=Coinbase Exchange<br>location=%{location}<br>1d.volume=%{customdata[0]}<br>website_url=%{customdata[1]}<extra></extra>\",\"hovertext\":[\"USA\"],\"legendgroup\":\"Coinbase Exchange\",\"locations\":[\"USA\"],\"marker\":{\"color\":\"#ab63fa\",\"opacity\":0.8,\"symbol\":\"circle\"},\"mode\":\"markers\",\"name\":\"Coinbase Exchange\",\"showlegend\":true,\"type\":\"scattergeo\"},{\"customdata\":[[1675489178.0,\"https://uniswap.org\"]],\"geo\":\"geo\",\"hovertemplate\":\"<b>%{hovertext}</b><br><br>name=Uniswap V3 (Ethereum)<br>location=%{location}<br>1d.volume=%{customdata[0]}<br>website_url=%{customdata[1]}<extra></extra>\",\"hovertext\":[\"USA\"],\"legendgroup\":\"Uniswap V3 (Ethereum)\",\"locations\":[\"USA\"],\"marker\":{\"color\":\"#FFA15A\",\"opacity\":0.8,\"symbol\":\"circle\"},\"mode\":\"markers\",\"name\":\"Uniswap V3 (Ethereum)\",\"showlegend\":true,\"type\":\"scattergeo\"},{\"customdata\":[[1096211749.78,\"https://www.gate.io/\"]],\"geo\":\"geo\",\"hovertemplate\":\"<b>%{hovertext}</b><br><br>name=Gate.io<br>location=%{location}<br>1d.volume=%{customdata[0]}<br>website_url=%{customdata[1]}<extra></extra>\",\"hovertext\":[\"CYM\"],\"legendgroup\":\"Gate.io\",\"locations\":[\"CYM\"],\"marker\":{\"color\":\"#19d3f3\",\"opacity\":0.8,\"symbol\":\"circle\"},\"mode\":\"markers\",\"name\":\"Gate.io\",\"showlegend\":true,\"type\":\"scattergeo\"},{\"customdata\":[[1074186920.89,\"https://www.bitmex.com/\"]],\"geo\":\"geo\",\"hovertemplate\":\"<b>%{hovertext}</b><br><br>name=Bitmex<br>location=%{location}<br>1d.volume=%{customdata[0]}<br>website_url=%{customdata[1]}<extra></extra>\",\"hovertext\":[\"SYC\"],\"legendgroup\":\"Bitmex\",\"locations\":[\"SYC\"],\"marker\":{\"color\":\"#FF6692\",\"opacity\":0.8,\"symbol\":\"circle\"},\"mode\":\"markers\",\"name\":\"Bitmex\",\"showlegend\":true,\"type\":\"scattergeo\"},{\"customdata\":[[934057841.28,\"https://www.lbank.info/\"]],\"geo\":\"geo\",\"hovertemplate\":\"<b>%{hovertext}</b><br><br>name=Lbank<br>location=%{location}<br>1d.volume=%{customdata[0]}<br>website_url=%{customdata[1]}<extra></extra>\",\"hovertext\":[\"CHN\"],\"legendgroup\":\"Lbank\",\"locations\":[\"CHN\"],\"marker\":{\"color\":\"#B6E880\",\"opacity\":0.8,\"symbol\":\"circle\"},\"mode\":\"markers\",\"name\":\"Lbank\",\"showlegend\":true,\"type\":\"scattergeo\"},{\"customdata\":[[884269444.37,\"https://www.kraken.com/\"]],\"geo\":\"geo\",\"hovertemplate\":\"<b>%{hovertext}</b><br><br>name=Kraken<br>location=%{location}<br>1d.volume=%{customdata[0]}<br>website_url=%{customdata[1]}<extra></extra>\",\"hovertext\":[\"USA\"],\"legendgroup\":\"Kraken\",\"locations\":[\"USA\"],\"marker\":{\"color\":\"#FF97FF\",\"opacity\":0.8,\"symbol\":\"circle\"},\"mode\":\"markers\",\"name\":\"Kraken\",\"showlegend\":true,\"type\":\"scattergeo\"},{\"customdata\":[[874410932.85,\"https://www.deversifi.com/\"]],\"geo\":\"geo\",\"hovertemplate\":\"<b>%{hovertext}</b><br><br>name=DeversiFi<br>location=%{location}<br>1d.volume=%{customdata[0]}<br>website_url=%{customdata[1]}<extra></extra>\",\"hovertext\":[\"VGB\"],\"legendgroup\":\"DeversiFi\",\"locations\":[\"VGB\"],\"marker\":{\"color\":\"#FECB52\",\"opacity\":0.8,\"symbol\":\"circle\"},\"mode\":\"markers\",\"name\":\"DeversiFi\",\"showlegend\":true,\"type\":\"scattergeo\"},{\"customdata\":[[550693361.0,\"https://phemex.com/\"]],\"geo\":\"geo\",\"hovertemplate\":\"<b>%{hovertext}</b><br><br>name=Phemex<br>location=%{location}<br>1d.volume=%{customdata[0]}<br>website_url=%{customdata[1]}<extra></extra>\",\"hovertext\":[\"SGP\"],\"legendgroup\":\"Phemex\",\"locations\":[\"SGP\"],\"marker\":{\"color\":\"#636efa\",\"opacity\":0.8,\"symbol\":\"circle\"},\"mode\":\"markers\",\"name\":\"Phemex\",\"showlegend\":true,\"type\":\"scattergeo\"},{\"customdata\":[[542411074.34,\"https://pancakeswap.finance\"]],\"geo\":\"geo\",\"hovertemplate\":\"<b>%{hovertext}</b><br><br>name=PancakeSwap V2<br>location=%{location}<br>1d.volume=%{customdata[0]}<br>website_url=%{customdata[1]}<extra></extra>\",\"hovertext\":[\"JPN\"],\"legendgroup\":\"PancakeSwap V2\",\"locations\":[\"JPN\"],\"marker\":{\"color\":\"#EF553B\",\"opacity\":0.8,\"symbol\":\"circle\"},\"mode\":\"markers\",\"name\":\"PancakeSwap V2\",\"showlegend\":true,\"type\":\"scattergeo\"},{\"customdata\":[[407672466.13,\"https://bitflyer.com/\"]],\"geo\":\"geo\",\"hovertemplate\":\"<b>%{hovertext}</b><br><br>name=bitFlyer<br>location=%{location}<br>1d.volume=%{customdata[0]}<br>website_url=%{customdata[1]}<extra></extra>\",\"hovertext\":[\"JPN\"],\"legendgroup\":\"bitFlyer\",\"locations\":[\"JPN\"],\"marker\":{\"color\":\"#00cc96\",\"opacity\":0.8,\"symbol\":\"circle\"},\"mode\":\"markers\",\"name\":\"bitFlyer\",\"showlegend\":true,\"type\":\"scattergeo\"},{\"customdata\":[[347787104.13,\"https://curve.fi/\"]],\"geo\":\"geo\",\"hovertemplate\":\"<b>%{hovertext}</b><br><br>name=Curve Finance<br>location=%{location}<br>1d.volume=%{customdata[0]}<br>website_url=%{customdata[1]}<extra></extra>\",\"hovertext\":[\"CHE\"],\"legendgroup\":\"Curve Finance\",\"locations\":[\"CHE\"],\"marker\":{\"color\":\"#ab63fa\",\"opacity\":0.8,\"symbol\":\"circle\"},\"mode\":\"markers\",\"name\":\"Curve Finance\",\"showlegend\":true,\"type\":\"scattergeo\"},{\"customdata\":[[322191888.97,\"https://uniswap.org\"]],\"geo\":\"geo\",\"hovertemplate\":\"<b>%{hovertext}</b><br><br>name=Uniswap V2<br>location=%{location}<br>1d.volume=%{customdata[0]}<br>website_url=%{customdata[1]}<extra></extra>\",\"hovertext\":[\"USA\"],\"legendgroup\":\"Uniswap V2\",\"locations\":[\"USA\"],\"marker\":{\"color\":\"#FFA15A\",\"opacity\":0.8,\"symbol\":\"circle\"},\"mode\":\"markers\",\"name\":\"Uniswap V2\",\"showlegend\":true,\"type\":\"scattergeo\"},{\"customdata\":[[316683135.29,\"https://delta.exchange/\"]],\"geo\":\"geo\",\"hovertemplate\":\"<b>%{hovertext}</b><br><br>name=Delta Exchange<br>location=%{location}<br>1d.volume=%{customdata[0]}<br>website_url=%{customdata[1]}<extra></extra>\",\"hovertext\":[\"SGP\"],\"legendgroup\":\"Delta Exchange\",\"locations\":[\"SGP\"],\"marker\":{\"color\":\"#19d3f3\",\"opacity\":0.8,\"symbol\":\"circle\"},\"mode\":\"markers\",\"name\":\"Delta Exchange\",\"showlegend\":true,\"type\":\"scattergeo\"},{\"customdata\":[[287249100.54,\"https://spookyswap.finance/\"]],\"geo\":\"geo\",\"hovertemplate\":\"<b>%{hovertext}</b><br><br>name=SpookySwap<br>location=%{location}<br>1d.volume=%{customdata[0]}<br>website_url=%{customdata[1]}<extra></extra>\",\"hovertext\":[\"nan\"],\"legendgroup\":\"SpookySwap\",\"locations\":[\"nan\"],\"marker\":{\"color\":\"#FF6692\",\"opacity\":0.8,\"symbol\":\"circle\"},\"mode\":\"markers\",\"name\":\"SpookySwap\",\"showlegend\":true,\"type\":\"scattergeo\"},{\"customdata\":[[215610999.3,\"https://www.bitstamp.net/\"]],\"geo\":\"geo\",\"hovertemplate\":\"<b>%{hovertext}</b><br><br>name=Bitstamp<br>location=%{location}<br>1d.volume=%{customdata[0]}<br>website_url=%{customdata[1]}<extra></extra>\",\"hovertext\":[\"LUX\"],\"legendgroup\":\"Bitstamp\",\"locations\":[\"LUX\"],\"marker\":{\"color\":\"#B6E880\",\"opacity\":0.8,\"symbol\":\"circle\"},\"mode\":\"markers\",\"name\":\"Bitstamp\",\"showlegend\":true,\"type\":\"scattergeo\"},{\"customdata\":[[215446762.25,\"https://www.probit.com\"]],\"geo\":\"geo\",\"hovertemplate\":\"<b>%{hovertext}</b><br><br>name=ProBit<br>location=%{location}<br>1d.volume=%{customdata[0]}<br>website_url=%{customdata[1]}<extra></extra>\",\"hovertext\":[\"SYC\"],\"legendgroup\":\"ProBit\",\"locations\":[\"SYC\"],\"marker\":{\"color\":\"#FF97FF\",\"opacity\":0.8,\"symbol\":\"circle\"},\"mode\":\"markers\",\"name\":\"ProBit\",\"showlegend\":true,\"type\":\"scattergeo\"},{\"customdata\":[[208361597.32,\"https://sushi.com\"]],\"geo\":\"geo\",\"hovertemplate\":\"<b>%{hovertext}</b><br><br>name=SushiSwap (Ethereum)<br>location=%{location}<br>1d.volume=%{customdata[0]}<br>website_url=%{customdata[1]}<extra></extra>\",\"hovertext\":[\"nan\"],\"legendgroup\":\"SushiSwap (Ethereum)\",\"locations\":[\"nan\"],\"marker\":{\"color\":\"#FECB52\",\"opacity\":0.8,\"symbol\":\"circle\"},\"mode\":\"markers\",\"name\":\"SushiSwap (Ethereum)\",\"showlegend\":true,\"type\":\"scattergeo\"},{\"customdata\":[[205626363.51,\"https://www.traderjoexyz.com/\"]],\"geo\":\"geo\",\"hovertemplate\":\"<b>%{hovertext}</b><br><br>name=Trader Joe<br>location=%{location}<br>1d.volume=%{customdata[0]}<br>website_url=%{customdata[1]}<extra></extra>\",\"hovertext\":[\"nan\"],\"legendgroup\":\"Trader Joe\",\"locations\":[\"nan\"],\"marker\":{\"color\":\"#636efa\",\"opacity\":0.8,\"symbol\":\"circle\"},\"mode\":\"markers\",\"name\":\"Trader Joe\",\"showlegend\":true,\"type\":\"scattergeo\"},{\"customdata\":[[189901381.08,\"https://ftx.us/\"]],\"geo\":\"geo\",\"hovertemplate\":\"<b>%{hovertext}</b><br><br>name=FTX.us<br>location=%{location}<br>1d.volume=%{customdata[0]}<br>website_url=%{customdata[1]}<extra></extra>\",\"hovertext\":[\"USA\"],\"legendgroup\":\"FTX.us\",\"locations\":[\"USA\"],\"marker\":{\"color\":\"#EF553B\",\"opacity\":0.8,\"symbol\":\"circle\"},\"mode\":\"markers\",\"name\":\"FTX.us\",\"showlegend\":true,\"type\":\"scattergeo\"},{\"customdata\":[[146675413.9,\"https://www.gemini.com/\"]],\"geo\":\"geo\",\"hovertemplate\":\"<b>%{hovertext}</b><br><br>name=Gemini<br>location=%{location}<br>1d.volume=%{customdata[0]}<br>website_url=%{customdata[1]}<extra></extra>\",\"hovertext\":[\"USA\"],\"legendgroup\":\"Gemini\",\"locations\":[\"USA\"],\"marker\":{\"color\":\"#00cc96\",\"opacity\":0.8,\"symbol\":\"circle\"},\"mode\":\"markers\",\"name\":\"Gemini\",\"showlegend\":true,\"type\":\"scattergeo\"},{\"customdata\":[[95724206.44,\"https://sushi.com\"]],\"geo\":\"geo\",\"hovertemplate\":\"<b>%{hovertext}</b><br><br>name=SushiSwap (Avalanche)<br>location=%{location}<br>1d.volume=%{customdata[0]}<br>website_url=%{customdata[1]}<extra></extra>\",\"hovertext\":[\"nan\"],\"legendgroup\":\"SushiSwap (Avalanche)\",\"locations\":[\"nan\"],\"marker\":{\"color\":\"#ab63fa\",\"opacity\":0.8,\"symbol\":\"circle\"},\"mode\":\"markers\",\"name\":\"SushiSwap (Avalanche)\",\"showlegend\":true,\"type\":\"scattergeo\"},{\"customdata\":[[85151465.42,\"https://www.liquid.com/\"]],\"geo\":\"geo\",\"hovertemplate\":\"<b>%{hovertext}</b><br><br>name=Liquid<br>location=%{location}<br>1d.volume=%{customdata[0]}<br>website_url=%{customdata[1]}<extra></extra>\",\"hovertext\":[\"JPN\"],\"legendgroup\":\"Liquid\",\"locations\":[\"JPN\"],\"marker\":{\"color\":\"#FFA15A\",\"opacity\":0.8,\"symbol\":\"circle\"},\"mode\":\"markers\",\"name\":\"Liquid\",\"showlegend\":true,\"type\":\"scattergeo\"},{\"customdata\":[[75060304.68,\"https://poloniex.com/\"]],\"geo\":\"geo\",\"hovertemplate\":\"<b>%{hovertext}</b><br><br>name=Poloniex<br>location=%{location}<br>1d.volume=%{customdata[0]}<br>website_url=%{customdata[1]}<extra></extra>\",\"hovertext\":[\"USA\"],\"legendgroup\":\"Poloniex\",\"locations\":[\"USA\"],\"marker\":{\"color\":\"#19d3f3\",\"opacity\":0.8,\"symbol\":\"circle\"},\"mode\":\"markers\",\"name\":\"Poloniex\",\"showlegend\":true,\"type\":\"scattergeo\"},{\"customdata\":[[52746059.67,\"https://www.spiritswap.finance\"]],\"geo\":\"geo\",\"hovertemplate\":\"<b>%{hovertext}</b><br><br>name=SpiritSwap<br>location=%{location}<br>1d.volume=%{customdata[0]}<br>website_url=%{customdata[1]}<extra></extra>\",\"hovertext\":[\"nan\"],\"legendgroup\":\"SpiritSwap\",\"locations\":[\"nan\"],\"marker\":{\"color\":\"#FF6692\",\"opacity\":0.8,\"symbol\":\"circle\"},\"mode\":\"markers\",\"name\":\"SpiritSwap\",\"showlegend\":true,\"type\":\"scattergeo\"},{\"customdata\":[[46060475.54,\"https://sushi.com\"]],\"geo\":\"geo\",\"hovertemplate\":\"<b>%{hovertext}</b><br><br>name=SushiSwap (Arbitrum)<br>location=%{location}<br>1d.volume=%{customdata[0]}<br>website_url=%{customdata[1]}<extra></extra>\",\"hovertext\":[\"nan\"],\"legendgroup\":\"SushiSwap (Arbitrum)\",\"locations\":[\"nan\"],\"marker\":{\"color\":\"#B6E880\",\"opacity\":0.8,\"symbol\":\"circle\"},\"mode\":\"markers\",\"name\":\"SushiSwap (Arbitrum)\",\"showlegend\":true,\"type\":\"scattergeo\"},{\"customdata\":[[45440485.87,\"https://uniswap.org\"]],\"geo\":\"geo\",\"hovertemplate\":\"<b>%{hovertext}</b><br><br>name=Uniswap V3 (Polygon)<br>location=%{location}<br>1d.volume=%{customdata[0]}<br>website_url=%{customdata[1]}<extra></extra>\",\"hovertext\":[\"USA\"],\"legendgroup\":\"Uniswap V3 (Polygon)\",\"locations\":[\"USA\"],\"marker\":{\"color\":\"#FF97FF\",\"opacity\":0.8,\"symbol\":\"circle\"},\"mode\":\"markers\",\"name\":\"Uniswap V3 (Polygon)\",\"showlegend\":true,\"type\":\"scattergeo\"},{\"customdata\":[[39940094.49,\"https://quickswap.exchange/\"]],\"geo\":\"geo\",\"hovertemplate\":\"<b>%{hovertext}</b><br><br>name=QuickSwap<br>location=%{location}<br>1d.volume=%{customdata[0]}<br>website_url=%{customdata[1]}<extra></extra>\",\"hovertext\":[\"nan\"],\"legendgroup\":\"QuickSwap\",\"locations\":[\"nan\"],\"marker\":{\"color\":\"#FECB52\",\"opacity\":0.8,\"symbol\":\"circle\"},\"mode\":\"markers\",\"name\":\"QuickSwap\",\"showlegend\":true,\"type\":\"scattergeo\"},{\"customdata\":[[39277001.45,\"https://dodoex.io\"]],\"geo\":\"geo\",\"hovertemplate\":\"<b>%{hovertext}</b><br><br>name=DODO (Ethereum)<br>location=%{location}<br>1d.volume=%{customdata[0]}<br>website_url=%{customdata[1]}<extra></extra>\",\"hovertext\":[\"nan\"],\"legendgroup\":\"DODO (Ethereum)\",\"locations\":[\"nan\"],\"marker\":{\"color\":\"#636efa\",\"opacity\":0.8,\"symbol\":\"circle\"},\"mode\":\"markers\",\"name\":\"DODO (Ethereum)\",\"showlegend\":true,\"type\":\"scattergeo\"},{\"customdata\":[[36294745.1,\"https://uniswap.org\"]],\"geo\":\"geo\",\"hovertemplate\":\"<b>%{hovertext}</b><br><br>name=Uniswap V3 (Arbitrum)<br>location=%{location}<br>1d.volume=%{customdata[0]}<br>website_url=%{customdata[1]}<extra></extra>\",\"hovertext\":[\"USA\"],\"legendgroup\":\"Uniswap V3 (Arbitrum)\",\"locations\":[\"USA\"],\"marker\":{\"color\":\"#EF553B\",\"opacity\":0.8,\"symbol\":\"circle\"},\"mode\":\"markers\",\"name\":\"Uniswap V3 (Arbitrum)\",\"showlegend\":true,\"type\":\"scattergeo\"},{\"customdata\":[[33188426.95,\"https://balancer.fi\"]],\"geo\":\"geo\",\"hovertemplate\":\"<b>%{hovertext}</b><br><br>name=Balancer V2 (Ethereum)<br>location=%{location}<br>1d.volume=%{customdata[0]}<br>website_url=%{customdata[1]}<extra></extra>\",\"hovertext\":[\"nan\"],\"legendgroup\":\"Balancer V2 (Ethereum)\",\"locations\":[\"nan\"],\"marker\":{\"color\":\"#00cc96\",\"opacity\":0.8,\"symbol\":\"circle\"},\"mode\":\"markers\",\"name\":\"Balancer V2 (Ethereum)\",\"showlegend\":true,\"type\":\"scattergeo\"},{\"customdata\":[[31923329.02,\"https://dodoex.io\"]],\"geo\":\"geo\",\"hovertemplate\":\"<b>%{hovertext}</b><br><br>name=DODO (Polygon)<br>location=%{location}<br>1d.volume=%{customdata[0]}<br>website_url=%{customdata[1]}<extra></extra>\",\"hovertext\":[\"nan\"],\"legendgroup\":\"DODO (Polygon)\",\"locations\":[\"nan\"],\"marker\":{\"color\":\"#ab63fa\",\"opacity\":0.8,\"symbol\":\"circle\"},\"mode\":\"markers\",\"name\":\"DODO (Polygon)\",\"showlegend\":true,\"type\":\"scattergeo\"},{\"customdata\":[[30654100.17,\"https://eqonex.com/\"]],\"geo\":\"geo\",\"hovertemplate\":\"<b>%{hovertext}</b><br><br>name=EQONEX<br>location=%{location}<br>1d.volume=%{customdata[0]}<br>website_url=%{customdata[1]}<extra></extra>\",\"hovertext\":[\"SGP\"],\"legendgroup\":\"EQONEX\",\"locations\":[\"SGP\"],\"marker\":{\"color\":\"#FFA15A\",\"opacity\":0.8,\"symbol\":\"circle\"},\"mode\":\"markers\",\"name\":\"EQONEX\",\"showlegend\":true,\"type\":\"scattergeo\"},{\"customdata\":[[21455562.38,\"https://balancer.fi\"]],\"geo\":\"geo\",\"hovertemplate\":\"<b>%{hovertext}</b><br><br>name=Balancer V2 (Polygon)<br>location=%{location}<br>1d.volume=%{customdata[0]}<br>website_url=%{customdata[1]}<extra></extra>\",\"hovertext\":[\"nan\"],\"legendgroup\":\"Balancer V2 (Polygon)\",\"locations\":[\"nan\"],\"marker\":{\"color\":\"#19d3f3\",\"opacity\":0.8,\"symbol\":\"circle\"},\"mode\":\"markers\",\"name\":\"Balancer V2 (Polygon)\",\"showlegend\":true,\"type\":\"scattergeo\"},{\"customdata\":[[21207320.56,\"https://belfrics.com\"]],\"geo\":\"geo\",\"hovertemplate\":\"<b>%{hovertext}</b><br><br>name=Belfrics<br>location=%{location}<br>1d.volume=%{customdata[0]}<br>website_url=%{customdata[1]}<extra></extra>\",\"hovertext\":[\"MYS\"],\"legendgroup\":\"Belfrics\",\"locations\":[\"MYS\"],\"marker\":{\"color\":\"#FF6692\",\"opacity\":0.8,\"symbol\":\"circle\"},\"mode\":\"markers\",\"name\":\"Belfrics\",\"showlegend\":true,\"type\":\"scattergeo\"},{\"customdata\":[[20580078.73,\"https://cex.io/\"]],\"geo\":\"geo\",\"hovertemplate\":\"<b>%{hovertext}</b><br><br>name=CEX.IO<br>location=%{location}<br>1d.volume=%{customdata[0]}<br>website_url=%{customdata[1]}<extra></extra>\",\"hovertext\":[\"GBR\"],\"legendgroup\":\"CEX.IO\",\"locations\":[\"GBR\"],\"marker\":{\"color\":\"#B6E880\",\"opacity\":0.8,\"symbol\":\"circle\"},\"mode\":\"markers\",\"name\":\"CEX.IO\",\"showlegend\":true,\"type\":\"scattergeo\"},{\"customdata\":[[18718892.31,\"https://sushi.com\"]],\"geo\":\"geo\",\"hovertemplate\":\"<b>%{hovertext}</b><br><br>name=SushiSwap (Polygon)<br>location=%{location}<br>1d.volume=%{customdata[0]}<br>website_url=%{customdata[1]}<extra></extra>\",\"hovertext\":[\"nan\"],\"legendgroup\":\"SushiSwap (Polygon)\",\"locations\":[\"nan\"],\"marker\":{\"color\":\"#FF97FF\",\"opacity\":0.8,\"symbol\":\"circle\"},\"mode\":\"markers\",\"name\":\"SushiSwap (Polygon)\",\"showlegend\":true,\"type\":\"scattergeo\"},{\"customdata\":[[18048449.88,\"https://pangolin.exchange\"]],\"geo\":\"geo\",\"hovertemplate\":\"<b>%{hovertext}</b><br><br>name=Pangolin<br>location=%{location}<br>1d.volume=%{customdata[0]}<br>website_url=%{customdata[1]}<extra></extra>\",\"hovertext\":[\"nan\"],\"legendgroup\":\"Pangolin\",\"locations\":[\"nan\"],\"marker\":{\"color\":\"#FECB52\",\"opacity\":0.8,\"symbol\":\"circle\"},\"mode\":\"markers\",\"name\":\"Pangolin\",\"showlegend\":true,\"type\":\"scattergeo\"},{\"customdata\":[[17335244.86,\"https://www.coinfield.com/\"]],\"geo\":\"geo\",\"hovertemplate\":\"<b>%{hovertext}</b><br><br>name=CoinField<br>location=%{location}<br>1d.volume=%{customdata[0]}<br>website_url=%{customdata[1]}<extra></extra>\",\"hovertext\":[\"CAN\"],\"legendgroup\":\"CoinField\",\"locations\":[\"CAN\"],\"marker\":{\"color\":\"#636efa\",\"opacity\":0.8,\"symbol\":\"circle\"},\"mode\":\"markers\",\"name\":\"CoinField\",\"showlegend\":true,\"type\":\"scattergeo\"},{\"customdata\":[[16093270.03,\"https://home.babyswap.finance\"]],\"geo\":\"geo\",\"hovertemplate\":\"<b>%{hovertext}</b><br><br>name=BabySwap<br>location=%{location}<br>1d.volume=%{customdata[0]}<br>website_url=%{customdata[1]}<extra></extra>\",\"hovertext\":[\"nan\"],\"legendgroup\":\"BabySwap\",\"locations\":[\"nan\"],\"marker\":{\"color\":\"#EF553B\",\"opacity\":0.8,\"symbol\":\"circle\"},\"mode\":\"markers\",\"name\":\"BabySwap\",\"showlegend\":true,\"type\":\"scattergeo\"},{\"customdata\":[[16028848.27,\"https://bitso.com/\"]],\"geo\":\"geo\",\"hovertemplate\":\"<b>%{hovertext}</b><br><br>name=Bitso<br>location=%{location}<br>1d.volume=%{customdata[0]}<br>website_url=%{customdata[1]}<extra></extra>\",\"hovertext\":[\"MEX\"],\"legendgroup\":\"Bitso\",\"locations\":[\"MEX\"],\"marker\":{\"color\":\"#00cc96\",\"opacity\":0.8,\"symbol\":\"circle\"},\"mode\":\"markers\",\"name\":\"Bitso\",\"showlegend\":true,\"type\":\"scattergeo\"},{\"customdata\":[[13949792.45,\"https://mdex.com\"]],\"geo\":\"geo\",\"hovertemplate\":\"<b>%{hovertext}</b><br><br>name=Mdex (BSC)<br>location=%{location}<br>1d.volume=%{customdata[0]}<br>website_url=%{customdata[1]}<extra></extra>\",\"hovertext\":[\"nan\"],\"legendgroup\":\"Mdex (BSC)\",\"locations\":[\"nan\"],\"marker\":{\"color\":\"#ab63fa\",\"opacity\":0.8,\"symbol\":\"circle\"},\"mode\":\"markers\",\"name\":\"Mdex (BSC)\",\"showlegend\":true,\"type\":\"scattergeo\"},{\"customdata\":[[12880143.91,\"https://shibaswap.com/\"]],\"geo\":\"geo\",\"hovertemplate\":\"<b>%{hovertext}</b><br><br>name=ShibaSwap<br>location=%{location}<br>1d.volume=%{customdata[0]}<br>website_url=%{customdata[1]}<extra></extra>\",\"hovertext\":[\"nan\"],\"legendgroup\":\"ShibaSwap\",\"locations\":[\"nan\"],\"marker\":{\"color\":\"#FFA15A\",\"opacity\":0.8,\"symbol\":\"circle\"},\"mode\":\"markers\",\"name\":\"ShibaSwap\",\"showlegend\":true,\"type\":\"scattergeo\"},{\"customdata\":[[12532371.66,\"https://apeswap.finance\"]],\"geo\":\"geo\",\"hovertemplate\":\"<b>%{hovertext}</b><br><br>name=ApeSwap (BSC)<br>location=%{location}<br>1d.volume=%{customdata[0]}<br>website_url=%{customdata[1]}<extra></extra>\",\"hovertext\":[\"nan\"],\"legendgroup\":\"ApeSwap (BSC)\",\"locations\":[\"nan\"],\"marker\":{\"color\":\"#19d3f3\",\"opacity\":0.8,\"symbol\":\"circle\"},\"mode\":\"markers\",\"name\":\"ApeSwap (BSC)\",\"showlegend\":true,\"type\":\"scattergeo\"},{\"customdata\":[[12198452.32,\"https://polyx.net\"]],\"geo\":\"geo\",\"hovertemplate\":\"<b>%{hovertext}</b><br><br>name=Polyx<br>location=%{location}<br>1d.volume=%{customdata[0]}<br>website_url=%{customdata[1]}<extra></extra>\",\"hovertext\":[\"EST\"],\"legendgroup\":\"Polyx\",\"locations\":[\"EST\"],\"marker\":{\"color\":\"#FF6692\",\"opacity\":0.8,\"symbol\":\"circle\"},\"mode\":\"markers\",\"name\":\"Polyx\",\"showlegend\":true,\"type\":\"scattergeo\"},{\"customdata\":[[12092281.81,\"https://balancer.fi\"]],\"geo\":\"geo\",\"hovertemplate\":\"<b>%{hovertext}</b><br><br>name=Balancer V1<br>location=%{location}<br>1d.volume=%{customdata[0]}<br>website_url=%{customdata[1]}<extra></extra>\",\"hovertext\":[\"nan\"],\"legendgroup\":\"Balancer V1\",\"locations\":[\"nan\"],\"marker\":{\"color\":\"#B6E880\",\"opacity\":0.8,\"symbol\":\"circle\"},\"mode\":\"markers\",\"name\":\"Balancer V1\",\"showlegend\":true,\"type\":\"scattergeo\"},{\"customdata\":[[9712544.06,\"https://uniswap.org\"]],\"geo\":\"geo\",\"hovertemplate\":\"<b>%{hovertext}</b><br><br>name=Uniswap V3 (Optimism)<br>location=%{location}<br>1d.volume=%{customdata[0]}<br>website_url=%{customdata[1]}<extra></extra>\",\"hovertext\":[\"USA\"],\"legendgroup\":\"Uniswap V3 (Optimism)\",\"locations\":[\"USA\"],\"marker\":{\"color\":\"#FF97FF\",\"opacity\":0.8,\"symbol\":\"circle\"},\"mode\":\"markers\",\"name\":\"Uniswap V3 (Optimism)\",\"showlegend\":true,\"type\":\"scattergeo\"},{\"customdata\":[[9302429.06,\"https://www.scalpex.com\"]],\"geo\":\"geo\",\"hovertemplate\":\"<b>%{hovertext}</b><br><br>name=Scalpex<br>location=%{location}<br>1d.volume=%{customdata[0]}<br>website_url=%{customdata[1]}<extra></extra>\",\"hovertext\":[\"VGB\"],\"legendgroup\":\"Scalpex\",\"locations\":[\"VGB\"],\"marker\":{\"color\":\"#FECB52\",\"opacity\":0.8,\"symbol\":\"circle\"},\"mode\":\"markers\",\"name\":\"Scalpex\",\"showlegend\":true,\"type\":\"scattergeo\"},{\"customdata\":[[7383749.37,\"https://nominex.io/\"]],\"geo\":\"geo\",\"hovertemplate\":\"<b>%{hovertext}</b><br><br>name=Nominex<br>location=%{location}<br>1d.volume=%{customdata[0]}<br>website_url=%{customdata[1]}<extra></extra>\",\"hovertext\":[\"SYC\"],\"legendgroup\":\"Nominex\",\"locations\":[\"SYC\"],\"marker\":{\"color\":\"#636efa\",\"opacity\":0.8,\"symbol\":\"circle\"},\"mode\":\"markers\",\"name\":\"Nominex\",\"showlegend\":true,\"type\":\"scattergeo\"},{\"customdata\":[[6319961.89,\"https://solarbeam.io\"]],\"geo\":\"geo\",\"hovertemplate\":\"<b>%{hovertext}</b><br><br>name=Solarbeam<br>location=%{location}<br>1d.volume=%{customdata[0]}<br>website_url=%{customdata[1]}<extra></extra>\",\"hovertext\":[\"nan\"],\"legendgroup\":\"Solarbeam\",\"locations\":[\"nan\"],\"marker\":{\"color\":\"#EF553B\",\"opacity\":0.8,\"symbol\":\"circle\"},\"mode\":\"markers\",\"name\":\"Solarbeam\",\"showlegend\":true,\"type\":\"scattergeo\"},{\"customdata\":[[6137309.27,\"https://coinflex.com/\"]],\"geo\":\"geo\",\"hovertemplate\":\"<b>%{hovertext}</b><br><br>name=CoinFLEX<br>location=%{location}<br>1d.volume=%{customdata[0]}<br>website_url=%{customdata[1]}<extra></extra>\",\"hovertext\":[\"SYC\"],\"legendgroup\":\"CoinFLEX\",\"locations\":[\"SYC\"],\"marker\":{\"color\":\"#00cc96\",\"opacity\":0.8,\"symbol\":\"circle\"},\"mode\":\"markers\",\"name\":\"CoinFLEX\",\"showlegend\":true,\"type\":\"scattergeo\"},{\"customdata\":[[5235976.76,\"https://vvs.finance\"]],\"geo\":\"geo\",\"hovertemplate\":\"<b>%{hovertext}</b><br><br>name=VVS Finance<br>location=%{location}<br>1d.volume=%{customdata[0]}<br>website_url=%{customdata[1]}<extra></extra>\",\"hovertext\":[\"nan\"],\"legendgroup\":\"VVS Finance\",\"locations\":[\"nan\"],\"marker\":{\"color\":\"#ab63fa\",\"opacity\":0.8,\"symbol\":\"circle\"},\"mode\":\"markers\",\"name\":\"VVS Finance\",\"showlegend\":true,\"type\":\"scattergeo\"},{\"customdata\":[[4796290.68,\"https://crosstower.com/\"]],\"geo\":\"geo\",\"hovertemplate\":\"<b>%{hovertext}</b><br><br>name=CrossTower<br>location=%{location}<br>1d.volume=%{customdata[0]}<br>website_url=%{customdata[1]}<extra></extra>\",\"hovertext\":[\"USA\"],\"legendgroup\":\"CrossTower\",\"locations\":[\"USA\"],\"marker\":{\"color\":\"#FFA15A\",\"opacity\":0.8,\"symbol\":\"circle\"},\"mode\":\"markers\",\"name\":\"CrossTower\",\"showlegend\":true,\"type\":\"scattergeo\"},{\"customdata\":[[4643066.88,\"https://viper.exchange/\"]],\"geo\":\"geo\",\"hovertemplate\":\"<b>%{hovertext}</b><br><br>name=ViperSwap<br>location=%{location}<br>1d.volume=%{customdata[0]}<br>website_url=%{customdata[1]}<extra></extra>\",\"hovertext\":[\"nan\"],\"legendgroup\":\"ViperSwap\",\"locations\":[\"nan\"],\"marker\":{\"color\":\"#19d3f3\",\"opacity\":0.8,\"symbol\":\"circle\"},\"mode\":\"markers\",\"name\":\"ViperSwap\",\"showlegend\":true,\"type\":\"scattergeo\"},{\"customdata\":[[3542849.09,\"https://www.dfyn.network\"]],\"geo\":\"geo\",\"hovertemplate\":\"<b>%{hovertext}</b><br><br>name=Dfyn (Polygon)<br>location=%{location}<br>1d.volume=%{customdata[0]}<br>website_url=%{customdata[1]}<extra></extra>\",\"hovertext\":[\"nan\"],\"legendgroup\":\"Dfyn (Polygon)\",\"locations\":[\"nan\"],\"marker\":{\"color\":\"#FF6692\",\"opacity\":0.8,\"symbol\":\"circle\"},\"mode\":\"markers\",\"name\":\"Dfyn (Polygon)\",\"showlegend\":true,\"type\":\"scattergeo\"},{\"customdata\":[[3337846.89,\"https://www.mercadobitcoin.com.br/\"]],\"geo\":\"geo\",\"hovertemplate\":\"<b>%{hovertext}</b><br><br>name=Mercado Bitcoin<br>location=%{location}<br>1d.volume=%{customdata[0]}<br>website_url=%{customdata[1]}<extra></extra>\",\"hovertext\":[\"BRA\"],\"legendgroup\":\"Mercado Bitcoin\",\"locations\":[\"BRA\"],\"marker\":{\"color\":\"#B6E880\",\"opacity\":0.8,\"symbol\":\"circle\"},\"mode\":\"markers\",\"name\":\"Mercado Bitcoin\",\"showlegend\":true,\"type\":\"scattergeo\"},{\"customdata\":[[2954186.83,\"https://currency.com/\"]],\"geo\":\"geo\",\"hovertemplate\":\"<b>%{hovertext}</b><br><br>name=Currency.com<br>location=%{location}<br>1d.volume=%{customdata[0]}<br>website_url=%{customdata[1]}<extra></extra>\",\"hovertext\":[\"BLR\"],\"legendgroup\":\"Currency.com\",\"locations\":[\"BLR\"],\"marker\":{\"color\":\"#FF97FF\",\"opacity\":0.8,\"symbol\":\"circle\"},\"mode\":\"markers\",\"name\":\"Currency.com\",\"showlegend\":true,\"type\":\"scattergeo\"},{\"customdata\":[[2589297.18,\"https://pancakeswap.finance\"]],\"geo\":\"geo\",\"hovertemplate\":\"<b>%{hovertext}</b><br><br>name=PancakeSwap V1<br>location=%{location}<br>1d.volume=%{customdata[0]}<br>website_url=%{customdata[1]}<extra></extra>\",\"hovertext\":[\"JPN\"],\"legendgroup\":\"PancakeSwap V1\",\"locations\":[\"JPN\"],\"marker\":{\"color\":\"#FECB52\",\"opacity\":0.8,\"symbol\":\"circle\"},\"mode\":\"markers\",\"name\":\"PancakeSwap V1\",\"showlegend\":true,\"type\":\"scattergeo\"},{\"customdata\":[[2481131.41,\"https://ubeswap.org\"]],\"geo\":\"geo\",\"hovertemplate\":\"<b>%{hovertext}</b><br><br>name=Ubeswap<br>location=%{location}<br>1d.volume=%{customdata[0]}<br>website_url=%{customdata[1]}<extra></extra>\",\"hovertext\":[\"nan\"],\"legendgroup\":\"Ubeswap\",\"locations\":[\"nan\"],\"marker\":{\"color\":\"#636efa\",\"opacity\":0.8,\"symbol\":\"circle\"},\"mode\":\"markers\",\"name\":\"Ubeswap\",\"showlegend\":true,\"type\":\"scattergeo\"},{\"customdata\":[[2417878.53,\"https://apeswap.finance\"]],\"geo\":\"geo\",\"hovertemplate\":\"<b>%{hovertext}</b><br><br>name=ApeSwap (Polygon)<br>location=%{location}<br>1d.volume=%{customdata[0]}<br>website_url=%{customdata[1]}<extra></extra>\",\"hovertext\":[\"nan\"],\"legendgroup\":\"ApeSwap (Polygon)\",\"locations\":[\"nan\"],\"marker\":{\"color\":\"#EF553B\",\"opacity\":0.8,\"symbol\":\"circle\"},\"mode\":\"markers\",\"name\":\"ApeSwap (Polygon)\",\"showlegend\":true,\"type\":\"scattergeo\"},{\"customdata\":[[1921587.13,\"https://app.farhadmarket.com/\"]],\"geo\":\"geo\",\"hovertemplate\":\"<b>%{hovertext}</b><br><br>name=FarhadMarket<br>location=%{location}<br>1d.volume=%{customdata[0]}<br>website_url=%{customdata[1]}<extra></extra>\",\"hovertext\":[\"IRN\"],\"legendgroup\":\"FarhadMarket\",\"locations\":[\"IRN\"],\"marker\":{\"color\":\"#00cc96\",\"opacity\":0.8,\"symbol\":\"circle\"},\"mode\":\"markers\",\"name\":\"FarhadMarket\",\"showlegend\":true,\"type\":\"scattergeo\"},{\"customdata\":[[1560977.89,\"https://www.binance.org/\"]],\"geo\":\"geo\",\"hovertemplate\":\"<b>%{hovertext}</b><br><br>name=Binance DEX<br>location=%{location}<br>1d.volume=%{customdata[0]}<br>website_url=%{customdata[1]}<extra></extra>\",\"hovertext\":[\"MLT\"],\"legendgroup\":\"Binance DEX\",\"locations\":[\"MLT\"],\"marker\":{\"color\":\"#ab63fa\",\"opacity\":0.8,\"symbol\":\"circle\"},\"mode\":\"markers\",\"name\":\"Binance DEX\",\"showlegend\":true,\"type\":\"scattergeo\"},{\"customdata\":[[1481363.09,\"https://redot.com/\"]],\"geo\":\"geo\",\"hovertemplate\":\"<b>%{hovertext}</b><br><br>name=Redot<br>location=%{location}<br>1d.volume=%{customdata[0]}<br>website_url=%{customdata[1]}<extra></extra>\",\"hovertext\":[\"EST\"],\"legendgroup\":\"Redot\",\"locations\":[\"EST\"],\"marker\":{\"color\":\"#FFA15A\",\"opacity\":0.8,\"symbol\":\"circle\"},\"mode\":\"markers\",\"name\":\"Redot\",\"showlegend\":true,\"type\":\"scattergeo\"},{\"customdata\":[[1015475.99,\"https://www.cherryswap.net/\"]],\"geo\":\"geo\",\"hovertemplate\":\"<b>%{hovertext}</b><br><br>name=CherrySwap<br>location=%{location}<br>1d.volume=%{customdata[0]}<br>website_url=%{customdata[1]}<extra></extra>\",\"hovertext\":[\"nan\"],\"legendgroup\":\"CherrySwap\",\"locations\":[\"nan\"],\"marker\":{\"color\":\"#19d3f3\",\"opacity\":0.8,\"symbol\":\"circle\"},\"mode\":\"markers\",\"name\":\"CherrySwap\",\"showlegend\":true,\"type\":\"scattergeo\"},{\"customdata\":[[989404.79,\"https://therocktrading.com/\"]],\"geo\":\"geo\",\"hovertemplate\":\"<b>%{hovertext}</b><br><br>name=The Rock Trading<br>location=%{location}<br>1d.volume=%{customdata[0]}<br>website_url=%{customdata[1]}<extra></extra>\",\"hovertext\":[\"ITA\"],\"legendgroup\":\"The Rock Trading\",\"locations\":[\"ITA\"],\"marker\":{\"color\":\"#FF6692\",\"opacity\":0.8,\"symbol\":\"circle\"},\"mode\":\"markers\",\"name\":\"The Rock Trading\",\"showlegend\":true,\"type\":\"scattergeo\"},{\"customdata\":[[711690.81,\"https://dfx.finance\"]],\"geo\":\"geo\",\"hovertemplate\":\"<b>%{hovertext}</b><br><br>name=DFX (Polygon)<br>location=%{location}<br>1d.volume=%{customdata[0]}<br>website_url=%{customdata[1]}<extra></extra>\",\"hovertext\":[\"nan\"],\"legendgroup\":\"DFX (Polygon)\",\"locations\":[\"nan\"],\"marker\":{\"color\":\"#B6E880\",\"opacity\":0.8,\"symbol\":\"circle\"},\"mode\":\"markers\",\"name\":\"DFX (Polygon)\",\"showlegend\":true,\"type\":\"scattergeo\"},{\"customdata\":[[622218.38,\"https://mimo.finance\"]],\"geo\":\"geo\",\"hovertemplate\":\"<b>%{hovertext}</b><br><br>name=Mimo<br>location=%{location}<br>1d.volume=%{customdata[0]}<br>website_url=%{customdata[1]}<extra></extra>\",\"hovertext\":[\"nan\"],\"legendgroup\":\"Mimo\",\"locations\":[\"nan\"],\"marker\":{\"color\":\"#FF97FF\",\"opacity\":0.8,\"symbol\":\"circle\"},\"mode\":\"markers\",\"name\":\"Mimo\",\"showlegend\":true,\"type\":\"scattergeo\"},{\"customdata\":[[495382.29,\"https://1inch.io\"]],\"geo\":\"geo\",\"hovertemplate\":\"<b>%{hovertext}</b><br><br>name=1inch V2 (Ethereum)<br>location=%{location}<br>1d.volume=%{customdata[0]}<br>website_url=%{customdata[1]}<extra></extra>\",\"hovertext\":[\"nan\"],\"legendgroup\":\"1inch V2 (Ethereum)\",\"locations\":[\"nan\"],\"marker\":{\"color\":\"#FECB52\",\"opacity\":0.8,\"symbol\":\"circle\"},\"mode\":\"markers\",\"name\":\"1inch V2 (Ethereum)\",\"showlegend\":true,\"type\":\"scattergeo\"},{\"customdata\":[[472708.03,\"https://kaidex.io\"]],\"geo\":\"geo\",\"hovertemplate\":\"<b>%{hovertext}</b><br><br>name=KaiDex<br>location=%{location}<br>1d.volume=%{customdata[0]}<br>website_url=%{customdata[1]}<extra></extra>\",\"hovertext\":[\"nan\"],\"legendgroup\":\"KaiDex\",\"locations\":[\"nan\"],\"marker\":{\"color\":\"#636efa\",\"opacity\":0.8,\"symbol\":\"circle\"},\"mode\":\"markers\",\"name\":\"KaiDex\",\"showlegend\":true,\"type\":\"scattergeo\"},{\"customdata\":[[414118.98,\"https://sushi.com\"]],\"geo\":\"geo\",\"hovertemplate\":\"<b>%{hovertext}</b><br><br>name=SushiSwap (Fantom)<br>location=%{location}<br>1d.volume=%{customdata[0]}<br>website_url=%{customdata[1]}<extra></extra>\",\"hovertext\":[\"nan\"],\"legendgroup\":\"SushiSwap (Fantom)\",\"locations\":[\"nan\"],\"marker\":{\"color\":\"#EF553B\",\"opacity\":0.8,\"symbol\":\"circle\"},\"mode\":\"markers\",\"name\":\"SushiSwap (Fantom)\",\"showlegend\":true,\"type\":\"scattergeo\"},{\"customdata\":[[360327.13,\"https://dfx.finance\"]],\"geo\":\"geo\",\"hovertemplate\":\"<b>%{hovertext}</b><br><br>name=DFX (Ethereum)<br>location=%{location}<br>1d.volume=%{customdata[0]}<br>website_url=%{customdata[1]}<extra></extra>\",\"hovertext\":[\"nan\"],\"legendgroup\":\"DFX (Ethereum)\",\"locations\":[\"nan\"],\"marker\":{\"color\":\"#00cc96\",\"opacity\":0.8,\"symbol\":\"circle\"},\"mode\":\"markers\",\"name\":\"DFX (Ethereum)\",\"showlegend\":true,\"type\":\"scattergeo\"},{\"customdata\":[[350380.67,\"https://sigen.pro\"]],\"geo\":\"geo\",\"hovertemplate\":\"<b>%{hovertext}</b><br><br>name=SIGEN.pro<br>location=%{location}<br>1d.volume=%{customdata[0]}<br>website_url=%{customdata[1]}<extra></extra>\",\"hovertext\":[\"GBR\"],\"legendgroup\":\"SIGEN.pro\",\"locations\":[\"GBR\"],\"marker\":{\"color\":\"#ab63fa\",\"opacity\":0.8,\"symbol\":\"circle\"},\"mode\":\"markers\",\"name\":\"SIGEN.pro\",\"showlegend\":true,\"type\":\"scattergeo\"},{\"customdata\":[[344192.0,\"https://sushi.com\"]],\"geo\":\"geo\",\"hovertemplate\":\"<b>%{hovertext}</b><br><br>name=SushiSwap (xDai)<br>location=%{location}<br>1d.volume=%{customdata[0]}<br>website_url=%{customdata[1]}<extra></extra>\",\"hovertext\":[\"nan\"],\"legendgroup\":\"SushiSwap (xDai)\",\"locations\":[\"nan\"],\"marker\":{\"color\":\"#FFA15A\",\"opacity\":0.8,\"symbol\":\"circle\"},\"mode\":\"markers\",\"name\":\"SushiSwap (xDai)\",\"showlegend\":true,\"type\":\"scattergeo\"},{\"customdata\":[[221507.19,\"https://honeyswap.org/\"]],\"geo\":\"geo\",\"hovertemplate\":\"<b>%{hovertext}</b><br><br>name=Honeyswap (xDai)<br>location=%{location}<br>1d.volume=%{customdata[0]}<br>website_url=%{customdata[1]}<extra></extra>\",\"hovertext\":[\"nan\"],\"legendgroup\":\"Honeyswap (xDai)\",\"locations\":[\"nan\"],\"marker\":{\"color\":\"#19d3f3\",\"opacity\":0.8,\"symbol\":\"circle\"},\"mode\":\"markers\",\"name\":\"Honeyswap (xDai)\",\"showlegend\":true,\"type\":\"scattergeo\"},{\"customdata\":[[219906.85,\"https://polygon.jetswap.finance\"]],\"geo\":\"geo\",\"hovertemplate\":\"<b>%{hovertext}</b><br><br>name=JetSwap (Polygon)<br>location=%{location}<br>1d.volume=%{customdata[0]}<br>website_url=%{customdata[1]}<extra></extra>\",\"hovertext\":[\"nan\"],\"legendgroup\":\"JetSwap (Polygon)\",\"locations\":[\"nan\"],\"marker\":{\"color\":\"#FF6692\",\"opacity\":0.8,\"symbol\":\"circle\"},\"mode\":\"markers\",\"name\":\"JetSwap (Polygon)\",\"showlegend\":true,\"type\":\"scattergeo\"},{\"customdata\":[[185931.08,\"https://sushi.com\"]],\"geo\":\"geo\",\"hovertemplate\":\"<b>%{hovertext}</b><br><br>name=SushiSwap (BSC)<br>location=%{location}<br>1d.volume=%{customdata[0]}<br>website_url=%{customdata[1]}<extra></extra>\",\"hovertext\":[\"nan\"],\"legendgroup\":\"SushiSwap (BSC)\",\"locations\":[\"nan\"],\"marker\":{\"color\":\"#B6E880\",\"opacity\":0.8,\"symbol\":\"circle\"},\"mode\":\"markers\",\"name\":\"SushiSwap (BSC)\",\"showlegend\":true,\"type\":\"scattergeo\"},{\"customdata\":[[168097.71,\"https://www.dfyn.network\"]],\"geo\":\"geo\",\"hovertemplate\":\"<b>%{hovertext}</b><br><br>name=Dfyn (Fantom)<br>location=%{location}<br>1d.volume=%{customdata[0]}<br>website_url=%{customdata[1]}<extra></extra>\",\"hovertext\":[\"nan\"],\"legendgroup\":\"Dfyn (Fantom)\",\"locations\":[\"nan\"],\"marker\":{\"color\":\"#FF97FF\",\"opacity\":0.8,\"symbol\":\"circle\"},\"mode\":\"markers\",\"name\":\"Dfyn (Fantom)\",\"showlegend\":true,\"type\":\"scattergeo\"},{\"customdata\":[[156870.06,\"https://jetswap.finance\"]],\"geo\":\"geo\",\"hovertemplate\":\"<b>%{hovertext}</b><br><br>name=JetSwap (BSC)<br>location=%{location}<br>1d.volume=%{customdata[0]}<br>website_url=%{customdata[1]}<extra></extra>\",\"hovertext\":[\"nan\"],\"legendgroup\":\"JetSwap (BSC)\",\"locations\":[\"nan\"],\"marker\":{\"color\":\"#FECB52\",\"opacity\":0.8,\"symbol\":\"circle\"},\"mode\":\"markers\",\"name\":\"JetSwap (BSC)\",\"showlegend\":true,\"type\":\"scattergeo\"},{\"customdata\":[[134624.93,\"https://wault.finance\"]],\"geo\":\"geo\",\"hovertemplate\":\"<b>%{hovertext}</b><br><br>name=WaultSwap (BSC)<br>location=%{location}<br>1d.volume=%{customdata[0]}<br>website_url=%{customdata[1]}<extra></extra>\",\"hovertext\":[\"nan\"],\"legendgroup\":\"WaultSwap (BSC)\",\"locations\":[\"nan\"],\"marker\":{\"color\":\"#636efa\",\"opacity\":0.8,\"symbol\":\"circle\"},\"mode\":\"markers\",\"name\":\"WaultSwap (BSC)\",\"showlegend\":true,\"type\":\"scattergeo\"},{\"customdata\":[[127536.31,\"https://sushi.com\"]],\"geo\":\"geo\",\"hovertemplate\":\"<b>%{hovertext}</b><br><br>name=SushiSwap (Celo)<br>location=%{location}<br>1d.volume=%{customdata[0]}<br>website_url=%{customdata[1]}<extra></extra>\",\"hovertext\":[\"nan\"],\"legendgroup\":\"SushiSwap (Celo)\",\"locations\":[\"nan\"],\"marker\":{\"color\":\"#EF553B\",\"opacity\":0.8,\"symbol\":\"circle\"},\"mode\":\"markers\",\"name\":\"SushiSwap (Celo)\",\"showlegend\":true,\"type\":\"scattergeo\"},{\"customdata\":[[126160.23,\"https://kuswap.finance/\"]],\"geo\":\"geo\",\"hovertemplate\":\"<b>%{hovertext}</b><br><br>name=KuSwap<br>location=%{location}<br>1d.volume=%{customdata[0]}<br>website_url=%{customdata[1]}<extra></extra>\",\"hovertext\":[\"nan\"],\"legendgroup\":\"KuSwap\",\"locations\":[\"nan\"],\"marker\":{\"color\":\"#00cc96\",\"opacity\":0.8,\"symbol\":\"circle\"},\"mode\":\"markers\",\"name\":\"KuSwap\",\"showlegend\":true,\"type\":\"scattergeo\"},{\"customdata\":[[124260.75,\"https://polycat.finance\"]],\"geo\":\"geo\",\"hovertemplate\":\"<b>%{hovertext}</b><br><br>name=Polycat<br>location=%{location}<br>1d.volume=%{customdata[0]}<br>website_url=%{customdata[1]}<extra></extra>\",\"hovertext\":[\"nan\"],\"legendgroup\":\"Polycat\",\"locations\":[\"nan\"],\"marker\":{\"color\":\"#ab63fa\",\"opacity\":0.8,\"symbol\":\"circle\"},\"mode\":\"markers\",\"name\":\"Polycat\",\"showlegend\":true,\"type\":\"scattergeo\"},{\"customdata\":[[101382.38,\"https://app.defiplaza.net\"]],\"geo\":\"geo\",\"hovertemplate\":\"<b>%{hovertext}</b><br><br>name=DefiPlaza<br>location=%{location}<br>1d.volume=%{customdata[0]}<br>website_url=%{customdata[1]}<extra></extra>\",\"hovertext\":[\"NLD\"],\"legendgroup\":\"DefiPlaza\",\"locations\":[\"NLD\"],\"marker\":{\"color\":\"#FFA15A\",\"opacity\":0.8,\"symbol\":\"circle\"},\"mode\":\"markers\",\"name\":\"DefiPlaza\",\"showlegend\":true,\"type\":\"scattergeo\"},{\"customdata\":[[77473.47,\"https://blocktrade.com/\"]],\"geo\":\"geo\",\"hovertemplate\":\"<b>%{hovertext}</b><br><br>name=Blocktrade<br>location=%{location}<br>1d.volume=%{customdata[0]}<br>website_url=%{customdata[1]}<extra></extra>\",\"hovertext\":[\"LUX\"],\"legendgroup\":\"Blocktrade\",\"locations\":[\"LUX\"],\"marker\":{\"color\":\"#19d3f3\",\"opacity\":0.8,\"symbol\":\"circle\"},\"mode\":\"markers\",\"name\":\"Blocktrade\",\"showlegend\":true,\"type\":\"scattergeo\"},{\"customdata\":[[70941.18,\"https://yetiswap.app\"]],\"geo\":\"geo\",\"hovertemplate\":\"<b>%{hovertext}</b><br><br>name=YetiSwap<br>location=%{location}<br>1d.volume=%{customdata[0]}<br>website_url=%{customdata[1]}<extra></extra>\",\"hovertext\":[\"nan\"],\"legendgroup\":\"YetiSwap\",\"locations\":[\"nan\"],\"marker\":{\"color\":\"#FF6692\",\"opacity\":0.8,\"symbol\":\"circle\"},\"mode\":\"markers\",\"name\":\"YetiSwap\",\"showlegend\":true,\"type\":\"scattergeo\"},{\"customdata\":[[67831.65,\"https://www.latteswap.com/\"]],\"geo\":\"geo\",\"hovertemplate\":\"<b>%{hovertext}</b><br><br>name=LatteSwap<br>location=%{location}<br>1d.volume=%{customdata[0]}<br>website_url=%{customdata[1]}<extra></extra>\",\"hovertext\":[\"nan\"],\"legendgroup\":\"LatteSwap\",\"locations\":[\"nan\"],\"marker\":{\"color\":\"#B6E880\",\"opacity\":0.8,\"symbol\":\"circle\"},\"mode\":\"markers\",\"name\":\"LatteSwap\",\"showlegend\":true,\"type\":\"scattergeo\"},{\"customdata\":[[54787.22,\"https://1inch.io\"]],\"geo\":\"geo\",\"hovertemplate\":\"<b>%{hovertext}</b><br><br>name=1inch V2 (BSC)<br>location=%{location}<br>1d.volume=%{customdata[0]}<br>website_url=%{customdata[1]}<extra></extra>\",\"hovertext\":[\"nan\"],\"legendgroup\":\"1inch V2 (BSC)\",\"locations\":[\"nan\"],\"marker\":{\"color\":\"#FF97FF\",\"opacity\":0.8,\"symbol\":\"circle\"},\"mode\":\"markers\",\"name\":\"1inch V2 (BSC)\",\"showlegend\":true,\"type\":\"scattergeo\"},{\"customdata\":[[52184.65,\"https://www.namebase.io\"]],\"geo\":\"geo\",\"hovertemplate\":\"<b>%{hovertext}</b><br><br>name=Namebase<br>location=%{location}<br>1d.volume=%{customdata[0]}<br>website_url=%{customdata[1]}<extra></extra>\",\"hovertext\":[\"USA\"],\"legendgroup\":\"Namebase\",\"locations\":[\"USA\"],\"marker\":{\"color\":\"#FECB52\",\"opacity\":0.8,\"symbol\":\"circle\"},\"mode\":\"markers\",\"name\":\"Namebase\",\"showlegend\":true,\"type\":\"scattergeo\"},{\"customdata\":[[38718.21,\"https://fantom.jetswap.finance\"]],\"geo\":\"geo\",\"hovertemplate\":\"<b>%{hovertext}</b><br><br>name=JetSwap (Fantom)<br>location=%{location}<br>1d.volume=%{customdata[0]}<br>website_url=%{customdata[1]}<extra></extra>\",\"hovertext\":[\"nan\"],\"legendgroup\":\"JetSwap (Fantom)\",\"locations\":[\"nan\"],\"marker\":{\"color\":\"#636efa\",\"opacity\":0.8,\"symbol\":\"circle\"},\"mode\":\"markers\",\"name\":\"JetSwap (Fantom)\",\"showlegend\":true,\"type\":\"scattergeo\"},{\"customdata\":[[36605.74,\"https://padswap.exchange\"]],\"geo\":\"geo\",\"hovertemplate\":\"<b>%{hovertext}</b><br><br>name=PadSwap<br>location=%{location}<br>1d.volume=%{customdata[0]}<br>website_url=%{customdata[1]}<extra></extra>\",\"hovertext\":[\"nan\"],\"legendgroup\":\"PadSwap\",\"locations\":[\"nan\"],\"marker\":{\"color\":\"#EF553B\",\"opacity\":0.8,\"symbol\":\"circle\"},\"mode\":\"markers\",\"name\":\"PadSwap\",\"showlegend\":true,\"type\":\"scattergeo\"},{\"customdata\":[[34334.45,\"https://wault.finance\"]],\"geo\":\"geo\",\"hovertemplate\":\"<b>%{hovertext}</b><br><br>name=WaultSwap (Polygon)<br>location=%{location}<br>1d.volume=%{customdata[0]}<br>website_url=%{customdata[1]}<extra></extra>\",\"hovertext\":[\"nan\"],\"legendgroup\":\"WaultSwap (Polygon)\",\"locations\":[\"nan\"],\"marker\":{\"color\":\"#00cc96\",\"opacity\":0.8,\"symbol\":\"circle\"},\"mode\":\"markers\",\"name\":\"WaultSwap (Polygon)\",\"showlegend\":true,\"type\":\"scattergeo\"},{\"customdata\":[[29994.55,\"https://zebitex.com\"]],\"geo\":\"geo\",\"hovertemplate\":\"<b>%{hovertext}</b><br><br>name=ZEBITEX<br>location=%{location}<br>1d.volume=%{customdata[0]}<br>website_url=%{customdata[1]}<extra></extra>\",\"hovertext\":[\"FRA\"],\"legendgroup\":\"ZEBITEX\",\"locations\":[\"FRA\"],\"marker\":{\"color\":\"#ab63fa\",\"opacity\":0.8,\"symbol\":\"circle\"},\"mode\":\"markers\",\"name\":\"ZEBITEX\",\"showlegend\":true,\"type\":\"scattergeo\"},{\"customdata\":[[17808.06,\"https://crodex.app\"]],\"geo\":\"geo\",\"hovertemplate\":\"<b>%{hovertext}</b><br><br>name=Crodex<br>location=%{location}<br>1d.volume=%{customdata[0]}<br>website_url=%{customdata[1]}<extra></extra>\",\"hovertext\":[\"nan\"],\"legendgroup\":\"Crodex\",\"locations\":[\"nan\"],\"marker\":{\"color\":\"#FFA15A\",\"opacity\":0.8,\"symbol\":\"circle\"},\"mode\":\"markers\",\"name\":\"Crodex\",\"showlegend\":true,\"type\":\"scattergeo\"},{\"customdata\":[[12952.09,\"https://www.empiredex.org\"]],\"geo\":\"geo\",\"hovertemplate\":\"<b>%{hovertext}</b><br><br>name=Empire DEX (BSC)<br>location=%{location}<br>1d.volume=%{customdata[0]}<br>website_url=%{customdata[1]}<extra></extra>\",\"hovertext\":[\"nan\"],\"legendgroup\":\"Empire DEX (BSC)\",\"locations\":[\"nan\"],\"marker\":{\"color\":\"#19d3f3\",\"opacity\":0.8,\"symbol\":\"circle\"},\"mode\":\"markers\",\"name\":\"Empire DEX (BSC)\",\"showlegend\":true,\"type\":\"scattergeo\"},{\"customdata\":[[11062.43,\"https://qtrade.io\"]],\"geo\":\"geo\",\"hovertemplate\":\"<b>%{hovertext}</b><br><br>name=qTrade<br>location=%{location}<br>1d.volume=%{customdata[0]}<br>website_url=%{customdata[1]}<extra></extra>\",\"hovertext\":[\"USA\"],\"legendgroup\":\"qTrade\",\"locations\":[\"USA\"],\"marker\":{\"color\":\"#FF6692\",\"opacity\":0.8,\"symbol\":\"circle\"},\"mode\":\"markers\",\"name\":\"qTrade\",\"showlegend\":true,\"type\":\"scattergeo\"},{\"customdata\":[[6530.57,\"https://levinswap.org\"]],\"geo\":\"geo\",\"hovertemplate\":\"<b>%{hovertext}</b><br><br>name=Levinswap<br>location=%{location}<br>1d.volume=%{customdata[0]}<br>website_url=%{customdata[1]}<extra></extra>\",\"hovertext\":[\"nan\"],\"legendgroup\":\"Levinswap\",\"locations\":[\"nan\"],\"marker\":{\"color\":\"#B6E880\",\"opacity\":0.8,\"symbol\":\"circle\"},\"mode\":\"markers\",\"name\":\"Levinswap\",\"showlegend\":true,\"type\":\"scattergeo\"},{\"customdata\":[[5209.1,\"https://baguette.exchange\"]],\"geo\":\"geo\",\"hovertemplate\":\"<b>%{hovertext}</b><br><br>name=Baguette<br>location=%{location}<br>1d.volume=%{customdata[0]}<br>website_url=%{customdata[1]}<extra></extra>\",\"hovertext\":[\"nan\"],\"legendgroup\":\"Baguette\",\"locations\":[\"nan\"],\"marker\":{\"color\":\"#FF97FF\",\"opacity\":0.8,\"symbol\":\"circle\"},\"mode\":\"markers\",\"name\":\"Baguette\",\"showlegend\":true,\"type\":\"scattergeo\"},{\"customdata\":[[4347.6,\"https://honeyswap.org/\"]],\"geo\":\"geo\",\"hovertemplate\":\"<b>%{hovertext}</b><br><br>name=Honeyswap (Polygon)<br>location=%{location}<br>1d.volume=%{customdata[0]}<br>website_url=%{customdata[1]}<extra></extra>\",\"hovertext\":[\"nan\"],\"legendgroup\":\"Honeyswap (Polygon)\",\"locations\":[\"nan\"],\"marker\":{\"color\":\"#FECB52\",\"opacity\":0.8,\"symbol\":\"circle\"},\"mode\":\"markers\",\"name\":\"Honeyswap (Polygon)\",\"showlegend\":true,\"type\":\"scattergeo\"}],                        {\"template\":{\"data\":{\"bar\":[{\"error_x\":{\"color\":\"#2a3f5f\"},\"error_y\":{\"color\":\"#2a3f5f\"},\"marker\":{\"line\":{\"color\":\"#E5ECF6\",\"width\":0.5},\"pattern\":{\"fillmode\":\"overlay\",\"size\":10,\"solidity\":0.2}},\"type\":\"bar\"}],\"barpolar\":[{\"marker\":{\"line\":{\"color\":\"#E5ECF6\",\"width\":0.5},\"pattern\":{\"fillmode\":\"overlay\",\"size\":10,\"solidity\":0.2}},\"type\":\"barpolar\"}],\"carpet\":[{\"aaxis\":{\"endlinecolor\":\"#2a3f5f\",\"gridcolor\":\"white\",\"linecolor\":\"white\",\"minorgridcolor\":\"white\",\"startlinecolor\":\"#2a3f5f\"},\"baxis\":{\"endlinecolor\":\"#2a3f5f\",\"gridcolor\":\"white\",\"linecolor\":\"white\",\"minorgridcolor\":\"white\",\"startlinecolor\":\"#2a3f5f\"},\"type\":\"carpet\"}],\"choropleth\":[{\"colorbar\":{\"outlinewidth\":0,\"ticks\":\"\"},\"type\":\"choropleth\"}],\"contour\":[{\"colorbar\":{\"outlinewidth\":0,\"ticks\":\"\"},\"colorscale\":[[0.0,\"#0d0887\"],[0.1111111111111111,\"#46039f\"],[0.2222222222222222,\"#7201a8\"],[0.3333333333333333,\"#9c179e\"],[0.4444444444444444,\"#bd3786\"],[0.5555555555555556,\"#d8576b\"],[0.6666666666666666,\"#ed7953\"],[0.7777777777777778,\"#fb9f3a\"],[0.8888888888888888,\"#fdca26\"],[1.0,\"#f0f921\"]],\"type\":\"contour\"}],\"contourcarpet\":[{\"colorbar\":{\"outlinewidth\":0,\"ticks\":\"\"},\"type\":\"contourcarpet\"}],\"heatmap\":[{\"colorbar\":{\"outlinewidth\":0,\"ticks\":\"\"},\"colorscale\":[[0.0,\"#0d0887\"],[0.1111111111111111,\"#46039f\"],[0.2222222222222222,\"#7201a8\"],[0.3333333333333333,\"#9c179e\"],[0.4444444444444444,\"#bd3786\"],[0.5555555555555556,\"#d8576b\"],[0.6666666666666666,\"#ed7953\"],[0.7777777777777778,\"#fb9f3a\"],[0.8888888888888888,\"#fdca26\"],[1.0,\"#f0f921\"]],\"type\":\"heatmap\"}],\"heatmapgl\":[{\"colorbar\":{\"outlinewidth\":0,\"ticks\":\"\"},\"colorscale\":[[0.0,\"#0d0887\"],[0.1111111111111111,\"#46039f\"],[0.2222222222222222,\"#7201a8\"],[0.3333333333333333,\"#9c179e\"],[0.4444444444444444,\"#bd3786\"],[0.5555555555555556,\"#d8576b\"],[0.6666666666666666,\"#ed7953\"],[0.7777777777777778,\"#fb9f3a\"],[0.8888888888888888,\"#fdca26\"],[1.0,\"#f0f921\"]],\"type\":\"heatmapgl\"}],\"histogram\":[{\"marker\":{\"pattern\":{\"fillmode\":\"overlay\",\"size\":10,\"solidity\":0.2}},\"type\":\"histogram\"}],\"histogram2d\":[{\"colorbar\":{\"outlinewidth\":0,\"ticks\":\"\"},\"colorscale\":[[0.0,\"#0d0887\"],[0.1111111111111111,\"#46039f\"],[0.2222222222222222,\"#7201a8\"],[0.3333333333333333,\"#9c179e\"],[0.4444444444444444,\"#bd3786\"],[0.5555555555555556,\"#d8576b\"],[0.6666666666666666,\"#ed7953\"],[0.7777777777777778,\"#fb9f3a\"],[0.8888888888888888,\"#fdca26\"],[1.0,\"#f0f921\"]],\"type\":\"histogram2d\"}],\"histogram2dcontour\":[{\"colorbar\":{\"outlinewidth\":0,\"ticks\":\"\"},\"colorscale\":[[0.0,\"#0d0887\"],[0.1111111111111111,\"#46039f\"],[0.2222222222222222,\"#7201a8\"],[0.3333333333333333,\"#9c179e\"],[0.4444444444444444,\"#bd3786\"],[0.5555555555555556,\"#d8576b\"],[0.6666666666666666,\"#ed7953\"],[0.7777777777777778,\"#fb9f3a\"],[0.8888888888888888,\"#fdca26\"],[1.0,\"#f0f921\"]],\"type\":\"histogram2dcontour\"}],\"mesh3d\":[{\"colorbar\":{\"outlinewidth\":0,\"ticks\":\"\"},\"type\":\"mesh3d\"}],\"parcoords\":[{\"line\":{\"colorbar\":{\"outlinewidth\":0,\"ticks\":\"\"}},\"type\":\"parcoords\"}],\"pie\":[{\"automargin\":true,\"type\":\"pie\"}],\"scatter\":[{\"marker\":{\"colorbar\":{\"outlinewidth\":0,\"ticks\":\"\"}},\"type\":\"scatter\"}],\"scatter3d\":[{\"line\":{\"colorbar\":{\"outlinewidth\":0,\"ticks\":\"\"}},\"marker\":{\"colorbar\":{\"outlinewidth\":0,\"ticks\":\"\"}},\"type\":\"scatter3d\"}],\"scattercarpet\":[{\"marker\":{\"colorbar\":{\"outlinewidth\":0,\"ticks\":\"\"}},\"type\":\"scattercarpet\"}],\"scattergeo\":[{\"marker\":{\"colorbar\":{\"outlinewidth\":0,\"ticks\":\"\"}},\"type\":\"scattergeo\"}],\"scattergl\":[{\"marker\":{\"colorbar\":{\"outlinewidth\":0,\"ticks\":\"\"}},\"type\":\"scattergl\"}],\"scattermapbox\":[{\"marker\":{\"colorbar\":{\"outlinewidth\":0,\"ticks\":\"\"}},\"type\":\"scattermapbox\"}],\"scatterpolar\":[{\"marker\":{\"colorbar\":{\"outlinewidth\":0,\"ticks\":\"\"}},\"type\":\"scatterpolar\"}],\"scatterpolargl\":[{\"marker\":{\"colorbar\":{\"outlinewidth\":0,\"ticks\":\"\"}},\"type\":\"scatterpolargl\"}],\"scatterternary\":[{\"marker\":{\"colorbar\":{\"outlinewidth\":0,\"ticks\":\"\"}},\"type\":\"scatterternary\"}],\"surface\":[{\"colorbar\":{\"outlinewidth\":0,\"ticks\":\"\"},\"colorscale\":[[0.0,\"#0d0887\"],[0.1111111111111111,\"#46039f\"],[0.2222222222222222,\"#7201a8\"],[0.3333333333333333,\"#9c179e\"],[0.4444444444444444,\"#bd3786\"],[0.5555555555555556,\"#d8576b\"],[0.6666666666666666,\"#ed7953\"],[0.7777777777777778,\"#fb9f3a\"],[0.8888888888888888,\"#fdca26\"],[1.0,\"#f0f921\"]],\"type\":\"surface\"}],\"table\":[{\"cells\":{\"fill\":{\"color\":\"#EBF0F8\"},\"line\":{\"color\":\"white\"}},\"header\":{\"fill\":{\"color\":\"#C8D4E3\"},\"line\":{\"color\":\"white\"}},\"type\":\"table\"}]},\"layout\":{\"annotationdefaults\":{\"arrowcolor\":\"#2a3f5f\",\"arrowhead\":0,\"arrowwidth\":1},\"autotypenumbers\":\"strict\",\"coloraxis\":{\"colorbar\":{\"outlinewidth\":0,\"ticks\":\"\"}},\"colorscale\":{\"diverging\":[[0,\"#8e0152\"],[0.1,\"#c51b7d\"],[0.2,\"#de77ae\"],[0.3,\"#f1b6da\"],[0.4,\"#fde0ef\"],[0.5,\"#f7f7f7\"],[0.6,\"#e6f5d0\"],[0.7,\"#b8e186\"],[0.8,\"#7fbc41\"],[0.9,\"#4d9221\"],[1,\"#276419\"]],\"sequential\":[[0.0,\"#0d0887\"],[0.1111111111111111,\"#46039f\"],[0.2222222222222222,\"#7201a8\"],[0.3333333333333333,\"#9c179e\"],[0.4444444444444444,\"#bd3786\"],[0.5555555555555556,\"#d8576b\"],[0.6666666666666666,\"#ed7953\"],[0.7777777777777778,\"#fb9f3a\"],[0.8888888888888888,\"#fdca26\"],[1.0,\"#f0f921\"]],\"sequentialminus\":[[0.0,\"#0d0887\"],[0.1111111111111111,\"#46039f\"],[0.2222222222222222,\"#7201a8\"],[0.3333333333333333,\"#9c179e\"],[0.4444444444444444,\"#bd3786\"],[0.5555555555555556,\"#d8576b\"],[0.6666666666666666,\"#ed7953\"],[0.7777777777777778,\"#fb9f3a\"],[0.8888888888888888,\"#fdca26\"],[1.0,\"#f0f921\"]]},\"colorway\":[\"#636efa\",\"#EF553B\",\"#00cc96\",\"#ab63fa\",\"#FFA15A\",\"#19d3f3\",\"#FF6692\",\"#B6E880\",\"#FF97FF\",\"#FECB52\"],\"font\":{\"color\":\"#2a3f5f\"},\"geo\":{\"bgcolor\":\"white\",\"lakecolor\":\"white\",\"landcolor\":\"#E5ECF6\",\"showlakes\":true,\"showland\":true,\"subunitcolor\":\"white\"},\"hoverlabel\":{\"align\":\"left\"},\"hovermode\":\"closest\",\"mapbox\":{\"style\":\"light\"},\"paper_bgcolor\":\"white\",\"plot_bgcolor\":\"#E5ECF6\",\"polar\":{\"angularaxis\":{\"gridcolor\":\"white\",\"linecolor\":\"white\",\"ticks\":\"\"},\"bgcolor\":\"#E5ECF6\",\"radialaxis\":{\"gridcolor\":\"white\",\"linecolor\":\"white\",\"ticks\":\"\"}},\"scene\":{\"xaxis\":{\"backgroundcolor\":\"#E5ECF6\",\"gridcolor\":\"white\",\"gridwidth\":2,\"linecolor\":\"white\",\"showbackground\":true,\"ticks\":\"\",\"zerolinecolor\":\"white\"},\"yaxis\":{\"backgroundcolor\":\"#E5ECF6\",\"gridcolor\":\"white\",\"gridwidth\":2,\"linecolor\":\"white\",\"showbackground\":true,\"ticks\":\"\",\"zerolinecolor\":\"white\"},\"zaxis\":{\"backgroundcolor\":\"#E5ECF6\",\"gridcolor\":\"white\",\"gridwidth\":2,\"linecolor\":\"white\",\"showbackground\":true,\"ticks\":\"\",\"zerolinecolor\":\"white\"}},\"shapedefaults\":{\"line\":{\"color\":\"#2a3f5f\"}},\"ternary\":{\"aaxis\":{\"gridcolor\":\"white\",\"linecolor\":\"white\",\"ticks\":\"\"},\"baxis\":{\"gridcolor\":\"white\",\"linecolor\":\"white\",\"ticks\":\"\"},\"bgcolor\":\"#E5ECF6\",\"caxis\":{\"gridcolor\":\"white\",\"linecolor\":\"white\",\"ticks\":\"\"}},\"title\":{\"x\":0.05},\"xaxis\":{\"automargin\":true,\"gridcolor\":\"white\",\"linecolor\":\"white\",\"ticks\":\"\",\"title\":{\"standoff\":15},\"zerolinecolor\":\"white\",\"zerolinewidth\":2},\"yaxis\":{\"automargin\":true,\"gridcolor\":\"white\",\"linecolor\":\"white\",\"ticks\":\"\",\"title\":{\"standoff\":15},\"zerolinecolor\":\"white\",\"zerolinewidth\":2}}},\"geo\":{\"domain\":{\"x\":[0.0,1.0],\"y\":[0.0,1.0]},\"projection\":{\"type\":\"orthographic\"},\"center\":{}},\"legend\":{\"title\":{\"text\":\"name\"},\"tracegroupgap\":0},\"margin\":{\"t\":60}},                        {\"responsive\": true}                    ).then(function(){\n",
       "                            \n",
       "var gd = document.getElementById('fad269ce-f873-45b3-a2c1-7352294678e4');\n",
       "var x = new MutationObserver(function (mutations, observer) {{\n",
       "        var display = window.getComputedStyle(gd).display;\n",
       "        if (!display || display === 'none') {{\n",
       "            console.log([gd, 'removed!']);\n",
       "            Plotly.purge(gd);\n",
       "            observer.disconnect();\n",
       "        }}\n",
       "}});\n",
       "\n",
       "// Listen for the removal of the full notebook cells\n",
       "var notebookContainer = gd.closest('#notebook-container');\n",
       "if (notebookContainer) {{\n",
       "    x.observe(notebookContainer, {childList: true});\n",
       "}}\n",
       "\n",
       "// Listen for the clearing of the current output cell\n",
       "var outputEl = gd.closest('.output');\n",
       "if (outputEl) {{\n",
       "    x.observe(outputEl, {childList: true});\n",
       "}}\n",
       "\n",
       "                        })                };                });            </script>        </div>"
      ]
     },
     "metadata": {},
     "output_type": "display_data"
    }
   ],
   "source": [
    "#Set plot parameter\n",
    "\n",
    "map_fig = px.scatter_geo(country_data,\n",
    "                         locations = 'location',\n",
    "                         projection = 'orthographic',\n",
    "                         color = 'name',\n",
    "                         opacity = .8,\n",
    "                         hover_name = 'location',\n",
    "                         hover_data = ['1d.volume','website_url']\n",
    ")\n",
    "\n",
    "# Display Map\n",
    "map_fig.show()"
   ]
  },
  {
   "cell_type": "code",
   "execution_count": 100,
   "id": "89335721-676f-4557-a833-913de421a88e",
   "metadata": {},
   "outputs": [
    {
     "data": {
      "text/plain": [
       "'C:\\\\worldwide_exchanges.html'"
      ]
     },
     "execution_count": 100,
     "metadata": {},
     "output_type": "execute_result"
    }
   ],
   "source": [
    "# save offline copy of fully functional map\n",
    "plotly.offline.plot(map_fig,filename ='C:\\worldwide_exchanges.html', auto_open = True)\n"
   ]
  },
  {
   "cell_type": "code",
   "execution_count": null,
   "id": "dd3d5619-58c3-4a0e-be6b-3e9c46ffdeeb",
   "metadata": {},
   "outputs": [],
   "source": []
  }
 ],
 "metadata": {
  "kernelspec": {
   "display_name": "Python 3 (ipykernel)",
   "language": "python",
   "name": "python3"
  },
  "language_info": {
   "codemirror_mode": {
    "name": "ipython",
    "version": 3
   },
   "file_extension": ".py",
   "mimetype": "text/x-python",
   "name": "python",
   "nbconvert_exporter": "python",
   "pygments_lexer": "ipython3",
   "version": "3.7.11"
  }
 },
 "nbformat": 4,
 "nbformat_minor": 5
}
